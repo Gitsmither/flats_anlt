{
 "cells": [
  {
   "attachments": {},
   "cell_type": "markdown",
   "metadata": {},
   "source": [
    "# Исследование объявлений о продаже квартир\n",
    "\n",
    "В вашем распоряжении данные сервиса Яндекс.Недвижимость — архив объявлений о продаже квартир в Санкт-Петербурге и соседних населённых пунктов за несколько лет. Нужно научиться определять рыночную стоимость объектов недвижимости. Ваша задача — установить параметры. Это позволит построить автоматизированную систему: она отследит аномалии и мошенническую деятельность. \n",
    "\n",
    "По каждой квартире на продажу доступны два вида данных. Первые вписаны пользователем, вторые — получены автоматически на основе картографических данных. Например, расстояние до центра, аэропорта, ближайшего парка и водоёма. "
   ]
  },
  {
   "attachments": {},
   "cell_type": "markdown",
   "metadata": {},
   "source": [
    "## Ознакомление с данными и общая информация "
   ]
  },
  {
   "attachments": {},
   "cell_type": "markdown",
   "metadata": {},
   "source": [
    "### 1.1 Импорт библиотеки pandas и считывание данных из csv-файла."
   ]
  },
  {
   "cell_type": "code",
   "execution_count": 1,
   "metadata": {},
   "outputs": [],
   "source": [
    "import pandas as pd\n",
    "import matplotlib.pyplot as plt"
   ]
  },
  {
   "cell_type": "code",
   "execution_count": 2,
   "metadata": {},
   "outputs": [],
   "source": [
    "try:\n",
    "    data = pd.read_csv('/datasets/real_estate_data.csv', sep='\\t')\n",
    "except:\n",
    "    data = pd.read_csv('https://code.s3.yandex.net/datasets/real_estate_data.csv', sep='\\t')"
   ]
  },
  {
   "cell_type": "code",
   "execution_count": 3,
   "metadata": {
    "scrolled": false
   },
   "outputs": [
    {
     "data": {
      "text/html": [
       "<div>\n",
       "<style scoped>\n",
       "    .dataframe tbody tr th:only-of-type {\n",
       "        vertical-align: middle;\n",
       "    }\n",
       "\n",
       "    .dataframe tbody tr th {\n",
       "        vertical-align: top;\n",
       "    }\n",
       "\n",
       "    .dataframe thead th {\n",
       "        text-align: right;\n",
       "    }\n",
       "</style>\n",
       "<table border=\"1\" class=\"dataframe\">\n",
       "  <thead>\n",
       "    <tr style=\"text-align: right;\">\n",
       "      <th></th>\n",
       "      <th>total_images</th>\n",
       "      <th>last_price</th>\n",
       "      <th>total_area</th>\n",
       "      <th>first_day_exposition</th>\n",
       "      <th>rooms</th>\n",
       "      <th>ceiling_height</th>\n",
       "      <th>floors_total</th>\n",
       "      <th>living_area</th>\n",
       "      <th>floor</th>\n",
       "      <th>is_apartment</th>\n",
       "      <th>studio</th>\n",
       "      <th>open_plan</th>\n",
       "      <th>kitchen_area</th>\n",
       "      <th>balcony</th>\n",
       "      <th>locality_name</th>\n",
       "      <th>airports_nearest</th>\n",
       "      <th>cityCenters_nearest</th>\n",
       "      <th>parks_around3000</th>\n",
       "      <th>parks_nearest</th>\n",
       "      <th>ponds_around3000</th>\n",
       "      <th>ponds_nearest</th>\n",
       "      <th>days_exposition</th>\n",
       "    </tr>\n",
       "  </thead>\n",
       "  <tbody>\n",
       "    <tr>\n",
       "      <th>0</th>\n",
       "      <td>20</td>\n",
       "      <td>13000000.0</td>\n",
       "      <td>108.00</td>\n",
       "      <td>2019-03-07T00:00:00</td>\n",
       "      <td>3</td>\n",
       "      <td>2.70</td>\n",
       "      <td>16.0</td>\n",
       "      <td>51.00</td>\n",
       "      <td>8</td>\n",
       "      <td>NaN</td>\n",
       "      <td>False</td>\n",
       "      <td>False</td>\n",
       "      <td>25.00</td>\n",
       "      <td>NaN</td>\n",
       "      <td>Санкт-Петербург</td>\n",
       "      <td>18863.0</td>\n",
       "      <td>16028.0</td>\n",
       "      <td>1.0</td>\n",
       "      <td>482.0</td>\n",
       "      <td>2.0</td>\n",
       "      <td>755.0</td>\n",
       "      <td>NaN</td>\n",
       "    </tr>\n",
       "    <tr>\n",
       "      <th>1</th>\n",
       "      <td>7</td>\n",
       "      <td>3350000.0</td>\n",
       "      <td>40.40</td>\n",
       "      <td>2018-12-04T00:00:00</td>\n",
       "      <td>1</td>\n",
       "      <td>NaN</td>\n",
       "      <td>11.0</td>\n",
       "      <td>18.60</td>\n",
       "      <td>1</td>\n",
       "      <td>NaN</td>\n",
       "      <td>False</td>\n",
       "      <td>False</td>\n",
       "      <td>11.00</td>\n",
       "      <td>2.0</td>\n",
       "      <td>посёлок Шушары</td>\n",
       "      <td>12817.0</td>\n",
       "      <td>18603.0</td>\n",
       "      <td>0.0</td>\n",
       "      <td>NaN</td>\n",
       "      <td>0.0</td>\n",
       "      <td>NaN</td>\n",
       "      <td>81.0</td>\n",
       "    </tr>\n",
       "    <tr>\n",
       "      <th>2</th>\n",
       "      <td>10</td>\n",
       "      <td>5196000.0</td>\n",
       "      <td>56.00</td>\n",
       "      <td>2015-08-20T00:00:00</td>\n",
       "      <td>2</td>\n",
       "      <td>NaN</td>\n",
       "      <td>5.0</td>\n",
       "      <td>34.30</td>\n",
       "      <td>4</td>\n",
       "      <td>NaN</td>\n",
       "      <td>False</td>\n",
       "      <td>False</td>\n",
       "      <td>8.30</td>\n",
       "      <td>0.0</td>\n",
       "      <td>Санкт-Петербург</td>\n",
       "      <td>21741.0</td>\n",
       "      <td>13933.0</td>\n",
       "      <td>1.0</td>\n",
       "      <td>90.0</td>\n",
       "      <td>2.0</td>\n",
       "      <td>574.0</td>\n",
       "      <td>558.0</td>\n",
       "    </tr>\n",
       "    <tr>\n",
       "      <th>3</th>\n",
       "      <td>0</td>\n",
       "      <td>64900000.0</td>\n",
       "      <td>159.00</td>\n",
       "      <td>2015-07-24T00:00:00</td>\n",
       "      <td>3</td>\n",
       "      <td>NaN</td>\n",
       "      <td>14.0</td>\n",
       "      <td>NaN</td>\n",
       "      <td>9</td>\n",
       "      <td>NaN</td>\n",
       "      <td>False</td>\n",
       "      <td>False</td>\n",
       "      <td>NaN</td>\n",
       "      <td>0.0</td>\n",
       "      <td>Санкт-Петербург</td>\n",
       "      <td>28098.0</td>\n",
       "      <td>6800.0</td>\n",
       "      <td>2.0</td>\n",
       "      <td>84.0</td>\n",
       "      <td>3.0</td>\n",
       "      <td>234.0</td>\n",
       "      <td>424.0</td>\n",
       "    </tr>\n",
       "    <tr>\n",
       "      <th>4</th>\n",
       "      <td>2</td>\n",
       "      <td>10000000.0</td>\n",
       "      <td>100.00</td>\n",
       "      <td>2018-06-19T00:00:00</td>\n",
       "      <td>2</td>\n",
       "      <td>3.03</td>\n",
       "      <td>14.0</td>\n",
       "      <td>32.00</td>\n",
       "      <td>13</td>\n",
       "      <td>NaN</td>\n",
       "      <td>False</td>\n",
       "      <td>False</td>\n",
       "      <td>41.00</td>\n",
       "      <td>NaN</td>\n",
       "      <td>Санкт-Петербург</td>\n",
       "      <td>31856.0</td>\n",
       "      <td>8098.0</td>\n",
       "      <td>2.0</td>\n",
       "      <td>112.0</td>\n",
       "      <td>1.0</td>\n",
       "      <td>48.0</td>\n",
       "      <td>121.0</td>\n",
       "    </tr>\n",
       "    <tr>\n",
       "      <th>5</th>\n",
       "      <td>10</td>\n",
       "      <td>2890000.0</td>\n",
       "      <td>30.40</td>\n",
       "      <td>2018-09-10T00:00:00</td>\n",
       "      <td>1</td>\n",
       "      <td>NaN</td>\n",
       "      <td>12.0</td>\n",
       "      <td>14.40</td>\n",
       "      <td>5</td>\n",
       "      <td>NaN</td>\n",
       "      <td>False</td>\n",
       "      <td>False</td>\n",
       "      <td>9.10</td>\n",
       "      <td>NaN</td>\n",
       "      <td>городской посёлок Янино-1</td>\n",
       "      <td>NaN</td>\n",
       "      <td>NaN</td>\n",
       "      <td>NaN</td>\n",
       "      <td>NaN</td>\n",
       "      <td>NaN</td>\n",
       "      <td>NaN</td>\n",
       "      <td>55.0</td>\n",
       "    </tr>\n",
       "    <tr>\n",
       "      <th>6</th>\n",
       "      <td>6</td>\n",
       "      <td>3700000.0</td>\n",
       "      <td>37.30</td>\n",
       "      <td>2017-11-02T00:00:00</td>\n",
       "      <td>1</td>\n",
       "      <td>NaN</td>\n",
       "      <td>26.0</td>\n",
       "      <td>10.60</td>\n",
       "      <td>6</td>\n",
       "      <td>NaN</td>\n",
       "      <td>False</td>\n",
       "      <td>False</td>\n",
       "      <td>14.40</td>\n",
       "      <td>1.0</td>\n",
       "      <td>посёлок Парголово</td>\n",
       "      <td>52996.0</td>\n",
       "      <td>19143.0</td>\n",
       "      <td>0.0</td>\n",
       "      <td>NaN</td>\n",
       "      <td>0.0</td>\n",
       "      <td>NaN</td>\n",
       "      <td>155.0</td>\n",
       "    </tr>\n",
       "    <tr>\n",
       "      <th>7</th>\n",
       "      <td>5</td>\n",
       "      <td>7915000.0</td>\n",
       "      <td>71.60</td>\n",
       "      <td>2019-04-18T00:00:00</td>\n",
       "      <td>2</td>\n",
       "      <td>NaN</td>\n",
       "      <td>24.0</td>\n",
       "      <td>NaN</td>\n",
       "      <td>22</td>\n",
       "      <td>NaN</td>\n",
       "      <td>False</td>\n",
       "      <td>False</td>\n",
       "      <td>18.90</td>\n",
       "      <td>2.0</td>\n",
       "      <td>Санкт-Петербург</td>\n",
       "      <td>23982.0</td>\n",
       "      <td>11634.0</td>\n",
       "      <td>0.0</td>\n",
       "      <td>NaN</td>\n",
       "      <td>0.0</td>\n",
       "      <td>NaN</td>\n",
       "      <td>NaN</td>\n",
       "    </tr>\n",
       "    <tr>\n",
       "      <th>8</th>\n",
       "      <td>20</td>\n",
       "      <td>2900000.0</td>\n",
       "      <td>33.16</td>\n",
       "      <td>2018-05-23T00:00:00</td>\n",
       "      <td>1</td>\n",
       "      <td>NaN</td>\n",
       "      <td>27.0</td>\n",
       "      <td>15.43</td>\n",
       "      <td>26</td>\n",
       "      <td>NaN</td>\n",
       "      <td>False</td>\n",
       "      <td>False</td>\n",
       "      <td>8.81</td>\n",
       "      <td>NaN</td>\n",
       "      <td>посёлок Мурино</td>\n",
       "      <td>NaN</td>\n",
       "      <td>NaN</td>\n",
       "      <td>NaN</td>\n",
       "      <td>NaN</td>\n",
       "      <td>NaN</td>\n",
       "      <td>NaN</td>\n",
       "      <td>189.0</td>\n",
       "    </tr>\n",
       "    <tr>\n",
       "      <th>9</th>\n",
       "      <td>18</td>\n",
       "      <td>5400000.0</td>\n",
       "      <td>61.00</td>\n",
       "      <td>2017-02-26T00:00:00</td>\n",
       "      <td>3</td>\n",
       "      <td>2.50</td>\n",
       "      <td>9.0</td>\n",
       "      <td>43.60</td>\n",
       "      <td>7</td>\n",
       "      <td>NaN</td>\n",
       "      <td>False</td>\n",
       "      <td>False</td>\n",
       "      <td>6.50</td>\n",
       "      <td>2.0</td>\n",
       "      <td>Санкт-Петербург</td>\n",
       "      <td>50898.0</td>\n",
       "      <td>15008.0</td>\n",
       "      <td>0.0</td>\n",
       "      <td>NaN</td>\n",
       "      <td>0.0</td>\n",
       "      <td>NaN</td>\n",
       "      <td>289.0</td>\n",
       "    </tr>\n",
       "    <tr>\n",
       "      <th>10</th>\n",
       "      <td>5</td>\n",
       "      <td>5050000.0</td>\n",
       "      <td>39.60</td>\n",
       "      <td>2017-11-16T00:00:00</td>\n",
       "      <td>1</td>\n",
       "      <td>2.67</td>\n",
       "      <td>12.0</td>\n",
       "      <td>20.30</td>\n",
       "      <td>3</td>\n",
       "      <td>NaN</td>\n",
       "      <td>False</td>\n",
       "      <td>False</td>\n",
       "      <td>8.50</td>\n",
       "      <td>NaN</td>\n",
       "      <td>Санкт-Петербург</td>\n",
       "      <td>38357.0</td>\n",
       "      <td>13878.0</td>\n",
       "      <td>1.0</td>\n",
       "      <td>310.0</td>\n",
       "      <td>2.0</td>\n",
       "      <td>553.0</td>\n",
       "      <td>137.0</td>\n",
       "    </tr>\n",
       "    <tr>\n",
       "      <th>11</th>\n",
       "      <td>9</td>\n",
       "      <td>3300000.0</td>\n",
       "      <td>44.00</td>\n",
       "      <td>2018-08-27T00:00:00</td>\n",
       "      <td>2</td>\n",
       "      <td>NaN</td>\n",
       "      <td>5.0</td>\n",
       "      <td>31.00</td>\n",
       "      <td>4</td>\n",
       "      <td>False</td>\n",
       "      <td>False</td>\n",
       "      <td>False</td>\n",
       "      <td>6.00</td>\n",
       "      <td>1.0</td>\n",
       "      <td>Ломоносов</td>\n",
       "      <td>48252.0</td>\n",
       "      <td>51677.0</td>\n",
       "      <td>0.0</td>\n",
       "      <td>NaN</td>\n",
       "      <td>0.0</td>\n",
       "      <td>NaN</td>\n",
       "      <td>7.0</td>\n",
       "    </tr>\n",
       "    <tr>\n",
       "      <th>12</th>\n",
       "      <td>10</td>\n",
       "      <td>3890000.0</td>\n",
       "      <td>54.00</td>\n",
       "      <td>2016-06-30T00:00:00</td>\n",
       "      <td>2</td>\n",
       "      <td>NaN</td>\n",
       "      <td>5.0</td>\n",
       "      <td>30.00</td>\n",
       "      <td>5</td>\n",
       "      <td>NaN</td>\n",
       "      <td>False</td>\n",
       "      <td>False</td>\n",
       "      <td>9.00</td>\n",
       "      <td>0.0</td>\n",
       "      <td>Сертолово</td>\n",
       "      <td>NaN</td>\n",
       "      <td>NaN</td>\n",
       "      <td>NaN</td>\n",
       "      <td>NaN</td>\n",
       "      <td>NaN</td>\n",
       "      <td>NaN</td>\n",
       "      <td>90.0</td>\n",
       "    </tr>\n",
       "    <tr>\n",
       "      <th>13</th>\n",
       "      <td>20</td>\n",
       "      <td>3550000.0</td>\n",
       "      <td>42.80</td>\n",
       "      <td>2017-07-01T00:00:00</td>\n",
       "      <td>2</td>\n",
       "      <td>2.56</td>\n",
       "      <td>5.0</td>\n",
       "      <td>27.00</td>\n",
       "      <td>5</td>\n",
       "      <td>NaN</td>\n",
       "      <td>False</td>\n",
       "      <td>False</td>\n",
       "      <td>5.20</td>\n",
       "      <td>1.0</td>\n",
       "      <td>Петергоф</td>\n",
       "      <td>37868.0</td>\n",
       "      <td>33058.0</td>\n",
       "      <td>1.0</td>\n",
       "      <td>294.0</td>\n",
       "      <td>3.0</td>\n",
       "      <td>298.0</td>\n",
       "      <td>366.0</td>\n",
       "    </tr>\n",
       "    <tr>\n",
       "      <th>14</th>\n",
       "      <td>1</td>\n",
       "      <td>4400000.0</td>\n",
       "      <td>36.00</td>\n",
       "      <td>2016-06-23T00:00:00</td>\n",
       "      <td>1</td>\n",
       "      <td>NaN</td>\n",
       "      <td>6.0</td>\n",
       "      <td>17.00</td>\n",
       "      <td>1</td>\n",
       "      <td>NaN</td>\n",
       "      <td>False</td>\n",
       "      <td>False</td>\n",
       "      <td>8.00</td>\n",
       "      <td>0.0</td>\n",
       "      <td>Пушкин</td>\n",
       "      <td>20782.0</td>\n",
       "      <td>30759.0</td>\n",
       "      <td>0.0</td>\n",
       "      <td>NaN</td>\n",
       "      <td>1.0</td>\n",
       "      <td>96.0</td>\n",
       "      <td>203.0</td>\n",
       "    </tr>\n",
       "    <tr>\n",
       "      <th>15</th>\n",
       "      <td>16</td>\n",
       "      <td>4650000.0</td>\n",
       "      <td>39.00</td>\n",
       "      <td>2017-11-18T00:00:00</td>\n",
       "      <td>1</td>\n",
       "      <td>NaN</td>\n",
       "      <td>14.0</td>\n",
       "      <td>20.50</td>\n",
       "      <td>5</td>\n",
       "      <td>NaN</td>\n",
       "      <td>False</td>\n",
       "      <td>False</td>\n",
       "      <td>7.60</td>\n",
       "      <td>1.0</td>\n",
       "      <td>Санкт-Петербург</td>\n",
       "      <td>12900.0</td>\n",
       "      <td>14259.0</td>\n",
       "      <td>1.0</td>\n",
       "      <td>590.0</td>\n",
       "      <td>1.0</td>\n",
       "      <td>296.0</td>\n",
       "      <td>19.0</td>\n",
       "    </tr>\n",
       "    <tr>\n",
       "      <th>16</th>\n",
       "      <td>11</td>\n",
       "      <td>6700000.0</td>\n",
       "      <td>82.00</td>\n",
       "      <td>2017-11-23T00:00:00</td>\n",
       "      <td>3</td>\n",
       "      <td>3.05</td>\n",
       "      <td>5.0</td>\n",
       "      <td>55.60</td>\n",
       "      <td>1</td>\n",
       "      <td>NaN</td>\n",
       "      <td>False</td>\n",
       "      <td>False</td>\n",
       "      <td>9.00</td>\n",
       "      <td>NaN</td>\n",
       "      <td>Санкт-Петербург</td>\n",
       "      <td>22108.0</td>\n",
       "      <td>10698.0</td>\n",
       "      <td>3.0</td>\n",
       "      <td>420.0</td>\n",
       "      <td>0.0</td>\n",
       "      <td>NaN</td>\n",
       "      <td>397.0</td>\n",
       "    </tr>\n",
       "    <tr>\n",
       "      <th>17</th>\n",
       "      <td>6</td>\n",
       "      <td>4180000.0</td>\n",
       "      <td>36.00</td>\n",
       "      <td>2016-09-09T00:00:00</td>\n",
       "      <td>1</td>\n",
       "      <td>NaN</td>\n",
       "      <td>17.0</td>\n",
       "      <td>16.50</td>\n",
       "      <td>7</td>\n",
       "      <td>NaN</td>\n",
       "      <td>False</td>\n",
       "      <td>False</td>\n",
       "      <td>11.00</td>\n",
       "      <td>1.0</td>\n",
       "      <td>Санкт-Петербург</td>\n",
       "      <td>33564.0</td>\n",
       "      <td>14616.0</td>\n",
       "      <td>0.0</td>\n",
       "      <td>NaN</td>\n",
       "      <td>1.0</td>\n",
       "      <td>859.0</td>\n",
       "      <td>571.0</td>\n",
       "    </tr>\n",
       "    <tr>\n",
       "      <th>18</th>\n",
       "      <td>8</td>\n",
       "      <td>3250000.0</td>\n",
       "      <td>31.00</td>\n",
       "      <td>2017-01-27T00:00:00</td>\n",
       "      <td>1</td>\n",
       "      <td>2.50</td>\n",
       "      <td>5.0</td>\n",
       "      <td>19.40</td>\n",
       "      <td>2</td>\n",
       "      <td>NaN</td>\n",
       "      <td>False</td>\n",
       "      <td>False</td>\n",
       "      <td>5.60</td>\n",
       "      <td>1.0</td>\n",
       "      <td>Санкт-Петербург</td>\n",
       "      <td>44060.0</td>\n",
       "      <td>10842.0</td>\n",
       "      <td>1.0</td>\n",
       "      <td>759.0</td>\n",
       "      <td>0.0</td>\n",
       "      <td>NaN</td>\n",
       "      <td>168.0</td>\n",
       "    </tr>\n",
       "    <tr>\n",
       "      <th>19</th>\n",
       "      <td>16</td>\n",
       "      <td>14200000.0</td>\n",
       "      <td>121.00</td>\n",
       "      <td>2019-01-09T00:00:00</td>\n",
       "      <td>3</td>\n",
       "      <td>2.75</td>\n",
       "      <td>16.0</td>\n",
       "      <td>76.00</td>\n",
       "      <td>8</td>\n",
       "      <td>NaN</td>\n",
       "      <td>False</td>\n",
       "      <td>False</td>\n",
       "      <td>12.00</td>\n",
       "      <td>NaN</td>\n",
       "      <td>Санкт-Петербург</td>\n",
       "      <td>38900.0</td>\n",
       "      <td>12843.0</td>\n",
       "      <td>0.0</td>\n",
       "      <td>NaN</td>\n",
       "      <td>0.0</td>\n",
       "      <td>NaN</td>\n",
       "      <td>97.0</td>\n",
       "    </tr>\n",
       "  </tbody>\n",
       "</table>\n",
       "</div>"
      ],
      "text/plain": [
       "    total_images  last_price  total_area first_day_exposition  rooms  \\\n",
       "0             20  13000000.0      108.00  2019-03-07T00:00:00      3   \n",
       "1              7   3350000.0       40.40  2018-12-04T00:00:00      1   \n",
       "2             10   5196000.0       56.00  2015-08-20T00:00:00      2   \n",
       "3              0  64900000.0      159.00  2015-07-24T00:00:00      3   \n",
       "4              2  10000000.0      100.00  2018-06-19T00:00:00      2   \n",
       "5             10   2890000.0       30.40  2018-09-10T00:00:00      1   \n",
       "6              6   3700000.0       37.30  2017-11-02T00:00:00      1   \n",
       "7              5   7915000.0       71.60  2019-04-18T00:00:00      2   \n",
       "8             20   2900000.0       33.16  2018-05-23T00:00:00      1   \n",
       "9             18   5400000.0       61.00  2017-02-26T00:00:00      3   \n",
       "10             5   5050000.0       39.60  2017-11-16T00:00:00      1   \n",
       "11             9   3300000.0       44.00  2018-08-27T00:00:00      2   \n",
       "12            10   3890000.0       54.00  2016-06-30T00:00:00      2   \n",
       "13            20   3550000.0       42.80  2017-07-01T00:00:00      2   \n",
       "14             1   4400000.0       36.00  2016-06-23T00:00:00      1   \n",
       "15            16   4650000.0       39.00  2017-11-18T00:00:00      1   \n",
       "16            11   6700000.0       82.00  2017-11-23T00:00:00      3   \n",
       "17             6   4180000.0       36.00  2016-09-09T00:00:00      1   \n",
       "18             8   3250000.0       31.00  2017-01-27T00:00:00      1   \n",
       "19            16  14200000.0      121.00  2019-01-09T00:00:00      3   \n",
       "\n",
       "    ceiling_height  floors_total  living_area  floor is_apartment  studio  \\\n",
       "0             2.70          16.0        51.00      8          NaN   False   \n",
       "1              NaN          11.0        18.60      1          NaN   False   \n",
       "2              NaN           5.0        34.30      4          NaN   False   \n",
       "3              NaN          14.0          NaN      9          NaN   False   \n",
       "4             3.03          14.0        32.00     13          NaN   False   \n",
       "5              NaN          12.0        14.40      5          NaN   False   \n",
       "6              NaN          26.0        10.60      6          NaN   False   \n",
       "7              NaN          24.0          NaN     22          NaN   False   \n",
       "8              NaN          27.0        15.43     26          NaN   False   \n",
       "9             2.50           9.0        43.60      7          NaN   False   \n",
       "10            2.67          12.0        20.30      3          NaN   False   \n",
       "11             NaN           5.0        31.00      4        False   False   \n",
       "12             NaN           5.0        30.00      5          NaN   False   \n",
       "13            2.56           5.0        27.00      5          NaN   False   \n",
       "14             NaN           6.0        17.00      1          NaN   False   \n",
       "15             NaN          14.0        20.50      5          NaN   False   \n",
       "16            3.05           5.0        55.60      1          NaN   False   \n",
       "17             NaN          17.0        16.50      7          NaN   False   \n",
       "18            2.50           5.0        19.40      2          NaN   False   \n",
       "19            2.75          16.0        76.00      8          NaN   False   \n",
       "\n",
       "    open_plan  kitchen_area  balcony              locality_name  \\\n",
       "0       False         25.00      NaN            Санкт-Петербург   \n",
       "1       False         11.00      2.0             посёлок Шушары   \n",
       "2       False          8.30      0.0            Санкт-Петербург   \n",
       "3       False           NaN      0.0            Санкт-Петербург   \n",
       "4       False         41.00      NaN            Санкт-Петербург   \n",
       "5       False          9.10      NaN  городской посёлок Янино-1   \n",
       "6       False         14.40      1.0          посёлок Парголово   \n",
       "7       False         18.90      2.0            Санкт-Петербург   \n",
       "8       False          8.81      NaN             посёлок Мурино   \n",
       "9       False          6.50      2.0            Санкт-Петербург   \n",
       "10      False          8.50      NaN            Санкт-Петербург   \n",
       "11      False          6.00      1.0                  Ломоносов   \n",
       "12      False          9.00      0.0                  Сертолово   \n",
       "13      False          5.20      1.0                   Петергоф   \n",
       "14      False          8.00      0.0                     Пушкин   \n",
       "15      False          7.60      1.0            Санкт-Петербург   \n",
       "16      False          9.00      NaN            Санкт-Петербург   \n",
       "17      False         11.00      1.0            Санкт-Петербург   \n",
       "18      False          5.60      1.0            Санкт-Петербург   \n",
       "19      False         12.00      NaN            Санкт-Петербург   \n",
       "\n",
       "    airports_nearest  cityCenters_nearest  parks_around3000  parks_nearest  \\\n",
       "0            18863.0              16028.0               1.0          482.0   \n",
       "1            12817.0              18603.0               0.0            NaN   \n",
       "2            21741.0              13933.0               1.0           90.0   \n",
       "3            28098.0               6800.0               2.0           84.0   \n",
       "4            31856.0               8098.0               2.0          112.0   \n",
       "5                NaN                  NaN               NaN            NaN   \n",
       "6            52996.0              19143.0               0.0            NaN   \n",
       "7            23982.0              11634.0               0.0            NaN   \n",
       "8                NaN                  NaN               NaN            NaN   \n",
       "9            50898.0              15008.0               0.0            NaN   \n",
       "10           38357.0              13878.0               1.0          310.0   \n",
       "11           48252.0              51677.0               0.0            NaN   \n",
       "12               NaN                  NaN               NaN            NaN   \n",
       "13           37868.0              33058.0               1.0          294.0   \n",
       "14           20782.0              30759.0               0.0            NaN   \n",
       "15           12900.0              14259.0               1.0          590.0   \n",
       "16           22108.0              10698.0               3.0          420.0   \n",
       "17           33564.0              14616.0               0.0            NaN   \n",
       "18           44060.0              10842.0               1.0          759.0   \n",
       "19           38900.0              12843.0               0.0            NaN   \n",
       "\n",
       "    ponds_around3000  ponds_nearest  days_exposition  \n",
       "0                2.0          755.0              NaN  \n",
       "1                0.0            NaN             81.0  \n",
       "2                2.0          574.0            558.0  \n",
       "3                3.0          234.0            424.0  \n",
       "4                1.0           48.0            121.0  \n",
       "5                NaN            NaN             55.0  \n",
       "6                0.0            NaN            155.0  \n",
       "7                0.0            NaN              NaN  \n",
       "8                NaN            NaN            189.0  \n",
       "9                0.0            NaN            289.0  \n",
       "10               2.0          553.0            137.0  \n",
       "11               0.0            NaN              7.0  \n",
       "12               NaN            NaN             90.0  \n",
       "13               3.0          298.0            366.0  \n",
       "14               1.0           96.0            203.0  \n",
       "15               1.0          296.0             19.0  \n",
       "16               0.0            NaN            397.0  \n",
       "17               1.0          859.0            571.0  \n",
       "18               0.0            NaN            168.0  \n",
       "19               0.0            NaN             97.0  "
      ]
     },
     "execution_count": 3,
     "metadata": {},
     "output_type": "execute_result"
    }
   ],
   "source": [
    "pd.set_option('display.max_columns', None)\n",
    "data.head(20)"
   ]
  },
  {
   "cell_type": "code",
   "execution_count": 4,
   "metadata": {
    "scrolled": false
   },
   "outputs": [
    {
     "name": "stdout",
     "output_type": "stream",
     "text": [
      "<class 'pandas.core.frame.DataFrame'>\n",
      "RangeIndex: 23699 entries, 0 to 23698\n",
      "Data columns (total 22 columns):\n",
      " #   Column                Non-Null Count  Dtype  \n",
      "---  ------                --------------  -----  \n",
      " 0   total_images          23699 non-null  int64  \n",
      " 1   last_price            23699 non-null  float64\n",
      " 2   total_area            23699 non-null  float64\n",
      " 3   first_day_exposition  23699 non-null  object \n",
      " 4   rooms                 23699 non-null  int64  \n",
      " 5   ceiling_height        14504 non-null  float64\n",
      " 6   floors_total          23613 non-null  float64\n",
      " 7   living_area           21796 non-null  float64\n",
      " 8   floor                 23699 non-null  int64  \n",
      " 9   is_apartment          2775 non-null   object \n",
      " 10  studio                23699 non-null  bool   \n",
      " 11  open_plan             23699 non-null  bool   \n",
      " 12  kitchen_area          21421 non-null  float64\n",
      " 13  balcony               12180 non-null  float64\n",
      " 14  locality_name         23650 non-null  object \n",
      " 15  airports_nearest      18157 non-null  float64\n",
      " 16  cityCenters_nearest   18180 non-null  float64\n",
      " 17  parks_around3000      18181 non-null  float64\n",
      " 18  parks_nearest         8079 non-null   float64\n",
      " 19  ponds_around3000      18181 non-null  float64\n",
      " 20  ponds_nearest         9110 non-null   float64\n",
      " 21  days_exposition       20518 non-null  float64\n",
      "dtypes: bool(2), float64(14), int64(3), object(3)\n",
      "memory usage: 3.7+ MB\n"
     ]
    }
   ],
   "source": [
    "data.info()"
   ]
  },
  {
   "attachments": {},
   "cell_type": "markdown",
   "metadata": {},
   "source": [
    "В таблице 21 столбец. Присутствуют столбцы с большим числом пропущенных данных, а также имеются проблемы с типом данных."
   ]
  },
  {
   "attachments": {},
   "cell_type": "markdown",
   "metadata": {},
   "source": [
    "**1.4 Гистограмма для всех числовых столбцов таблицы.**"
   ]
  },
  {
   "cell_type": "code",
   "execution_count": 5,
   "metadata": {},
   "outputs": [
    {
     "data": {
      "image/png": "[encoded data removed]",
      "text/plain": [
       "<Figure size 1080x1440 with 20 Axes>"
      ]
     },
     "metadata": {
      "needs_background": "light"
     },
     "output_type": "display_data"
    }
   ],
   "source": [
    "# С помощью метода \"DataFrame.select_dtypes()\" библиотеки Pandas получим датафрейм с числовыми столбцами\n",
    "numerical_data = data.select_dtypes(include=['int64', 'float64'])\n",
    "numerical_data.hist(bins=100, figsize=(15, 20));"
   ]
  },
  {
   "attachments": {},
   "cell_type": "markdown",
   "metadata": {},
   "source": [
    "Графики полученного набора гистограмм для полноценного анализа пока являются \"сырыми\". Исследовательский анализ данных, который позволит получить более \"полезные\" в рамках данного проекта гистограммы, будет произведен позже, а пока необходимо выполнить предобработку данных.  "
   ]
  },
  {
   "attachments": {},
   "cell_type": "markdown",
   "metadata": {},
   "source": [
    "## Предобработка данных"
   ]
  },
  {
   "attachments": {},
   "cell_type": "markdown",
   "metadata": {},
   "source": [
    "### 2.1 Работа с пропусками"
   ]
  },
  {
   "cell_type": "code",
   "execution_count": 6,
   "metadata": {},
   "outputs": [
    {
     "data": {
      "text/plain": [
       "is_apartment            20924\n",
       "parks_nearest           15620\n",
       "ponds_nearest           14589\n",
       "balcony                 11519\n",
       "ceiling_height           9195\n",
       "airports_nearest         5542\n",
       "cityCenters_nearest      5519\n",
       "ponds_around3000         5518\n",
       "parks_around3000         5518\n",
       "days_exposition          3181\n",
       "kitchen_area             2278\n",
       "living_area              1903\n",
       "floors_total               86\n",
       "locality_name              49\n",
       "total_images                0\n",
       "last_price                  0\n",
       "studio                      0\n",
       "floor                       0\n",
       "rooms                       0\n",
       "first_day_exposition        0\n",
       "total_area                  0\n",
       "open_plan                   0\n",
       "dtype: int64"
      ]
     },
     "execution_count": 6,
     "metadata": {},
     "output_type": "execute_result"
    }
   ],
   "source": [
    "# подсчет кол-ва пропусков для каждого столбца\n",
    "data.isna().sum().sort_values(ascending=False)"
   ]
  },
  {
   "attachments": {},
   "cell_type": "markdown",
   "metadata": {},
   "source": [
    "* Из таблицы можно видеть, что больше всего значений пропущено в столбце `is_apartment`. Определим, какие значения там есть вообще:"
   ]
  },
  {
   "cell_type": "code",
   "execution_count": 7,
   "metadata": {},
   "outputs": [
    {
     "data": {
      "text/plain": [
       "False    2725\n",
       "True       50\n",
       "Name: is_apartment, dtype: int64"
      ]
     },
     "execution_count": 7,
     "metadata": {},
     "output_type": "execute_result"
    }
   ],
   "source": [
    "data['is_apartment'].value_counts()"
   ]
  },
  {
   "attachments": {},
   "cell_type": "markdown",
   "metadata": {},
   "source": [
    "Как видно, есть оба значения (является и не является апартаментом). Едва ли вероятно, то что отсутствующие значения в столбце \n",
    "соответствуют квартирам НЕ апартаментам (т.е. имеющими значение False), т.к. в этом случае их число достигло бы 23649 (т.е. 99.9%). Поскольку эта категория данных определяется пользователем квартиры, то возможно подавляющее большинство пользователей просто не могли знать в чем заключается отличие между квартирой и апартаментом (и не захотели уточнять) и потому просто оставляли данное поле не заполненным."
   ]
  },
  {
   "attachments": {},
   "cell_type": "markdown",
   "metadata": {},
   "source": [
    " * Второй и третьей (с небольшим отрывом) по пропущенным значениям оказались категории `parks_nearest` и `ponds_nearest`. Данные значения определяют расстояние до ближайшего парка и водоема соответственно. Эти типы данных загружались в базу данных автоматизированной системой (геосервисом), поэтому можно предположить, что такое большое кол-во недостающих данных связаны в ошибке работы этой самой системы. По итогу, примерно 63% по обоим категориям оказались не загружены в итоговую таблицу."
   ]
  },
  {
   "attachments": {},
   "cell_type": "markdown",
   "metadata": {},
   "source": [
    "Основная цель проекта - определить как отдельные факторы (согласно ТЗ - это общая площадь; жилая площадь; площадь кухни; количество комнат; этаж; дата размещения на продажу) влияют на цену квартиры. Вышеприведенные 2 параметра в эти факторы не входят и потому в рамках данного проекта их можно просто оставить в исходном виде. "
   ]
  },
  {
   "attachments": {},
   "cell_type": "markdown",
   "metadata": {},
   "source": [
    " * На 4-ом месте группа данных по балконам. Определим какие значения здесь есть вообще: "
   ]
  },
  {
   "cell_type": "code",
   "execution_count": 8,
   "metadata": {},
   "outputs": [
    {
     "data": {
      "text/plain": [
       "1.0    4195\n",
       "0.0    3758\n",
       "2.0    3659\n",
       "5.0     304\n",
       "4.0     183\n",
       "3.0      81\n",
       "Name: balcony, dtype: int64"
      ]
     },
     "execution_count": 8,
     "metadata": {},
     "output_type": "execute_result"
    }
   ],
   "source": [
    "data['balcony'].value_counts()"
   ]
  },
  {
   "attachments": {},
   "cell_type": "markdown",
   "metadata": {},
   "source": [
    "Если посчитать, что пустые ячейки столбца `balcony` соответствуют значению 0 (нет балкона), то тогда процент квартир без балкона составит 64.4%, что, в принципе, выглядит адекватно. Пропуск данного значения может быть связан с тем, что пользователи при отсутствии балкон-а/ов просто не вписывали никаких значений. В любом случае, заменим NaN на 0:"
   ]
  },
  {
   "cell_type": "code",
   "execution_count": 9,
   "metadata": {},
   "outputs": [],
   "source": [
    "data['balcony'] = data['balcony'].fillna(0)"
   ]
  },
  {
   "attachments": {},
   "cell_type": "markdown",
   "metadata": {},
   "source": [
    "* На 5-ом месте по пропускам `ceiling_height` или высота потолков. Столбец не заполнен на 39%. Можно предположить, что высота потолка может зависить или от общего количества этажей в доме `floors_total` - высота всего дома так или иначе влияет на высоту потолков, или от цены `last_price` - более дорогие квартиры наверное имеют высокие потолки и наоборот, или от удаленности от центра `cityCenters_nearest` (это особенно характерно для Петербурга с его исторической застройкой (коммуналки, сталинки и т.д.) в центре и большим кол-вом \"панельного\" жилья ближе к окраинам/спальным районам, где потолки как правило имеют меньшую высоту). Для того чтобы попытаться определить степень взаимосвязи (или корреляции) `ceiling_height` от 3 приведенных параметров воспользуемся критерием Пирсона:"
   ]
  },
  {
   "cell_type": "code",
   "execution_count": 10,
   "metadata": {},
   "outputs": [
    {
     "data": {
      "text/plain": [
       "-0.028731894622727384"
      ]
     },
     "metadata": {},
     "output_type": "display_data"
    },
    {
     "data": {
      "text/plain": [
       "0.08543030982842605"
      ]
     },
     "metadata": {},
     "output_type": "display_data"
    },
    {
     "data": {
      "text/plain": [
       "-0.09168887614722751"
      ]
     },
     "metadata": {},
     "output_type": "display_data"
    }
   ],
   "source": [
    "display(data['ceiling_height'].corr(data['floors_total']))\n",
    "display(data['ceiling_height'].corr(data['last_price']))\n",
    "display(data['ceiling_height'].corr(data['cityCenters_nearest']))"
   ]
  },
  {
   "attachments": {},
   "cell_type": "markdown",
   "metadata": {},
   "source": [
    "Критерий Пирсона во всех 3 случаях стремится к 0 и потому говорить о какой-то очевидной зависимости пока не приходится. Для заполнения пропущенных значений `ceiling_height` предпочтительнее использовать `floors_total`, так как процент пустых ячеек здесь мал (0.4%) и есть четкое разделение на группы по \"этажности\". Параметр `last_price` менее подходящий, так как связь между ценой и высотой потолков кажется менее очевидной. Параметр `cityCenters_nearest` подходит в меньшей степени, поскольку имеет больший процент пропущенных значений - 23%.\n",
    "\n",
    "Причина пропуска значений в этом столбце - пользователи квартир либо не имели возможности замерить высоту потолков, либо у них банально не было желания это делать."
   ]
  },
  {
   "cell_type": "code",
   "execution_count": 11,
   "metadata": {},
   "outputs": [
    {
     "data": {
      "text/html": [
       "<div>\n",
       "<style scoped>\n",
       "    .dataframe tbody tr th:only-of-type {\n",
       "        vertical-align: middle;\n",
       "    }\n",
       "\n",
       "    .dataframe tbody tr th {\n",
       "        vertical-align: top;\n",
       "    }\n",
       "\n",
       "    .dataframe thead th {\n",
       "        text-align: right;\n",
       "    }\n",
       "</style>\n",
       "<table border=\"1\" class=\"dataframe\">\n",
       "  <thead>\n",
       "    <tr style=\"text-align: right;\">\n",
       "      <th></th>\n",
       "      <th>median</th>\n",
       "    </tr>\n",
       "    <tr>\n",
       "      <th>floors_total</th>\n",
       "      <th></th>\n",
       "    </tr>\n",
       "  </thead>\n",
       "  <tbody>\n",
       "    <tr>\n",
       "      <th>1.0</th>\n",
       "      <td>2.80</td>\n",
       "    </tr>\n",
       "    <tr>\n",
       "      <th>2.0</th>\n",
       "      <td>2.70</td>\n",
       "    </tr>\n",
       "    <tr>\n",
       "      <th>3.0</th>\n",
       "      <td>2.80</td>\n",
       "    </tr>\n",
       "    <tr>\n",
       "      <th>4.0</th>\n",
       "      <td>3.00</td>\n",
       "    </tr>\n",
       "    <tr>\n",
       "      <th>5.0</th>\n",
       "      <td>2.55</td>\n",
       "    </tr>\n",
       "    <tr>\n",
       "      <th>6.0</th>\n",
       "      <td>3.00</td>\n",
       "    </tr>\n",
       "    <tr>\n",
       "      <th>7.0</th>\n",
       "      <td>3.00</td>\n",
       "    </tr>\n",
       "    <tr>\n",
       "      <th>8.0</th>\n",
       "      <td>2.80</td>\n",
       "    </tr>\n",
       "    <tr>\n",
       "      <th>9.0</th>\n",
       "      <td>2.55</td>\n",
       "    </tr>\n",
       "    <tr>\n",
       "      <th>10.0</th>\n",
       "      <td>2.60</td>\n",
       "    </tr>\n",
       "    <tr>\n",
       "      <th>11.0</th>\n",
       "      <td>2.75</td>\n",
       "    </tr>\n",
       "    <tr>\n",
       "      <th>12.0</th>\n",
       "      <td>2.65</td>\n",
       "    </tr>\n",
       "    <tr>\n",
       "      <th>13.0</th>\n",
       "      <td>2.70</td>\n",
       "    </tr>\n",
       "    <tr>\n",
       "      <th>14.0</th>\n",
       "      <td>2.60</td>\n",
       "    </tr>\n",
       "    <tr>\n",
       "      <th>15.0</th>\n",
       "      <td>2.70</td>\n",
       "    </tr>\n",
       "    <tr>\n",
       "      <th>16.0</th>\n",
       "      <td>2.70</td>\n",
       "    </tr>\n",
       "    <tr>\n",
       "      <th>17.0</th>\n",
       "      <td>2.70</td>\n",
       "    </tr>\n",
       "    <tr>\n",
       "      <th>18.0</th>\n",
       "      <td>2.70</td>\n",
       "    </tr>\n",
       "    <tr>\n",
       "      <th>19.0</th>\n",
       "      <td>2.75</td>\n",
       "    </tr>\n",
       "    <tr>\n",
       "      <th>20.0</th>\n",
       "      <td>2.75</td>\n",
       "    </tr>\n",
       "    <tr>\n",
       "      <th>21.0</th>\n",
       "      <td>2.70</td>\n",
       "    </tr>\n",
       "    <tr>\n",
       "      <th>22.0</th>\n",
       "      <td>2.75</td>\n",
       "    </tr>\n",
       "    <tr>\n",
       "      <th>23.0</th>\n",
       "      <td>2.75</td>\n",
       "    </tr>\n",
       "    <tr>\n",
       "      <th>24.0</th>\n",
       "      <td>2.75</td>\n",
       "    </tr>\n",
       "    <tr>\n",
       "      <th>25.0</th>\n",
       "      <td>2.75</td>\n",
       "    </tr>\n",
       "    <tr>\n",
       "      <th>26.0</th>\n",
       "      <td>2.66</td>\n",
       "    </tr>\n",
       "    <tr>\n",
       "      <th>27.0</th>\n",
       "      <td>2.70</td>\n",
       "    </tr>\n",
       "    <tr>\n",
       "      <th>28.0</th>\n",
       "      <td>2.60</td>\n",
       "    </tr>\n",
       "    <tr>\n",
       "      <th>29.0</th>\n",
       "      <td>2.60</td>\n",
       "    </tr>\n",
       "    <tr>\n",
       "      <th>33.0</th>\n",
       "      <td>NaN</td>\n",
       "    </tr>\n",
       "    <tr>\n",
       "      <th>34.0</th>\n",
       "      <td>2.65</td>\n",
       "    </tr>\n",
       "    <tr>\n",
       "      <th>35.0</th>\n",
       "      <td>2.70</td>\n",
       "    </tr>\n",
       "    <tr>\n",
       "      <th>36.0</th>\n",
       "      <td>14.85</td>\n",
       "    </tr>\n",
       "    <tr>\n",
       "      <th>37.0</th>\n",
       "      <td>1.75</td>\n",
       "    </tr>\n",
       "    <tr>\n",
       "      <th>52.0</th>\n",
       "      <td>2.65</td>\n",
       "    </tr>\n",
       "    <tr>\n",
       "      <th>60.0</th>\n",
       "      <td>2.88</td>\n",
       "    </tr>\n",
       "  </tbody>\n",
       "</table>\n",
       "</div>"
      ],
      "text/plain": [
       "              median\n",
       "floors_total        \n",
       "1.0             2.80\n",
       "2.0             2.70\n",
       "3.0             2.80\n",
       "4.0             3.00\n",
       "5.0             2.55\n",
       "6.0             3.00\n",
       "7.0             3.00\n",
       "8.0             2.80\n",
       "9.0             2.55\n",
       "10.0            2.60\n",
       "11.0            2.75\n",
       "12.0            2.65\n",
       "13.0            2.70\n",
       "14.0            2.60\n",
       "15.0            2.70\n",
       "16.0            2.70\n",
       "17.0            2.70\n",
       "18.0            2.70\n",
       "19.0            2.75\n",
       "20.0            2.75\n",
       "21.0            2.70\n",
       "22.0            2.75\n",
       "23.0            2.75\n",
       "24.0            2.75\n",
       "25.0            2.75\n",
       "26.0            2.66\n",
       "27.0            2.70\n",
       "28.0            2.60\n",
       "29.0            2.60\n",
       "33.0             NaN\n",
       "34.0            2.65\n",
       "35.0            2.70\n",
       "36.0           14.85\n",
       "37.0            1.75\n",
       "52.0            2.65\n",
       "60.0            2.88"
      ]
     },
     "metadata": {},
     "output_type": "display_data"
    }
   ],
   "source": [
    "# Сначала создадим сгруппированный по floors_total объект типа Series с медианными значениями ceiling_height \n",
    "ch_median = data.groupby('floors_total').agg({'ceiling_height': ['median']})\n",
    "ch_median.columns = ['median'] \n",
    "display(ch_median) # 36 строк"
   ]
  },
  {
   "attachments": {},
   "cell_type": "markdown",
   "metadata": {},
   "source": [
    "Как можно видеть из полученной таблицы у `floors_total` равное 33 медианное значение - NaN. Медианой всех значений `ceiling_height` датафрейма заполним те пустые `ceiling_height` для которых `floors_total` равно NaN или медиана по группе равна NaN (у нас это `floors_total` = 33)."
   ]
  },
  {
   "cell_type": "code",
   "execution_count": 12,
   "metadata": {},
   "outputs": [],
   "source": [
    "for f in data['floors_total'].unique():\n",
    "    if f == f and ch_median.loc[f, 'median'] == ch_median.loc[f, 'median']: # НЕ равно NaN      \n",
    "        data.loc[(data['floors_total'] == f) & (data['ceiling_height'].isna()), 'ceiling_height'] = ch_median.loc[f, 'median']\n",
    "    else:\n",
    "        data.loc[(data['floors_total'].isna()) | ((data['floors_total'] == f) & (data['ceiling_height'].isna())), 'ceiling_height'] = data['ceiling_height'].median()   "
   ]
  },
  {
   "attachments": {},
   "cell_type": "markdown",
   "metadata": {},
   "source": [
    "* Далее по пропускам у нас расстояние до ближайшего аэропорта - `airports_nearest` (23% пропущенно) и `cityCenters_nearest` (23% пропущенно). Пропуски в этих столбцах связаны с очередной некорректной работой геосервиса. В ходе дальнейшего анализа нам придется обратится к параметру `cityCenters_nearest` для вычисления средней стоимости квартир Петербурга на разном удалении от центра. Проверим сколько значений данной категории пропущено по Петербургу:"
   ]
  },
  {
   "cell_type": "code",
   "execution_count": 13,
   "metadata": {},
   "outputs": [
    {
     "data": {
      "text/plain": [
       "0.3880160295146619"
      ]
     },
     "execution_count": 13,
     "metadata": {},
     "output_type": "execute_result"
    }
   ],
   "source": [
    "data.loc[(data['locality_name'] == 'Санкт-Петербург') & (data['cityCenters_nearest'].isna())].shape[0] / data[data['locality_name'] == 'Санкт-Петербург'].shape[0] * 100"
   ]
  },
  {
   "attachments": {},
   "cell_type": "markdown",
   "metadata": {},
   "source": [
    "Пропущено очень мало, оставляем данные категории данных как есть."
   ]
  },
  {
   "attachments": {},
   "cell_type": "markdown",
   "metadata": {},
   "source": [
    "* Далее по пропускам - `ponds_around3000` и `parks_around3000`. Аналогично `parks_nearest` и `ponds_nearest` - ошибка геосервиса и малозначимость в рамках нашего исследования.         "
   ]
  },
  {
   "attachments": {},
   "cell_type": "markdown",
   "metadata": {},
   "source": [
    "* Следующая по пропускам категория - сколько дней было размещено объявление `days_exposition` c 13% пропусков. Причины пропусков могут быть разными - пользователь квартиры не снял статус \"в продаже\" в \"Яндекс-недвижимости\" или мог иметь место некоторый сбой в самой системе. В принципе, процент пропусков здесь сравнительно мал, не будем вносить изменений.   "
   ]
  },
  {
   "attachments": {},
   "cell_type": "markdown",
   "metadata": {},
   "source": [
    "* Далее - `kitchen_area` (площадь кухни) c 9.6% пропусков и `living_area` (жилая площадь) с 8%. По какой-то причине пользователи квартир не указали этих данных - скорее всего просто не имели возможности или желания этого сделать. У квартир-студий жилая и кухонная площадь не отделены друг от друга, тогда либо площадь кухни, либо жилая площадь были не указаны. Определим у скольких квартир-студий отсутствуют значения в столбце `kitchen_area` и `living_area`:   "
   ]
  },
  {
   "cell_type": "code",
   "execution_count": 14,
   "metadata": {},
   "outputs": [
    {
     "data": {
      "text/plain": [
       "149"
      ]
     },
     "metadata": {},
     "output_type": "display_data"
    },
    {
     "data": {
      "text/plain": [
       "10"
      ]
     },
     "metadata": {},
     "output_type": "display_data"
    }
   ],
   "source": [
    "display(data.loc[(data['studio'] == True) & (data['kitchen_area'].isna())].shape[0])\n",
    "display(data.loc[(data['studio'] == True) & (data['living_area'].isna())].shape[0])"
   ]
  },
  {
   "attachments": {},
   "cell_type": "markdown",
   "metadata": {},
   "source": [
    "Итого всего 6% значений `kitchen_area` 0.5%  значений `living_area` для квартир-студей пропущено - едва ли их заполнение внесет какие-то ощутимые изменения в итоговый расклад по данным. Оставим как есть."
   ]
  },
  {
   "attachments": {},
   "cell_type": "markdown",
   "metadata": {},
   "source": [
    "* Оставшиеся `floors_total` и `locality_name` имеют наименьший процент пропущенных значений 0.4% и 0.2% соответ. Причина пропусков - человеческий фактор."
   ]
  },
  {
   "attachments": {},
   "cell_type": "markdown",
   "metadata": {},
   "source": [
    "Итого:"
   ]
  },
  {
   "cell_type": "code",
   "execution_count": 15,
   "metadata": {},
   "outputs": [
    {
     "data": {
      "text/plain": [
       "is_apartment            20924\n",
       "parks_nearest           15620\n",
       "ponds_nearest           14589\n",
       "airports_nearest         5542\n",
       "cityCenters_nearest      5519\n",
       "ponds_around3000         5518\n",
       "parks_around3000         5518\n",
       "days_exposition          3181\n",
       "kitchen_area             2278\n",
       "living_area              1903\n",
       "floors_total               86\n",
       "locality_name              49\n",
       "balcony                     0\n",
       "total_images                0\n",
       "last_price                  0\n",
       "studio                      0\n",
       "floor                       0\n",
       "ceiling_height              0\n",
       "rooms                       0\n",
       "first_day_exposition        0\n",
       "total_area                  0\n",
       "open_plan                   0\n",
       "dtype: int64"
      ]
     },
     "execution_count": 15,
     "metadata": {},
     "output_type": "execute_result"
    }
   ],
   "source": [
    "data.isna().sum().sort_values(ascending=False)"
   ]
  },
  {
   "attachments": {},
   "cell_type": "markdown",
   "metadata": {},
   "source": [
    "### 2.2 Изменение типов данных"
   ]
  },
  {
   "attachments": {},
   "cell_type": "markdown",
   "metadata": {},
   "source": [
    "Приведем `first_day_exposition` к формату времени, так как нам придется использовать эти данные в последующем при добавлении новых столбцов: "
   ]
  },
  {
   "cell_type": "code",
   "execution_count": 16,
   "metadata": {},
   "outputs": [],
   "source": [
    "data['first_day_exposition'] = pd.to_datetime(data['first_day_exposition'], format='%Y-%m-%dT%H:%M:%S')"
   ]
  },
  {
   "attachments": {},
   "cell_type": "markdown",
   "metadata": {},
   "source": [
    "### 2.3 Работа с дубликатами"
   ]
  },
  {
   "attachments": {},
   "cell_type": "markdown",
   "metadata": {},
   "source": [
    "Начнем с простого поиска явных дубликатов:"
   ]
  },
  {
   "cell_type": "code",
   "execution_count": 17,
   "metadata": {},
   "outputs": [
    {
     "data": {
      "text/plain": [
       "0"
      ]
     },
     "execution_count": 17,
     "metadata": {},
     "output_type": "execute_result"
    }
   ],
   "source": [
    "data.duplicated().sum()"
   ]
  },
  {
   "attachments": {},
   "cell_type": "markdown",
   "metadata": {},
   "source": [
    "Явных дубликатов в таблице нет. Попробуем найти неявные дубликаты. Очевидный столбец на проверку - `locality_name`. Выведем список уникальных значений в столбце:"
   ]
  },
  {
   "cell_type": "code",
   "execution_count": 18,
   "metadata": {
    "scrolled": true
   },
   "outputs": [
    {
     "data": {
      "text/plain": [
       "array(['Санкт-Петербург', 'посёлок Шушары', 'городской посёлок Янино-1',\n",
       "       'посёлок Парголово', 'посёлок Мурино', 'Ломоносов', 'Сертолово',\n",
       "       'Петергоф', 'Пушкин', 'деревня Кудрово', 'Коммунар', 'Колпино',\n",
       "       'поселок городского типа Красный Бор', 'Гатчина', 'поселок Мурино',\n",
       "       'деревня Фёдоровское', 'Выборг', 'Кронштадт', 'Кировск',\n",
       "       'деревня Новое Девяткино', 'посёлок Металлострой',\n",
       "       'посёлок городского типа Лебяжье',\n",
       "       'посёлок городского типа Сиверский', 'поселок Молодцово',\n",
       "       'поселок городского типа Кузьмоловский',\n",
       "       'садовое товарищество Новая Ропша', 'Павловск',\n",
       "       'деревня Пикколово', 'Всеволожск', 'Волхов', 'Кингисепп',\n",
       "       'Приозерск', 'Сестрорецк', 'деревня Куттузи', 'посёлок Аннино',\n",
       "       'поселок городского типа Ефимовский', 'посёлок Плодовое',\n",
       "       'деревня Заклинье', 'поселок Торковичи', 'поселок Первомайское',\n",
       "       'Красное Село', 'посёлок Понтонный', 'Сясьстрой', 'деревня Старая',\n",
       "       'деревня Лесколово', 'посёлок Новый Свет', 'Сланцы',\n",
       "       'село Путилово', 'Ивангород', 'Мурино', 'Шлиссельбург',\n",
       "       'Никольское', 'Зеленогорск', 'Сосновый Бор', 'поселок Новый Свет',\n",
       "       'деревня Оржицы', 'деревня Кальтино', 'Кудрово',\n",
       "       'поселок Романовка', 'посёлок Бугры', 'поселок Бугры',\n",
       "       'поселок городского типа Рощино', 'Кириши', 'Луга', 'Волосово',\n",
       "       'Отрадное', 'село Павлово', 'поселок Оредеж', 'село Копорье',\n",
       "       'посёлок городского типа Красный Бор', 'посёлок Молодёжное',\n",
       "       'Тихвин', 'посёлок Победа', 'деревня Нурма',\n",
       "       'поселок городского типа Синявино', 'Тосно',\n",
       "       'посёлок городского типа Кузьмоловский', 'посёлок Стрельна',\n",
       "       'Бокситогорск', 'посёлок Александровская', 'деревня Лопухинка',\n",
       "       'Пикалёво', 'поселок Терволово',\n",
       "       'поселок городского типа Советский', 'Подпорожье',\n",
       "       'посёлок Петровское', 'посёлок городского типа Токсово',\n",
       "       'поселок Сельцо', 'посёлок городского типа Вырица',\n",
       "       'деревня Кипень', 'деревня Келози', 'деревня Вартемяги',\n",
       "       'посёлок Тельмана', 'поселок Севастьяново',\n",
       "       'городской поселок Большая Ижора', nan,\n",
       "       'городской посёлок Павлово', 'деревня Агалатово',\n",
       "       'посёлок Новогорелово', 'городской посёлок Лесогорский',\n",
       "       'деревня Лаголово', 'поселок Цвелодубово',\n",
       "       'поселок городского типа Рахья', 'поселок городского типа Вырица',\n",
       "       'деревня Белогорка', 'поселок Заводской',\n",
       "       'городской посёлок Новоселье', 'деревня Большие Колпаны',\n",
       "       'деревня Горбунки', 'деревня Батово', 'деревня Заневка',\n",
       "       'деревня Иссад', 'Приморск', 'городской посёлок Фёдоровское',\n",
       "       'деревня Мистолово', 'Новая Ладога', 'поселок Зимитицы',\n",
       "       'поселок Барышево', 'деревня Разметелево',\n",
       "       'поселок городского типа имени Свердлова', 'деревня Пеники',\n",
       "       'поселок Рябово', 'деревня Пудомяги', 'поселок станции Корнево',\n",
       "       'деревня Низино', 'деревня Бегуницы', 'посёлок Поляны',\n",
       "       'городской посёлок Мга', 'поселок Елизаветино',\n",
       "       'посёлок городского типа Кузнечное', 'деревня Колтуши',\n",
       "       'поселок Запорожское', 'посёлок городского типа Рощино',\n",
       "       'деревня Гостилицы', 'деревня Малое Карлино',\n",
       "       'посёлок Мичуринское', 'посёлок городского типа имени Морозова',\n",
       "       'посёлок Песочный', 'посёлок Сосново', 'деревня Аро',\n",
       "       'поселок Ильичёво', 'посёлок городского типа Тайцы',\n",
       "       'деревня Малое Верево', 'деревня Извара', 'поселок станции Вещево',\n",
       "       'село Паша', 'деревня Калитино',\n",
       "       'посёлок городского типа Ульяновка', 'деревня Чудской Бор',\n",
       "       'поселок городского типа Дубровка', 'деревня Мины',\n",
       "       'поселок Войсковицы', 'посёлок городского типа имени Свердлова',\n",
       "       'деревня Коркино', 'посёлок Ропша',\n",
       "       'поселок городского типа Приладожский', 'посёлок Щеглово',\n",
       "       'посёлок Гаврилово', 'Лодейное Поле', 'деревня Рабитицы',\n",
       "       'поселок городского типа Никольский', 'деревня Кузьмолово',\n",
       "       'деревня Малые Колпаны', 'поселок Тельмана',\n",
       "       'посёлок Петро-Славянка', 'городской посёлок Назия',\n",
       "       'посёлок Репино', 'посёлок Ильичёво', 'поселок Углово',\n",
       "       'поселок Старая Малукса', 'садовое товарищество Рахья',\n",
       "       'поселок Аннино', 'поселок Победа', 'деревня Меньково',\n",
       "       'деревня Старые Бегуницы', 'посёлок Сапёрный', 'поселок Семрино',\n",
       "       'поселок Гаврилово', 'поселок Глажево', 'поселок Кобринское',\n",
       "       'деревня Гарболово', 'деревня Юкки',\n",
       "       'поселок станции Приветнинское', 'деревня Мануйлово',\n",
       "       'деревня Пчева', 'поселок Поляны', 'поселок Цвылёво',\n",
       "       'поселок Мельниково', 'посёлок Пудость', 'посёлок Усть-Луга',\n",
       "       'Светогорск', 'Любань', 'поселок Селезнёво',\n",
       "       'поселок городского типа Рябово', 'Каменногорск', 'деревня Кривко',\n",
       "       'поселок Глебычево', 'деревня Парицы', 'поселок Жилпосёлок',\n",
       "       'посёлок городского типа Мга', 'городской поселок Янино-1',\n",
       "       'посёлок Войскорово', 'село Никольское', 'посёлок Терволово',\n",
       "       'поселок Стеклянный', 'посёлок городского типа Важины',\n",
       "       'посёлок Мыза-Ивановка', 'село Русско-Высоцкое',\n",
       "       'поселок городского типа Лебяжье',\n",
       "       'поселок городского типа Форносово', 'село Старая Ладога',\n",
       "       'поселок Житково', 'городской посёлок Виллози', 'деревня Лампово',\n",
       "       'деревня Шпаньково', 'деревня Лаврики', 'посёлок Сумино',\n",
       "       'посёлок Возрождение', 'деревня Старосиверская',\n",
       "       'посёлок Кикерино', 'поселок Возрождение',\n",
       "       'деревня Старое Хинколово', 'посёлок Пригородный',\n",
       "       'посёлок Торфяное', 'городской посёлок Будогощь',\n",
       "       'поселок Суходолье', 'поселок Красная Долина', 'деревня Хапо-Ое',\n",
       "       'поселок городского типа Дружная Горка', 'поселок Лисий Нос',\n",
       "       'деревня Яльгелево', 'посёлок Стеклянный', 'село Рождествено',\n",
       "       'деревня Старополье', 'посёлок Левашово', 'деревня Сяськелево',\n",
       "       'деревня Камышовка',\n",
       "       'садоводческое некоммерческое товарищество Лесная Поляна',\n",
       "       'деревня Хязельки', 'поселок Жилгородок',\n",
       "       'посёлок городского типа Павлово', 'деревня Ялгино',\n",
       "       'поселок Новый Учхоз', 'городской посёлок Рощино',\n",
       "       'поселок Гончарово', 'поселок Почап', 'посёлок Сапёрное',\n",
       "       'посёлок Платформа 69-й километр', 'поселок Каложицы',\n",
       "       'деревня Фалилеево', 'деревня Пельгора',\n",
       "       'поселок городского типа Лесогорский', 'деревня Торошковичи',\n",
       "       'посёлок Белоостров', 'посёлок Алексеевка', 'поселок Серебрянский',\n",
       "       'поселок Лукаши', 'поселок Петровское', 'деревня Щеглово',\n",
       "       'поселок Мичуринское', 'деревня Тарасово', 'поселок Кингисеппский',\n",
       "       'посёлок при железнодорожной станции Вещево', 'поселок Ушаки',\n",
       "       'деревня Котлы', 'деревня Сижно', 'деревня Торосово',\n",
       "       'посёлок Форт Красная Горка', 'поселок городского типа Токсово',\n",
       "       'деревня Новолисино', 'посёлок станции Громово', 'деревня Глинка',\n",
       "       'посёлок Мельниково', 'поселок городского типа Назия',\n",
       "       'деревня Старая Пустошь', 'поселок Коммунары', 'поселок Починок',\n",
       "       'посёлок городского типа Вознесенье', 'деревня Разбегаево',\n",
       "       'посёлок городского типа Рябово', 'поселок Гладкое',\n",
       "       'посёлок при железнодорожной станции Приветнинское',\n",
       "       'поселок Тёсово-4', 'посёлок Жилгородок', 'деревня Бор',\n",
       "       'посёлок Коробицыно', 'деревня Большая Вруда', 'деревня Курковицы',\n",
       "       'посёлок Лисий Нос', 'городской посёлок Советский',\n",
       "       'посёлок Кобралово', 'деревня Суоранда', 'поселок Кобралово',\n",
       "       'поселок городского типа Кондратьево',\n",
       "       'коттеджный поселок Счастье', 'поселок Любань', 'деревня Реброво',\n",
       "       'деревня Зимитицы', 'деревня Тойворово', 'поселок Семиозерье',\n",
       "       'поселок Лесное', 'поселок Совхозный', 'поселок Усть-Луга',\n",
       "       'посёлок Ленинское', 'посёлок Суйда',\n",
       "       'посёлок городского типа Форносово', 'деревня Нижние Осельки',\n",
       "       'посёлок станции Свирь', 'поселок Перово', 'Высоцк',\n",
       "       'поселок Гарболово', 'село Шум', 'поселок Котельский',\n",
       "       'поселок станции Лужайка', 'деревня Большая Пустомержа',\n",
       "       'поселок Красносельское', 'деревня Вахнова Кара', 'деревня Пижма',\n",
       "       'коттеджный поселок Кивеннапа Север', 'поселок Коробицыно',\n",
       "       'поселок Ромашки', 'посёлок Перово', 'деревня Каськово',\n",
       "       'деревня Куровицы', 'посёлок Плоское', 'поселок Сумино',\n",
       "       'поселок городского типа Большая Ижора', 'поселок Кирпичное',\n",
       "       'деревня Ям-Тесово', 'деревня Раздолье', 'деревня Терпилицы',\n",
       "       'посёлок Шугозеро', 'деревня Ваганово', 'поселок Пушное',\n",
       "       'садовое товарищество Садко', 'посёлок Усть-Ижора',\n",
       "       'деревня Выскатка', 'городской посёлок Свирьстрой',\n",
       "       'поселок Громово', 'деревня Кисельня', 'посёлок Старая Малукса',\n",
       "       'деревня Трубников Бор', 'поселок Калитино',\n",
       "       'посёлок Высокоключевой', 'садовое товарищество Приладожский',\n",
       "       'посёлок Пансионат Зелёный Бор', 'деревня Ненимяки',\n",
       "       'поселок Пансионат Зелёный Бор', 'деревня Снегирёвка',\n",
       "       'деревня Рапполово', 'деревня Пустынка', 'поселок Рабитицы',\n",
       "       'деревня Большой Сабск', 'деревня Русско', 'деревня Лупполово',\n",
       "       'деревня Большое Рейзино', 'деревня Малая Романовка',\n",
       "       'поселок Дружноселье', 'поселок Пчевжа', 'поселок Володарское',\n",
       "       'деревня Нижняя', 'коттеджный посёлок Лесное', 'деревня Тихковицы',\n",
       "       'деревня Борисова Грива', 'посёлок Дзержинского'], dtype=object)"
      ]
     },
     "execution_count": 18,
     "metadata": {},
     "output_type": "execute_result"
    }
   ],
   "source": [
    "data['locality_name'].unique() #365"
   ]
  },
  {
   "cell_type": "code",
   "execution_count": 19,
   "metadata": {},
   "outputs": [],
   "source": [
    "# Устранение неявных дубликатов\n",
    "data = data.replace(['городской посёлок Янино-1'], 'городской поселок Янино-1')\n",
    "data = data.replace(['посёлок Мурино', 'поселок Мурино'], 'Мурино')\n",
    "data = data.replace(['деревня Кудрово'], 'Кудрово')\n",
    "data = data.replace(['посёлок городского типа Красный Бор'], 'поселок городского типа Красный Бор')\n",
    "data = data.replace(['городской посёлок Фёдоровское'], 'деревня Фёдоровское')\n",
    "data = data.replace(['посёлок городского типа Лебяжье'], 'поселок городского типа Лебяжье')\n",
    "data = data.replace(['село Никольское'], 'Никольское')\n",
    "data = data.replace(['посёлок городского типа Кузьмоловский'], 'поселок городского типа Кузьмоловский')\n",
    "data = data.replace(['посёлок Аннино'], 'поселок Аннино')\n",
    "data = data.replace(['посёлок Новый Свет'], 'поселок Новый Свет')\n",
    "data = data.replace(['поселок городского типа Рощино', 'посёлок городского типа Рощино'], 'городской посёлок Рощино')\n",
    "data = data.replace(['посёлок Бугры'], 'поселок Бугры')\n",
    "data = data.replace(['посёлок городского типа Павлово'], 'городской посёлок Павлово')\n",
    "data = data.replace(['посёлок Победа'], 'поселок Победа')\n",
    "data = data.replace(['посёлок Терволово'], 'поселок Терволово')\n",
    "data = data.replace(['поселок городского типа Советский'], 'городской посёлок Советский')\n",
    "data = data.replace(['посёлок Петровское'], 'поселок Петровское')\n",
    "data = data.replace(['посёлок городского типа Токсово'], 'поселок городского типа Токсово')\n",
    "data = data.replace(['посёлок городского типа Вырица'], 'поселок городского типа Вырица')\n",
    "data = data.replace(['посёлок Тельмана'], 'поселок Тельмана')\n",
    "data = data.replace(['поселок городского типа Большая Ижора'], 'городской поселок Большая Ижора')\n",
    "data = data.replace(['поселок городского типа Лесогорский'], 'городской посёлок Лесогорский')\n",
    "data = data.replace(['посёлок городского типа имени Свердлова'], 'поселок городского типа имени Свердлова')\n",
    "data = data.replace(['поселок городского типа Рябово', 'посёлок городского типа Рябово'], 'поселок Рябово')\n",
    "data = data.replace(['посёлок Поляны'], 'поселок Поляны')\n",
    "data = data.replace(['посёлок городского типа Мга'], 'городской посёлок Мга')\n",
    "data = data.replace(['посёлок Мичуринское'], 'поселок Мичуринское')\n",
    "data = data.replace(['посёлок Ильичёво'], 'поселок Ильичёво')\n",
    "data = data.replace(['посёлок при железнодорожной станции Вещево'], 'поселок станции Вещево')\n",
    "data = data.replace(['посёлок Гаврилово'], 'поселок Гаврилово')\n",
    "data = data.replace(['поселок городского типа Назия'], 'городской посёлок Назия')\n",
    "data = data.replace(['посёлок Старая Малукса'], 'поселок Старая Малукса')\n",
    "data = data.replace(['поселок Гарболово'], 'деревня Гарболово')\n",
    "data = data.replace(['посёлок при железнодорожной станции Приветнинское'], 'поселок станции Приветнинское')\n",
    "data = data.replace(['посёлок Мельниково'], 'поселок Мельниково')\n",
    "data = data.replace(['посёлок Усть-Луга'], 'поселок Усть-Луга')\n",
    "data = data.replace(['поселок Любань'], 'Любань')\n",
    "data = data.replace(['посёлок Стеклянный'], 'поселок Стеклянный')\n",
    "data = data.replace(['посёлок городского типа Форносово'], 'поселок городского типа Форносово')\n",
    "data = data.replace(['посёлок Сумино'], 'поселок Сумино')\n",
    "data = data.replace(['посёлок Возрождение'], 'поселок Возрождение')\n",
    "data = data.replace(['посёлок Лисий Нос'], 'поселок Лисий Нос')\n",
    "data = data.replace(['посёлок Жилгородок'], 'поселок Жилгородок')\n",
    "data = data.replace(['посёлок Коробицыно'], 'поселок Коробицыно')\n",
    "data = data.replace(['посёлок Кобралово'], 'поселок Кобралово')\n",
    "data = data.replace(['посёлок Перово'], 'поселок Перово')\n",
    "data = data.replace(['посёлок Пансионат Зелёный Бор'], 'поселок Пансионат Зелёный Бор')"
   ]
  },
  {
   "cell_type": "code",
   "execution_count": 20,
   "metadata": {},
   "outputs": [
    {
     "data": {
      "text/plain": [
       "315"
      ]
     },
     "execution_count": 20,
     "metadata": {},
     "output_type": "execute_result"
    }
   ],
   "source": [
    "len(data['locality_name'].unique())"
   ]
  },
  {
   "attachments": {},
   "cell_type": "markdown",
   "metadata": {},
   "source": [
    "Было устранено 50 дубликатов."
   ]
  },
  {
   "attachments": {},
   "cell_type": "markdown",
   "metadata": {},
   "source": [
    "## Добавление новых столбцов"
   ]
  },
  {
   "cell_type": "code",
   "execution_count": 21,
   "metadata": {},
   "outputs": [],
   "source": [
    "data['price_per_m2'] = (data['last_price'] / data['total_area']).astype(int) # Цена одного квадратного метра\n",
    "data['exposition_weekday'] = data['first_day_exposition'].dt.weekday # День недели публикации объявления\n",
    "data['exposition_month'] = data['first_day_exposition'].dt.month  # Месяц публикации объявления\n",
    "data['exposition_year'] = data['first_day_exposition'].dt.year # Год публикации объявления\n",
    "\n",
    "# Функция распределения по этажам (первый, последний и другой)\n",
    "def categor_floor(row):\n",
    "    floor = row['floor']\n",
    "    floors_total = row['floors_total']\n",
    "    \n",
    "    if floor == 1:\n",
    "        return 'первый'\n",
    "    elif floor == floors_total:\n",
    "        return 'последний'\n",
    "    else:\n",
    "        return 'другой'\n",
    "    \n",
    "data['floor_cat'] = data.apply(categor_floor, axis=1) # тип этажа квартиры\n",
    "data['cityCenters_nearest_km'] = (data['cityCenters_nearest'] / 1000).round(0) # расстояние до центра города в километрах"
   ]
  },
  {
   "attachments": {},
   "cell_type": "markdown",
   "metadata": {},
   "source": [
    "## Исследовательский анализ данных"
   ]
  },
  {
   "attachments": {},
   "cell_type": "markdown",
   "metadata": {},
   "source": [
    "### 4.1 Общая площадь `total_area`"
   ]
  },
  {
   "cell_type": "code",
   "execution_count": 22,
   "metadata": {},
   "outputs": [
    {
     "data": {
      "text/plain": [
       "count    23699.000000\n",
       "mean        60.348651\n",
       "std         35.654083\n",
       "min         12.000000\n",
       "25%         40.000000\n",
       "50%         52.000000\n",
       "75%         69.900000\n",
       "max        900.000000\n",
       "Name: total_area, dtype: float64"
      ]
     },
     "execution_count": 22,
     "metadata": {},
     "output_type": "execute_result"
    }
   ],
   "source": [
    "# Методом describe выведем основные статистические параметры \n",
    "data['total_area'].describe()"
   ]
  },
  {
   "cell_type": "code",
   "execution_count": 23,
   "metadata": {},
   "outputs": [
    {
     "data": {
      "text/plain": [
       "<AxesSubplot:>"
      ]
     },
     "execution_count": 23,
     "metadata": {},
     "output_type": "execute_result"
    },
    {
     "data": {
      "image/png": "[encoded data removed]",
      "text/plain": [
       "<Figure size 432x288 with 1 Axes>"
      ]
     },
     "metadata": {
      "needs_background": "light"
     },
     "output_type": "display_data"
    }
   ],
   "source": [
    "plt.ylim(0, 125)\n",
    "data.boxplot(column='total_area')"
   ]
  },
  {
   "cell_type": "code",
   "execution_count": 24,
   "metadata": {},
   "outputs": [
    {
     "data": {
      "text/plain": [
       "<AxesSubplot:>"
      ]
     },
     "execution_count": 24,
     "metadata": {},
     "output_type": "execute_result"
    },
    {
     "data": {
      "image/png": "[encoded data removed]",
      "text/plain": [
       "<Figure size 432x288 with 1 Axes>"
      ]
     },
     "metadata": {
      "needs_background": "light"
     },
     "output_type": "display_data"
    }
   ],
   "source": [
    "data['total_area'].hist(bins=50, range=(0,120))"
   ]
  },
  {
   "attachments": {},
   "cell_type": "markdown",
   "metadata": {},
   "source": [
    "\"Усы\" боксплота: 12 и 114. Они определяют границы за пределами которых значения набора данных являются выбросами.\n",
    "Из гистограммы видно,что наибольшее число квартир имеют площадь в диапазоне примерно от 30 до 80 кв.м. Наиболее часто встречаются квартиры площадью 45 кв.м.  "
   ]
  },
  {
   "attachments": {},
   "cell_type": "markdown",
   "metadata": {},
   "source": [
    "### 4.2 Жилая площадь `living_area`"
   ]
  },
  {
   "cell_type": "code",
   "execution_count": 25,
   "metadata": {},
   "outputs": [
    {
     "data": {
      "text/plain": [
       "count    21796.000000\n",
       "mean        34.457852\n",
       "std         22.030445\n",
       "min          2.000000\n",
       "25%         18.600000\n",
       "50%         30.000000\n",
       "75%         42.300000\n",
       "max        409.700000\n",
       "Name: living_area, dtype: float64"
      ]
     },
     "execution_count": 25,
     "metadata": {},
     "output_type": "execute_result"
    }
   ],
   "source": [
    "data['living_area'].describe()"
   ]
  },
  {
   "cell_type": "code",
   "execution_count": 26,
   "metadata": {},
   "outputs": [
    {
     "data": {
      "text/plain": [
       "<AxesSubplot:>"
      ]
     },
     "execution_count": 26,
     "metadata": {},
     "output_type": "execute_result"
    },
    {
     "data": {
      "image/png": "[encoded data removed]",
      "text/plain": [
       "<Figure size 432x288 with 1 Axes>"
      ]
     },
     "metadata": {
      "needs_background": "light"
     },
     "output_type": "display_data"
    }
   ],
   "source": [
    "plt.ylim(0, 80)\n",
    "data.boxplot(column='living_area')"
   ]
  },
  {
   "cell_type": "code",
   "execution_count": 27,
   "metadata": {},
   "outputs": [
    {
     "data": {
      "text/plain": [
       "<AxesSubplot:>"
      ]
     },
     "execution_count": 27,
     "metadata": {},
     "output_type": "execute_result"
    },
    {
     "data": {
      "image/png": "[encoded data removed]",
      "text/plain": [
       "<Figure size 432x288 with 1 Axes>"
      ]
     },
     "metadata": {
      "needs_background": "light"
     },
     "output_type": "display_data"
    }
   ],
   "source": [
    "data['living_area'].hist(bins=50, range=(0,78))"
   ]
  },
  {
   "attachments": {},
   "cell_type": "markdown",
   "metadata": {},
   "source": [
    "\"Усы\" боксплота: 2 и 78. Из гистограммы видно,что наибольшее число квартир имеют жилую площадь в диапазоне примерно от 15-50 кв.м. "
   ]
  },
  {
   "attachments": {},
   "cell_type": "markdown",
   "metadata": {},
   "source": [
    "### 4.3 Площадь кухни `kitchen_area`"
   ]
  },
  {
   "cell_type": "code",
   "execution_count": 28,
   "metadata": {},
   "outputs": [
    {
     "data": {
      "text/plain": [
       "count    21421.000000\n",
       "mean        10.569807\n",
       "std          5.905438\n",
       "min          1.300000\n",
       "25%          7.000000\n",
       "50%          9.100000\n",
       "75%         12.000000\n",
       "max        112.000000\n",
       "Name: kitchen_area, dtype: float64"
      ]
     },
     "execution_count": 28,
     "metadata": {},
     "output_type": "execute_result"
    }
   ],
   "source": [
    "data['kitchen_area'].describe()"
   ]
  },
  {
   "cell_type": "code",
   "execution_count": 29,
   "metadata": {},
   "outputs": [
    {
     "data": {
      "text/plain": [
       "<AxesSubplot:>"
      ]
     },
     "execution_count": 29,
     "metadata": {},
     "output_type": "execute_result"
    },
    {
     "data": {
      "image/png": "[encoded data removed]",
      "text/plain": [
       "<Figure size 432x288 with 1 Axes>"
      ]
     },
     "metadata": {
      "needs_background": "light"
     },
     "output_type": "display_data"
    }
   ],
   "source": [
    "plt.ylim(0, 20)\n",
    "data.boxplot(column='kitchen_area')"
   ]
  },
  {
   "cell_type": "code",
   "execution_count": 30,
   "metadata": {},
   "outputs": [
    {
     "data": {
      "text/plain": [
       "<AxesSubplot:>"
      ]
     },
     "execution_count": 30,
     "metadata": {},
     "output_type": "execute_result"
    },
    {
     "data": {
      "image/png": "[encoded data removed]",
      "text/plain": [
       "<Figure size 432x288 with 1 Axes>"
      ]
     },
     "metadata": {
      "needs_background": "light"
     },
     "output_type": "display_data"
    }
   ],
   "source": [
    "data['kitchen_area'].hist(bins=15, range=(0,19.5))"
   ]
  },
  {
   "attachments": {},
   "cell_type": "markdown",
   "metadata": {},
   "source": [
    "\"Усы\" боксплота: 1.3 и 19.5. Из гистограммы видно,что наибольшее число квартир имеют кухню площадью в диапазоне примерно от 5-15 кв.м. Наиболее часто встречаются квартиры с площадью кухни примерно 8 кв.м."
   ]
  },
  {
   "attachments": {},
   "cell_type": "markdown",
   "metadata": {},
   "source": [
    "### 4.4 Цена объекта `last_price`"
   ]
  },
  {
   "cell_type": "code",
   "execution_count": 31,
   "metadata": {},
   "outputs": [
    {
     "data": {
      "text/plain": [
       "count    2.369900e+04\n",
       "mean     6.541549e+06\n",
       "std      1.088701e+07\n",
       "min      1.219000e+04\n",
       "25%      3.400000e+06\n",
       "50%      4.650000e+06\n",
       "75%      6.800000e+06\n",
       "max      7.630000e+08\n",
       "Name: last_price, dtype: float64"
      ]
     },
     "execution_count": 31,
     "metadata": {},
     "output_type": "execute_result"
    }
   ],
   "source": [
    "data['last_price'].describe()"
   ]
  },
  {
   "cell_type": "code",
   "execution_count": 32,
   "metadata": {},
   "outputs": [
    {
     "data": {
      "text/plain": [
       "<AxesSubplot:>"
      ]
     },
     "execution_count": 32,
     "metadata": {},
     "output_type": "execute_result"
    },
    {
     "data": {
      "image/png": "[encoded data removed]",
      "text/plain": [
       "<Figure size 432x288 with 1 Axes>"
      ]
     },
     "metadata": {
      "needs_background": "light"
     },
     "output_type": "display_data"
    }
   ],
   "source": [
    "plt.ylim(0, 12.5e+6)\n",
    "data.boxplot(column='last_price')"
   ]
  },
  {
   "cell_type": "code",
   "execution_count": 33,
   "metadata": {
    "scrolled": true
   },
   "outputs": [
    {
     "data": {
      "text/plain": [
       "<AxesSubplot:>"
      ]
     },
     "execution_count": 33,
     "metadata": {},
     "output_type": "execute_result"
    },
    {
     "data": {
      "image/png": "[encoded data removed]",
      "text/plain": [
       "<Figure size 432x288 with 1 Axes>"
      ]
     },
     "metadata": {
      "needs_background": "light"
     },
     "output_type": "display_data"
    }
   ],
   "source": [
    "data['last_price'].hist(bins=50, range=(0, 12.5e6))"
   ]
  },
  {
   "attachments": {},
   "cell_type": "markdown",
   "metadata": {},
   "source": [
    "\"Усы\" боксплота: 12 000 и 12 000 000. Из гистограммы видно,что большее число квартир продавется по цене примерно от 2 до 6 млн. Наиболее частая цена квартиры - около 4 млн.  "
   ]
  },
  {
   "attachments": {},
   "cell_type": "markdown",
   "metadata": {},
   "source": [
    "### 4.5 Количество комнат `rooms`"
   ]
  },
  {
   "cell_type": "code",
   "execution_count": 34,
   "metadata": {},
   "outputs": [
    {
     "data": {
      "text/plain": [
       "count    23699.000000\n",
       "mean         2.070636\n",
       "std          1.078405\n",
       "min          0.000000\n",
       "25%          1.000000\n",
       "50%          2.000000\n",
       "75%          3.000000\n",
       "max         19.000000\n",
       "Name: rooms, dtype: float64"
      ]
     },
     "execution_count": 34,
     "metadata": {},
     "output_type": "execute_result"
    }
   ],
   "source": [
    "data['rooms'].describe()"
   ]
  },
  {
   "cell_type": "code",
   "execution_count": 35,
   "metadata": {},
   "outputs": [
    {
     "data": {
      "text/plain": [
       "<AxesSubplot:>"
      ]
     },
     "execution_count": 35,
     "metadata": {},
     "output_type": "execute_result"
    },
    {
     "data": {
      "image/png": "[encoded data removed]",
      "text/plain": [
       "<Figure size 432x288 with 1 Axes>"
      ]
     },
     "metadata": {
      "needs_background": "light"
     },
     "output_type": "display_data"
    }
   ],
   "source": [
    "plt.ylim(0, 8)\n",
    "data.boxplot(column='rooms')"
   ]
  },
  {
   "cell_type": "code",
   "execution_count": 36,
   "metadata": {},
   "outputs": [
    {
     "data": {
      "text/plain": [
       "<AxesSubplot:>"
      ]
     },
     "execution_count": 36,
     "metadata": {},
     "output_type": "execute_result"
    },
    {
     "data": {
      "image/png": "[encoded data removed]",
      "text/plain": [
       "<Figure size 432x288 with 1 Axes>"
      ]
     },
     "metadata": {
      "needs_background": "light"
     },
     "output_type": "display_data"
    }
   ],
   "source": [
    "data['rooms'].hist(bins=7, range=(0, 6))"
   ]
  },
  {
   "attachments": {},
   "cell_type": "markdown",
   "metadata": {},
   "source": [
    "\"Усы\" боксплота: 0 и 6. Из гистограммы видно,что наибольшее число квартир 1-и 2-комнатные. Наиболее редкие 4 комнатные и далее по убыванию."
   ]
  },
  {
   "attachments": {},
   "cell_type": "markdown",
   "metadata": {},
   "source": [
    "### 4.6 Высота потолков `ceiling_height`"
   ]
  },
  {
   "cell_type": "code",
   "execution_count": 37,
   "metadata": {},
   "outputs": [
    {
     "data": {
      "text/plain": [
       "count    23699.000000\n",
       "mean         2.735602\n",
       "std          0.994274\n",
       "min          1.000000\n",
       "25%          2.550000\n",
       "50%          2.650000\n",
       "75%          2.750000\n",
       "max        100.000000\n",
       "Name: ceiling_height, dtype: float64"
      ]
     },
     "execution_count": 37,
     "metadata": {},
     "output_type": "execute_result"
    }
   ],
   "source": [
    "data['ceiling_height'].describe()"
   ]
  },
  {
   "cell_type": "code",
   "execution_count": 38,
   "metadata": {},
   "outputs": [
    {
     "data": {
      "text/plain": [
       "<AxesSubplot:>"
      ]
     },
     "execution_count": 38,
     "metadata": {},
     "output_type": "execute_result"
    },
    {
     "data": {
      "image/png": "[encoded data removed]",
      "text/plain": [
       "<Figure size 432x288 with 1 Axes>"
      ]
     },
     "metadata": {
      "needs_background": "light"
     },
     "output_type": "display_data"
    }
   ],
   "source": [
    "plt.ylim(2.2, 3.1)\n",
    "data.boxplot(column='ceiling_height')"
   ]
  },
  {
   "cell_type": "code",
   "execution_count": 39,
   "metadata": {},
   "outputs": [
    {
     "data": {
      "text/plain": [
       "<AxesSubplot:>"
      ]
     },
     "execution_count": 39,
     "metadata": {},
     "output_type": "execute_result"
    },
    {
     "data": {
      "image/png": "[encoded data removed]",
      "text/plain": [
       "<Figure size 432x288 with 1 Axes>"
      ]
     },
     "metadata": {
      "needs_background": "light"
     },
     "output_type": "display_data"
    }
   ],
   "source": [
    "data['ceiling_height'].hist(bins=10, range=(2.25, 3.05))"
   ]
  },
  {
   "attachments": {},
   "cell_type": "markdown",
   "metadata": {},
   "source": [
    "\"Усы\" боксплота: 2.25 и 3.05. Из гистограммы видно,что квартиры имеют высоту потолков от 2,4м до 2,8м. Наибольшее число квартир имеют высоту потолка от 2,5м до 2,7м. Также присутсвует заметная, но небольшая часть квартир с потолками примерно 3м. "
   ]
  },
  {
   "attachments": {},
   "cell_type": "markdown",
   "metadata": {},
   "source": [
    "### 4.7 Тип этажа квартиры `floor_cat`"
   ]
  },
  {
   "cell_type": "code",
   "execution_count": 40,
   "metadata": {},
   "outputs": [
    {
     "data": {
      "text/plain": [
       "<AxesSubplot:>"
      ]
     },
     "execution_count": 40,
     "metadata": {},
     "output_type": "execute_result"
    },
    {
     "data": {
      "image/png": "[encoded data removed]",
      "text/plain": [
       "<Figure size 432x288 with 1 Axes>"
      ]
     },
     "metadata": {
      "needs_background": "light"
     },
     "output_type": "display_data"
    }
   ],
   "source": [
    "data['floor_cat'].hist(bins=3)"
   ]
  },
  {
   "attachments": {},
   "cell_type": "markdown",
   "metadata": {},
   "source": [
    "Из гистограммы видно - чаще встерчаются квартиры между 1 и последним этажом. "
   ]
  },
  {
   "attachments": {},
   "cell_type": "markdown",
   "metadata": {},
   "source": [
    "### 4.8 Общее количество этажей в доме `floors_total`"
   ]
  },
  {
   "cell_type": "code",
   "execution_count": 41,
   "metadata": {},
   "outputs": [
    {
     "data": {
      "text/plain": [
       "count    23613.000000\n",
       "mean        10.673824\n",
       "std          6.597173\n",
       "min          1.000000\n",
       "25%          5.000000\n",
       "50%          9.000000\n",
       "75%         16.000000\n",
       "max         60.000000\n",
       "Name: floors_total, dtype: float64"
      ]
     },
     "execution_count": 41,
     "metadata": {},
     "output_type": "execute_result"
    }
   ],
   "source": [
    "data['floors_total'].describe()"
   ]
  },
  {
   "cell_type": "code",
   "execution_count": 42,
   "metadata": {},
   "outputs": [
    {
     "data": {
      "text/plain": [
       "<AxesSubplot:>"
      ]
     },
     "execution_count": 42,
     "metadata": {},
     "output_type": "execute_result"
    },
    {
     "data": {
      "image/png": "[encoded data removed]",
      "text/plain": [
       "<Figure size 432x288 with 1 Axes>"
      ]
     },
     "metadata": {
      "needs_background": "light"
     },
     "output_type": "display_data"
    }
   ],
   "source": [
    "plt.ylim(0, 30)\n",
    "data.boxplot(column='floors_total')"
   ]
  },
  {
   "cell_type": "code",
   "execution_count": 43,
   "metadata": {},
   "outputs": [
    {
     "data": {
      "text/plain": [
       "<AxesSubplot:>"
      ]
     },
     "execution_count": 43,
     "metadata": {},
     "output_type": "execute_result"
    },
    {
     "data": {
      "image/png": "[encoded data removed]",
      "text/plain": [
       "<Figure size 432x288 with 1 Axes>"
      ]
     },
     "metadata": {
      "needs_background": "light"
     },
     "output_type": "display_data"
    }
   ],
   "source": [
    "data['floors_total'].hist(bins=10, range=(1, 28))"
   ]
  },
  {
   "attachments": {},
   "cell_type": "markdown",
   "metadata": {},
   "source": [
    "\"Усы\" боксплота: 1 и 28. Из гистограммы видно,что большинство квартир расположены в 4-9 этажных домах. Наиболее часто встречаются квартиры в 5-этажках.  "
   ]
  },
  {
   "attachments": {},
   "cell_type": "markdown",
   "metadata": {},
   "source": [
    "**4.9 Расстояние до центра города в метрах `cityCenters_nearest`**"
   ]
  },
  {
   "cell_type": "code",
   "execution_count": 44,
   "metadata": {},
   "outputs": [
    {
     "data": {
      "text/plain": [
       "count    18180.000000\n",
       "mean     14191.277833\n",
       "std       8608.386210\n",
       "min        181.000000\n",
       "25%       9238.000000\n",
       "50%      13098.500000\n",
       "75%      16293.000000\n",
       "max      65968.000000\n",
       "Name: cityCenters_nearest, dtype: float64"
      ]
     },
     "execution_count": 44,
     "metadata": {},
     "output_type": "execute_result"
    }
   ],
   "source": [
    "data['cityCenters_nearest'].describe()"
   ]
  },
  {
   "cell_type": "code",
   "execution_count": 45,
   "metadata": {},
   "outputs": [
    {
     "data": {
      "text/plain": [
       "<AxesSubplot:>"
      ]
     },
     "execution_count": 45,
     "metadata": {},
     "output_type": "execute_result"
    },
    {
     "data": {
      "image/png": "[encoded data removed]",
      "text/plain": [
       "<Figure size 432x288 with 1 Axes>"
      ]
     },
     "metadata": {
      "needs_background": "light"
     },
     "output_type": "display_data"
    }
   ],
   "source": [
    "plt.ylim(0, 30000)\n",
    "data.boxplot(column='cityCenters_nearest')"
   ]
  },
  {
   "cell_type": "code",
   "execution_count": 46,
   "metadata": {},
   "outputs": [
    {
     "data": {
      "text/plain": [
       "<AxesSubplot:>"
      ]
     },
     "execution_count": 46,
     "metadata": {},
     "output_type": "execute_result"
    },
    {
     "data": {
      "image/png": "[encoded data removed]",
      "text/plain": [
       "<Figure size 432x288 with 1 Axes>"
      ]
     },
     "metadata": {
      "needs_background": "light"
     },
     "output_type": "display_data"
    }
   ],
   "source": [
    "data['cityCenters_nearest'].hist(bins=50, range=(180, 27000))"
   ]
  },
  {
   "attachments": {},
   "cell_type": "markdown",
   "metadata": {},
   "source": [
    "\"Усы\" боксплота: 180 и 28 000. Из гистограммы видно,что большинство квартир расположены от центра примерно на расстоянии от 10.000м до 17.500м, чаще всего на 15.000м."
   ]
  },
  {
   "attachments": {},
   "cell_type": "markdown",
   "metadata": {},
   "source": [
    "### 4.10 Расстояние до ближайшего парка `parks_nearest`"
   ]
  },
  {
   "cell_type": "code",
   "execution_count": 47,
   "metadata": {},
   "outputs": [
    {
     "data": {
      "text/plain": [
       "count    8079.000000\n",
       "mean      490.804555\n",
       "std       342.317995\n",
       "min         1.000000\n",
       "25%       288.000000\n",
       "50%       455.000000\n",
       "75%       612.000000\n",
       "max      3190.000000\n",
       "Name: parks_nearest, dtype: float64"
      ]
     },
     "execution_count": 47,
     "metadata": {},
     "output_type": "execute_result"
    }
   ],
   "source": [
    "data['parks_nearest'].describe()"
   ]
  },
  {
   "cell_type": "code",
   "execution_count": 48,
   "metadata": {},
   "outputs": [
    {
     "data": {
      "text/plain": [
       "<AxesSubplot:>"
      ]
     },
     "execution_count": 48,
     "metadata": {},
     "output_type": "execute_result"
    },
    {
     "data": {
      "image/png": "[encoded data removed]",
      "text/plain": [
       "<Figure size 432x288 with 1 Axes>"
      ]
     },
     "metadata": {
      "needs_background": "light"
     },
     "output_type": "display_data"
    }
   ],
   "source": [
    "plt.ylim(0, 1200)\n",
    "data.boxplot(column='parks_nearest')"
   ]
  },
  {
   "cell_type": "code",
   "execution_count": 49,
   "metadata": {},
   "outputs": [
    {
     "data": {
      "text/plain": [
       "<AxesSubplot:>"
      ]
     },
     "execution_count": 49,
     "metadata": {},
     "output_type": "execute_result"
    },
    {
     "data": {
      "image/png": "[encoded data removed]",
      "text/plain": [
       "<Figure size 432x288 with 1 Axes>"
      ]
     },
     "metadata": {
      "needs_background": "light"
     },
     "output_type": "display_data"
    }
   ],
   "source": [
    "data['parks_nearest'].hist(bins=50, range=(1, 1100))"
   ]
  },
  {
   "attachments": {},
   "cell_type": "markdown",
   "metadata": {},
   "source": [
    "\"Усы\" боксплота: 1 и 1100. Из гистограммы видно,что большинство квартир расположены от парка примерно на расстоянии от 200м до 700м, чаще всего на 450м."
   ]
  },
  {
   "attachments": {},
   "cell_type": "markdown",
   "metadata": {},
   "source": [
    "<br> Отфильтруем датасет от аномальных значений для потолков, стоимости квартиры, площади и количества комнат, и сохраним в переменную `good_data`. В итоге объем нового датафрейма на 12.8% процентов меньше исходного и лишь чуть превышает 10% -  в принципе должно быть приемлимо. Для дальнейшего анализа используем `good_data`.   \n",
    "</div>"
   ]
  },
  {
   "cell_type": "code",
   "execution_count": 50,
   "metadata": {},
   "outputs": [
    {
     "data": {
      "text/plain": [
       "87.22730916916326"
      ]
     },
     "metadata": {},
     "output_type": "display_data"
    }
   ],
   "source": [
    "good_data = data.query('2.25 <= ceiling_height <= 3.05 and 12000 <= last_price <= 12000000 and 12 <= total_area <= 114 and 0 <= rooms <= 6')\n",
    "display((good_data.shape[0] / data.shape[0]) * 100)"
   ]
  },
  {
   "attachments": {},
   "cell_type": "markdown",
   "metadata": {},
   "source": [
    "### 4.11 Изучение быстроты продажи квартир"
   ]
  },
  {
   "cell_type": "code",
   "execution_count": 51,
   "metadata": {},
   "outputs": [
    {
     "data": {
      "text/plain": [
       "count    18219.000000\n",
       "mean       170.122125\n",
       "std        208.631665\n",
       "min          1.000000\n",
       "25%         43.000000\n",
       "50%         90.000000\n",
       "75%        215.000000\n",
       "max       1580.000000\n",
       "Name: days_exposition, dtype: float64"
      ]
     },
     "execution_count": 51,
     "metadata": {},
     "output_type": "execute_result"
    }
   ],
   "source": [
    "good_data['days_exposition'].describe()"
   ]
  },
  {
   "attachments": {},
   "cell_type": "markdown",
   "metadata": {},
   "source": [
    "Среднее время продажи составляет 170 дней (5,5 мес.), медианное 90 (3 мес.). \"Усы\" соотвутсвующего боксплота, которые определят интервал значений за пределами которого находятся выбросы: 1 и 512. Построим гистограмму в пределах этого интервала: "
   ]
  },
  {
   "cell_type": "code",
   "execution_count": 52,
   "metadata": {},
   "outputs": [
    {
     "data": {
      "text/plain": [
       "<AxesSubplot:>"
      ]
     },
     "execution_count": 52,
     "metadata": {},
     "output_type": "execute_result"
    },
    {
     "data": {
      "image/png": "[encoded data removed]",
      "text/plain": [
       "<Figure size 432x288 with 1 Axes>"
      ]
     },
     "metadata": {
      "needs_background": "light"
     },
     "output_type": "display_data"
    }
   ],
   "source": [
    "good_data['days_exposition'].hist(bins=50, range=(1, 512))"
   ]
  },
  {
   "attachments": {},
   "cell_type": "markdown",
   "metadata": {},
   "source": [
    "Из гистограммы видно, что чаще всего квартиры продаются за срок примерно от 45 до 60 дней. Квартиры продающиеся менее чем за 45 дней (1,5 месяца) можно отнести к быстрым продажам, более чем 512 дней (17 месяцев или 1,5 года) к необычно долгим."
   ]
  },
  {
   "attachments": {},
   "cell_type": "markdown",
   "metadata": {},
   "source": [
    "<br> Изучим промежуток от 1 до 100 дней. На нем есть 2 странных пика в пределах 40 и 60 дней. Рассмотрим ближе.  \n",
    "</div>"
   ]
  },
  {
   "cell_type": "code",
   "execution_count": 53,
   "metadata": {},
   "outputs": [
    {
     "data": {
      "text/plain": [
       "<AxesSubplot:>"
      ]
     },
     "execution_count": 53,
     "metadata": {},
     "output_type": "execute_result"
    },
    {
     "data": {
      "image/png": "[encoded data removed]",
      "text/plain": [
       "<Figure size 432x288 with 1 Axes>"
      ]
     },
     "metadata": {
      "needs_background": "light"
     },
     "output_type": "display_data"
    }
   ],
   "source": [
    "good_data['days_exposition'].hist(bins=50, range=(1, 100))"
   ]
  },
  {
   "cell_type": "code",
   "execution_count": 54,
   "metadata": {},
   "outputs": [
    {
     "data": {
      "text/plain": [
       "<AxesSubplot:>"
      ]
     },
     "execution_count": 54,
     "metadata": {},
     "output_type": "execute_result"
    },
    {
     "data": {
      "image/png": "[encoded data removed]",
      "text/plain": [
       "<Figure size 432x288 with 1 Axes>"
      ]
     },
     "metadata": {
      "needs_background": "light"
     },
     "output_type": "display_data"
    }
   ],
   "source": [
    "good_data['days_exposition'].hist(bins=50, range=(40, 60))"
   ]
  },
  {
   "attachments": {},
   "cell_type": "markdown",
   "metadata": {},
   "source": [
    "<br> На 45 и 60 дней день наблюдаются пики продаж. Можно предположить, что на 45 и 60 день сервис Яндекс.Недвижимости по каким-то причинам снимает объявление с продажи.  \n",
    "</div>"
   ]
  },
  {
   "attachments": {},
   "cell_type": "markdown",
   "metadata": {},
   "source": [
    "### 4.12 Какие факторы больше всего влияют на полную стоимость объекта?"
   ]
  },
  {
   "cell_type": "code",
   "execution_count": 55,
   "metadata": {},
   "outputs": [
    {
     "data": {
      "text/plain": [
       "<AxesSubplot:xlabel='total_area', ylabel='last_price'>"
      ]
     },
     "execution_count": 55,
     "metadata": {},
     "output_type": "execute_result"
    },
    {
     "data": {
      "image/png": "[encoded data removed]",
      "text/plain": [
       "<Figure size 432x288 with 1 Axes>"
      ]
     },
     "metadata": {
      "needs_background": "light"
     },
     "output_type": "display_data"
    }
   ],
   "source": [
    "# Общая площадь total_area.\n",
    "cost_VS_totarea = good_data.pivot_table(index='total_area', values='last_price', aggfunc='median')     \n",
    "cost_VS_totarea_reset = cost_VS_totarea.reset_index()\n",
    "cost_VS_totarea_reset.plot.scatter(x='total_area', y='last_price', alpha=0.1)"
   ]
  },
  {
   "attachments": {},
   "cell_type": "markdown",
   "metadata": {},
   "source": [
    "На графике видно, что стоимость квартиры имеет линейную зависимость от общей площади. Так например, для квартиры площадью 20 кв.м стоимость равна 2,1 млн, а для 80 кв.м. 7 млн. Посмотрим на коэффициент Пирсона:"
   ]
  },
  {
   "cell_type": "code",
   "execution_count": 56,
   "metadata": {
    "scrolled": true
   },
   "outputs": [
    {
     "data": {
      "text/plain": [
       "0.8718180040652361"
      ]
     },
     "execution_count": 56,
     "metadata": {},
     "output_type": "execute_result"
    }
   ],
   "source": [
    "cost_VS_totarea_reset['total_area'].corr(cost_VS_totarea_reset['last_price'])"
   ]
  },
  {
   "cell_type": "code",
   "execution_count": 57,
   "metadata": {},
   "outputs": [
    {
     "data": {
      "text/plain": [
       "<AxesSubplot:xlabel='living_area', ylabel='last_price'>"
      ]
     },
     "execution_count": 57,
     "metadata": {},
     "output_type": "execute_result"
    },
    {
     "data": {
      "image/png": "[encoded data removed]",
      "text/plain": [
       "<Figure size 432x288 with 1 Axes>"
      ]
     },
     "metadata": {
      "needs_background": "light"
     },
     "output_type": "display_data"
    }
   ],
   "source": [
    "# Жилая площадь living_area. \n",
    "cost_VS_livarea = good_data.pivot_table(index='living_area', values='last_price', aggfunc='median')     \n",
    "cost_VS_livarea_reset = cost_VS_livarea.reset_index()\n",
    "cost_VS_livarea_reset.plot.scatter(x='living_area', y='last_price', alpha=0.1)"
   ]
  },
  {
   "attachments": {},
   "cell_type": "markdown",
   "metadata": {},
   "source": [
    "На графике видно, что стоимость квартиры имеет линейную зависимость от жилой площади, однако это менее выражено чем для общей площади. Так например, для квартиры жилой площадью 12 кв.м стоимость равна 3,5 млн, а для 50 кв.м. 6,8 млн. Посмотрим на коэффициент Пирсона:"
   ]
  },
  {
   "cell_type": "code",
   "execution_count": 58,
   "metadata": {},
   "outputs": [
    {
     "data": {
      "text/plain": [
       "0.8053687145761782"
      ]
     },
     "execution_count": 58,
     "metadata": {},
     "output_type": "execute_result"
    }
   ],
   "source": [
    "cost_VS_livarea_reset['living_area'].corr(cost_VS_totarea_reset['last_price'])"
   ]
  },
  {
   "cell_type": "code",
   "execution_count": 59,
   "metadata": {
    "scrolled": true
   },
   "outputs": [
    {
     "data": {
      "text/plain": [
       "<AxesSubplot:xlabel='kitchen_area', ylabel='last_price'>"
      ]
     },
     "execution_count": 59,
     "metadata": {},
     "output_type": "execute_result"
    },
    {
     "data": {
      "image/png": "[encoded data removed]",
      "text/plain": [
       "<Figure size 432x288 with 1 Axes>"
      ]
     },
     "metadata": {
      "needs_background": "light"
     },
     "output_type": "display_data"
    }
   ],
   "source": [
    "# Кухонная площадь kitchen_area. \n",
    "cost_VS_kitarea = good_data.pivot_table(index='kitchen_area', values='last_price', aggfunc='median')     \n",
    "cost_VS_kitarea_reset = cost_VS_kitarea.reset_index()\n",
    "cost_VS_kitarea_reset.plot.scatter(x='kitchen_area', y='last_price', alpha=0.1)"
   ]
  },
  {
   "attachments": {},
   "cell_type": "markdown",
   "metadata": {},
   "source": [
    "На графике видно, что стоимость квартиры имеет линейную зависимость от площади кухни, однако это выражено совсем не так отчетливо чем в случае с общей площадью. Так например, для кухни площадью 5 кв.м стоимость равна 3.2 млн, а для 15 кв.м. 6,7 млн. Посмотрим на коэффициент Пирсона:"
   ]
  },
  {
   "cell_type": "code",
   "execution_count": 60,
   "metadata": {},
   "outputs": [
    {
     "data": {
      "text/plain": [
       "0.5836230114500143"
      ]
     },
     "execution_count": 60,
     "metadata": {},
     "output_type": "execute_result"
    }
   ],
   "source": [
    "cost_VS_kitarea_reset['kitchen_area'].corr(cost_VS_kitarea_reset['last_price'])"
   ]
  },
  {
   "cell_type": "code",
   "execution_count": 61,
   "metadata": {},
   "outputs": [
    {
     "data": {
      "text/plain": [
       "<AxesSubplot:xlabel='rooms'>"
      ]
     },
     "execution_count": 61,
     "metadata": {},
     "output_type": "execute_result"
    },
    {
     "data": {
      "image/png": "[encoded data removed]",
      "text/plain": [
       "<Figure size 432x288 with 1 Axes>"
      ]
     },
     "metadata": {
      "needs_background": "light"
     },
     "output_type": "display_data"
    }
   ],
   "source": [
    "# Число комнат rooms. Здесь хорошо подойдет plotbar. \n",
    "good_data.pivot_table(index='rooms', values='last_price', aggfunc='median').plot(kind='bar')"
   ]
  },
  {
   "attachments": {},
   "cell_type": "markdown",
   "metadata": {},
   "source": [
    "Зависимость линейная - с увеличением числа комнат цена возрастает. Если за 1-комнатную придется отдать 3,6 млн., то за 4-комн уже 9 млн."
   ]
  },
  {
   "cell_type": "code",
   "execution_count": 62,
   "metadata": {},
   "outputs": [
    {
     "data": {
      "text/plain": [
       "<AxesSubplot:xlabel='floor_cat'>"
      ]
     },
     "execution_count": 62,
     "metadata": {},
     "output_type": "execute_result"
    },
    {
     "data": {
      "image/png": "[encoded data removed]",
      "text/plain": [
       "<Figure size 432x288 with 1 Axes>"
      ]
     },
     "metadata": {
      "needs_background": "light"
     },
     "output_type": "display_data"
    }
   ],
   "source": [
    "# Категория этажа квартиры floor_cat\n",
    "good_data.pivot_table(index='floor_cat', values='last_price', aggfunc='median').sort_values(by='last_price').plot(kind='bar')"
   ]
  },
  {
   "attachments": {},
   "cell_type": "markdown",
   "metadata": {},
   "source": [
    "Из графика видно, что квартиры на 1-ом этаже на 6% дешевле квартир на последнем и 18% дешевле квартир на других этажах."
   ]
  },
  {
   "cell_type": "code",
   "execution_count": 63,
   "metadata": {},
   "outputs": [
    {
     "data": {
      "text/plain": [
       "<AxesSubplot:xlabel='exposition_weekday'>"
      ]
     },
     "execution_count": 63,
     "metadata": {},
     "output_type": "execute_result"
    },
    {
     "data": {
      "image/png": "[encoded data removed]",
      "text/plain": [
       "<Figure size 432x288 with 1 Axes>"
      ]
     },
     "metadata": {
      "needs_background": "light"
     },
     "output_type": "display_data"
    }
   ],
   "source": [
    "# Дата размещения (день)\n",
    "good_data.pivot_table(index='exposition_weekday', values='last_price', aggfunc='median').plot(kind='bar')"
   ]
  },
  {
   "cell_type": "code",
   "execution_count": 64,
   "metadata": {},
   "outputs": [
    {
     "data": {
      "text/plain": [
       "<AxesSubplot:xlabel='exposition_weekday'>"
      ]
     },
     "execution_count": 64,
     "metadata": {},
     "output_type": "execute_result"
    },
    {
     "data": {
      "image/png": "[encoded data removed]",
      "text/plain": [
       "<Figure size 432x288 with 1 Axes>"
      ]
     },
     "metadata": {
      "needs_background": "light"
     },
     "output_type": "display_data"
    }
   ],
   "source": [
    "# Подкорректируем границы по оси ординат для лучшей визуализации.\n",
    "good_data.pivot_table(index='exposition_weekday', values='last_price', aggfunc='median').plot(kind='bar', ylim=(4e6, 4.45e6))"
   ]
  },
  {
   "attachments": {},
   "cell_type": "markdown",
   "metadata": {},
   "source": [
    "Наибольшая разница между днями публикации на продажу по цене - между втр и субботой в 2% - незначительно. Также можно наблюдать что цена квартир, опубликованных на продажу, меньше всего к к субботе и вновь подрастает в воскресенье."
   ]
  },
  {
   "cell_type": "code",
   "execution_count": 65,
   "metadata": {},
   "outputs": [
    {
     "data": {
      "text/plain": [
       "<AxesSubplot:xlabel='exposition_month'>"
      ]
     },
     "execution_count": 65,
     "metadata": {},
     "output_type": "execute_result"
    },
    {
     "data": {
      "image/png": "[encoded data removed]",
      "text/plain": [
       "<Figure size 432x288 with 1 Axes>"
      ]
     },
     "metadata": {
      "needs_background": "light"
     },
     "output_type": "display_data"
    }
   ],
   "source": [
    "# Дата размещения (месяц)\n",
    "good_data.pivot_table(index='exposition_month', values='last_price', aggfunc='median').plot(kind='bar')"
   ]
  },
  {
   "cell_type": "code",
   "execution_count": 66,
   "metadata": {},
   "outputs": [
    {
     "data": {
      "text/plain": [
       "<AxesSubplot:xlabel='exposition_month'>"
      ]
     },
     "execution_count": 66,
     "metadata": {},
     "output_type": "execute_result"
    },
    {
     "data": {
      "image/png": "[encoded data removed]",
      "text/plain": [
       "<Figure size 432x288 with 1 Axes>"
      ]
     },
     "metadata": {
      "needs_background": "light"
     },
     "output_type": "display_data"
    }
   ],
   "source": [
    "# Подкорректируем границы по оси ординат \n",
    "good_data.pivot_table(index='exposition_month', values='last_price', aggfunc='median').plot(kind='bar', ylim=(4e6, 4.6e6))"
   ]
  },
  {
   "attachments": {},
   "cell_type": "markdown",
   "metadata": {},
   "source": [
    "Из графика видно, что наибольшую цену имеют квартиры опубликованные в апреле, наименьшую в июне, а разница между ними 7%."
   ]
  },
  {
   "cell_type": "code",
   "execution_count": 67,
   "metadata": {},
   "outputs": [
    {
     "data": {
      "text/plain": [
       "<AxesSubplot:xlabel='exposition_year'>"
      ]
     },
     "execution_count": 67,
     "metadata": {},
     "output_type": "execute_result"
    },
    {
     "data": {
      "image/png": "[encoded data removed]",
      "text/plain": [
       "<Figure size 432x288 with 1 Axes>"
      ]
     },
     "metadata": {
      "needs_background": "light"
     },
     "output_type": "display_data"
    }
   ],
   "source": [
    "# Дата размещения (год)\n",
    "good_data.pivot_table(index='exposition_year', values='last_price', aggfunc='median').plot(kind='bar')"
   ]
  },
  {
   "attachments": {},
   "cell_type": "markdown",
   "metadata": {},
   "source": [
    "Здесь уже содержательней - опубликованные на продажу в 2014 квартиры имели самую высокую стоимость. В 2015-2017 - спад, 2018 -2019 - начинается подъем."
   ]
  },
  {
   "attachments": {},
   "cell_type": "markdown",
   "metadata": {},
   "source": [
    "### 4.13 Расчет средней цена кв.м. для 10 населенных пунктов с наибольшим числом объявлений"
   ]
  },
  {
   "cell_type": "code",
   "execution_count": 68,
   "metadata": {},
   "outputs": [
    {
     "data": {
      "text/html": [
       "<div>\n",
       "<style scoped>\n",
       "    .dataframe tbody tr th:only-of-type {\n",
       "        vertical-align: middle;\n",
       "    }\n",
       "\n",
       "    .dataframe tbody tr th {\n",
       "        vertical-align: top;\n",
       "    }\n",
       "\n",
       "    .dataframe thead th {\n",
       "        text-align: right;\n",
       "    }\n",
       "</style>\n",
       "<table border=\"1\" class=\"dataframe\">\n",
       "  <thead>\n",
       "    <tr style=\"text-align: right;\">\n",
       "      <th></th>\n",
       "      <th>count</th>\n",
       "      <th>median</th>\n",
       "    </tr>\n",
       "    <tr>\n",
       "      <th>locality_name</th>\n",
       "      <th></th>\n",
       "      <th></th>\n",
       "    </tr>\n",
       "  </thead>\n",
       "  <tbody>\n",
       "    <tr>\n",
       "      <th>Санкт-Петербург</th>\n",
       "      <td>12940</td>\n",
       "      <td>101960.0</td>\n",
       "    </tr>\n",
       "    <tr>\n",
       "      <th>Пушкин</th>\n",
       "      <td>324</td>\n",
       "      <td>98454.0</td>\n",
       "    </tr>\n",
       "    <tr>\n",
       "      <th>Кудрово</th>\n",
       "      <td>469</td>\n",
       "      <td>95588.0</td>\n",
       "    </tr>\n",
       "    <tr>\n",
       "      <th>посёлок Парголово</th>\n",
       "      <td>326</td>\n",
       "      <td>91779.5</td>\n",
       "    </tr>\n",
       "    <tr>\n",
       "      <th>Мурино</th>\n",
       "      <td>588</td>\n",
       "      <td>86175.0</td>\n",
       "    </tr>\n",
       "    <tr>\n",
       "      <th>посёлок Шушары</th>\n",
       "      <td>436</td>\n",
       "      <td>76747.5</td>\n",
       "    </tr>\n",
       "    <tr>\n",
       "      <th>Колпино</th>\n",
       "      <td>325</td>\n",
       "      <td>74722.0</td>\n",
       "    </tr>\n",
       "    <tr>\n",
       "      <th>Гатчина</th>\n",
       "      <td>298</td>\n",
       "      <td>67860.0</td>\n",
       "    </tr>\n",
       "    <tr>\n",
       "      <th>Всеволожск</th>\n",
       "      <td>390</td>\n",
       "      <td>65789.0</td>\n",
       "    </tr>\n",
       "    <tr>\n",
       "      <th>Выборг</th>\n",
       "      <td>214</td>\n",
       "      <td>57860.5</td>\n",
       "    </tr>\n",
       "  </tbody>\n",
       "</table>\n",
       "</div>"
      ],
      "text/plain": [
       "                   count    median\n",
       "locality_name                     \n",
       "Санкт-Петербург    12940  101960.0\n",
       "Пушкин               324   98454.0\n",
       "Кудрово              469   95588.0\n",
       "посёлок Парголово    326   91779.5\n",
       "Мурино               588   86175.0\n",
       "посёлок Шушары       436   76747.5\n",
       "Колпино              325   74722.0\n",
       "Гатчина              298   67860.0\n",
       "Всеволожск           390   65789.0\n",
       "Выборг               214   57860.5"
      ]
     },
     "execution_count": 68,
     "metadata": {},
     "output_type": "execute_result"
    }
   ],
   "source": [
    "df_10 = good_data.pivot_table(index='locality_name', values='price_per_m2', aggfunc=['count', 'median'])\n",
    "df_10.columns = ['count', 'median']\n",
    "df_10.sort_values(by='count', ascending=False).head(10).sort_values(by='median', ascending=False)"
   ]
  },
  {
   "attachments": {},
   "cell_type": "markdown",
   "metadata": {},
   "source": [
    "Из таблицы видно что наибольшая цена кв.м. у квартир Санкт-Петербурга, наименьшая в Выборге. Заметен тренд на снижение стоимости кв.м по мере отдаления от Санкт-Петербурга. "
   ]
  },
  {
   "attachments": {},
   "cell_type": "markdown",
   "metadata": {},
   "source": [
    "Построим барплот для наглядности\n"
   ]
  },
  {
   "cell_type": "code",
   "execution_count": 69,
   "metadata": {},
   "outputs": [
    {
     "data": {
      "text/plain": [
       "<AxesSubplot:xlabel='locality_name'>"
      ]
     },
     "execution_count": 69,
     "metadata": {},
     "output_type": "execute_result"
    },
    {
     "data": {
      "image/png": "[encoded data removed]",
      "text/plain": [
       "<Figure size 432x288 with 1 Axes>"
      ]
     },
     "metadata": {
      "needs_background": "light"
     },
     "output_type": "display_data"
    }
   ],
   "source": [
    "df_10.sort_values(by='count', ascending=False).head(10).sort_values(by='median', ascending=False).plot(kind='bar')"
   ]
  },
  {
   "attachments": {},
   "cell_type": "markdown",
   "metadata": {},
   "source": [
    "### 4.14 Средняя стоимость квартир Санкт-Петербурга на разном удалении от центра"
   ]
  },
  {
   "cell_type": "code",
   "execution_count": 70,
   "metadata": {},
   "outputs": [
    {
     "data": {
      "text/plain": [
       "<AxesSubplot:xlabel='cityCenters_nearest_km'>"
      ]
     },
     "execution_count": 70,
     "metadata": {},
     "output_type": "execute_result"
    },
    {
     "data": {
      "image/png": "[encoded data removed]",
      "text/plain": [
       "<Figure size 864x360 with 1 Axes>"
      ]
     },
     "metadata": {
      "needs_background": "light"
     },
     "output_type": "display_data"
    }
   ],
   "source": [
    "(good_data\n",
    " .query('locality_name == \"Санкт-Петербург\"')\n",
    " .pivot_table(index='cityCenters_nearest_km', values='last_price', aggfunc='median')\n",
    " .plot(kind='bar', figsize=(12, 5))\n",
    ")"
   ]
  },
  {
   "attachments": {},
   "cell_type": "markdown",
   "metadata": {},
   "source": [
    "Ожидаемо, что жилье в центре Петербурга самое дорогое, затем цена идет на спад до 3км зоны, затем поднимается в радиусе 3-5км и снова опускается. В радиусе 9-19км цены остаются примерно на одном уровне, поднимаются в 20км и снова идут на спад. Примечательно, что на расстоянии 28км от центра цены резко возрастают, а затем снова понемногу опускаются."
   ]
  },
  {
   "attachments": {},
   "cell_type": "markdown",
   "metadata": {},
   "source": [
    "### Общий вывод"
   ]
  },
  {
   "attachments": {},
   "cell_type": "markdown",
   "metadata": {},
   "source": [
    "Типичная квартира находящаяся в продаже на сервисе Яндекс.Недвижимость это квартира:\n",
    "* Площадью 48кв.м.\n",
    "* 2-комнатная\n",
    "* расположенная в 9-этажном доме между 1-ым и последним этажом\n",
    "* проданная за 3 месяца\n",
    "* по цене 4,3 млн."
   ]
  },
  {
   "attachments": {},
   "cell_type": "markdown",
   "metadata": {},
   "source": [
    "В среднем квартира продается в течение 3 месяцев (90 дней). Имеют место быстрые продажи (<45 дней), и даже сверхбыстрые (в течении недели). Последние могут быть проверены на предмет мошенничества. Также встречаются квартиры проданные более чем за 1,5 года и даже за 5 лет - возможно некоторые их них не были вовремя отмечены как проданные и \"висели\" в продаже продолжительное время.\n",
    "\n"
   ]
  },
  {
   "attachments": {},
   "cell_type": "markdown",
   "metadata": {},
   "source": [
    "В наибольшей степени на цену квартиры влияет общая площадь квартиры, затем жилая и в меньшей степени кухонная. Зависимость от эти 3 факторов прямая. Также на цену прямо влияет число комнат: больше комнат - выше цена. Квартиры на 1 и последнем этажах подешевле квартир расположенных между ними. По датам продажи: день недели и месяц слабо влияют на цену в сравнении с годом продажи - в 2014 году цены были наибольшими, затем последующие 4 года цены падали, а с 2018 начался подъем.  "
   ]
  },
  {
   "attachments": {},
   "cell_type": "markdown",
   "metadata": {},
   "source": [
    "В 10 населенных пунктов наиболее представленных в продажах квартир оказались Санкт-Петербург с его пригородами и 2 отдельных города - Всеволожск и Выборг. Самие дорогие квадратные метры в Петербурге, самые дешевые - в Выборге. С удалением от Петербурга стоимость кв.м. падает - этим объясняется более высокая цена в пригородах Петербурга в сравнении с городами расположенных дальше от него."
   ]
  },
  {
   "attachments": {},
   "cell_type": "markdown",
   "metadata": {},
   "source": [
    "По мере удаления от центра цена квартир падает, но не равномерно: в самом центре цены значительно выше, что ожидаемо; далее цена снижается, затем в 3-5 км радиусе вновь повышается. Возможно это связано с тем, в 3-5 км радиус попадают Адмиралтейский, Василеостровский, Петроградский р-ны, которые считаются наиболее престижными в плане недвижимости. "
   ]
  },
  {
   "attachments": {},
   "cell_type": "markdown",
   "metadata": {},
   "source": [
    "Касательно работы с данными - наиболее трудоемким оказалось восполнение пропущенных значений, однако в основном были пропущены значения, которые в рамках данного исследования были малозначимы. Необходимо будет скорректировать работу геосервиса, предтсавляющего данные для Яндекс.Недвижимости, а также выставить ограничения на вводимые в базу даных значения (например для высоту потолков, среди которых встречались значения в 100м и т.д.). "
   ]
  }
 ],
 "metadata": {
  "ExecuteTimeLog": [
   {
    "duration": 56,
    "start_time": "2023-11-17T12:20:41.503Z"
   },
   {
    "duration": 539,
    "start_time": "2023-11-17T12:20:54.639Z"
   },
   {
    "duration": 20,
    "start_time": "2023-11-17T12:20:56.742Z"
   },
   {
    "duration": 92,
    "start_time": "2023-11-17T12:21:38.794Z"
   },
   {
    "duration": 7,
    "start_time": "2023-11-17T12:21:42.436Z"
   },
   {
    "duration": 94,
    "start_time": "2023-11-17T12:27:18.565Z"
   },
   {
    "duration": 35,
    "start_time": "2023-11-17T12:27:19.998Z"
   },
   {
    "duration": 50,
    "start_time": "2023-11-17T14:13:34.630Z"
   },
   {
    "duration": 698,
    "start_time": "2023-11-17T14:13:48.454Z"
   },
   {
    "duration": 46,
    "start_time": "2023-11-17T14:13:49.154Z"
   },
   {
    "duration": 17,
    "start_time": "2023-11-17T14:13:52.290Z"
   },
   {
    "duration": 31,
    "start_time": "2023-11-17T14:57:19.103Z"
   },
   {
    "duration": 7,
    "start_time": "2023-11-17T14:57:47.126Z"
   },
   {
    "duration": 3756,
    "start_time": "2023-11-17T14:59:48.974Z"
   },
   {
    "duration": 3546,
    "start_time": "2023-11-17T15:34:06.428Z"
   },
   {
    "duration": 4216,
    "start_time": "2023-11-17T15:34:55.490Z"
   },
   {
    "duration": 4564,
    "start_time": "2023-11-17T15:43:14.268Z"
   },
   {
    "duration": 53,
    "start_time": "2023-11-17T17:20:12.574Z"
   },
   {
    "duration": 42,
    "start_time": "2023-11-17T17:21:46.386Z"
   },
   {
    "duration": 10,
    "start_time": "2023-11-17T17:21:52.115Z"
   },
   {
    "duration": 7,
    "start_time": "2023-11-17T17:30:58.034Z"
   },
   {
    "duration": 7,
    "start_time": "2023-11-17T18:58:55.704Z"
   },
   {
    "duration": 6,
    "start_time": "2023-11-17T19:10:08.752Z"
   },
   {
    "duration": 6,
    "start_time": "2023-11-17T19:10:51.902Z"
   },
   {
    "duration": 1290,
    "start_time": "2023-11-17T19:35:16.490Z"
   },
   {
    "duration": 1214,
    "start_time": "2023-11-17T19:35:28.705Z"
   },
   {
    "duration": 7,
    "start_time": "2023-11-17T19:35:39.740Z"
   },
   {
    "duration": 48,
    "start_time": "2023-11-18T10:50:37.720Z"
   },
   {
    "duration": 541,
    "start_time": "2023-11-18T10:50:44.736Z"
   },
   {
    "duration": 44,
    "start_time": "2023-11-18T10:50:45.279Z"
   },
   {
    "duration": 14,
    "start_time": "2023-11-18T10:50:45.325Z"
   },
   {
    "duration": 4029,
    "start_time": "2023-11-18T10:50:45.340Z"
   },
   {
    "duration": 10,
    "start_time": "2023-11-18T10:50:49.370Z"
   },
   {
    "duration": 9,
    "start_time": "2023-11-18T10:51:01.260Z"
   },
   {
    "duration": 6,
    "start_time": "2023-11-18T10:54:17.999Z"
   },
   {
    "duration": 5,
    "start_time": "2023-11-18T11:16:53.516Z"
   },
   {
    "duration": 3,
    "start_time": "2023-11-18T11:17:38.945Z"
   },
   {
    "duration": 7,
    "start_time": "2023-11-18T11:18:00.443Z"
   },
   {
    "duration": 7,
    "start_time": "2023-11-18T15:12:44.727Z"
   },
   {
    "duration": 12,
    "start_time": "2023-11-18T15:13:29.764Z"
   },
   {
    "duration": 37,
    "start_time": "2023-11-18T15:26:42.751Z"
   },
   {
    "duration": 8,
    "start_time": "2023-11-18T15:27:00.059Z"
   },
   {
    "duration": 7,
    "start_time": "2023-11-18T15:27:27.478Z"
   },
   {
    "duration": 8,
    "start_time": "2023-11-18T15:27:33.069Z"
   },
   {
    "duration": 7,
    "start_time": "2023-11-18T15:34:27.857Z"
   },
   {
    "duration": 10,
    "start_time": "2023-11-18T15:34:53.961Z"
   },
   {
    "duration": 91,
    "start_time": "2023-11-18T15:35:05.985Z"
   },
   {
    "duration": 7,
    "start_time": "2023-11-18T15:35:09.678Z"
   },
   {
    "duration": 7,
    "start_time": "2023-11-18T15:35:25.491Z"
   },
   {
    "duration": 7,
    "start_time": "2023-11-18T15:35:28.683Z"
   },
   {
    "duration": 7,
    "start_time": "2023-11-18T15:40:48.114Z"
   },
   {
    "duration": 1088,
    "start_time": "2023-11-18T15:45:01.238Z"
   },
   {
    "duration": 7,
    "start_time": "2023-11-18T15:45:44.534Z"
   },
   {
    "duration": 11,
    "start_time": "2023-11-18T15:46:21.856Z"
   },
   {
    "duration": 10,
    "start_time": "2023-11-18T15:46:31.892Z"
   },
   {
    "duration": 9,
    "start_time": "2023-11-18T15:46:46.284Z"
   },
   {
    "duration": 10,
    "start_time": "2023-11-18T15:46:54.199Z"
   },
   {
    "duration": 129,
    "start_time": "2023-11-18T15:51:25.216Z"
   },
   {
    "duration": 13,
    "start_time": "2023-11-18T15:51:49.242Z"
   },
   {
    "duration": 11,
    "start_time": "2023-11-18T15:52:19.684Z"
   },
   {
    "duration": 10,
    "start_time": "2023-11-18T15:52:39.855Z"
   },
   {
    "duration": 10,
    "start_time": "2023-11-18T15:52:50.945Z"
   },
   {
    "duration": 10,
    "start_time": "2023-11-18T15:53:03.126Z"
   },
   {
    "duration": 10,
    "start_time": "2023-11-18T15:53:07.827Z"
   },
   {
    "duration": 9,
    "start_time": "2023-11-18T15:53:12.163Z"
   },
   {
    "duration": 10,
    "start_time": "2023-11-18T15:53:16.184Z"
   },
   {
    "duration": 13,
    "start_time": "2023-11-18T15:53:47.626Z"
   },
   {
    "duration": 11,
    "start_time": "2023-11-18T15:53:55.465Z"
   },
   {
    "duration": 11,
    "start_time": "2023-11-18T15:55:54.485Z"
   },
   {
    "duration": 11,
    "start_time": "2023-11-18T15:58:04.702Z"
   },
   {
    "duration": 10,
    "start_time": "2023-11-18T15:58:09.133Z"
   },
   {
    "duration": 11,
    "start_time": "2023-11-18T15:58:14.771Z"
   },
   {
    "duration": 11,
    "start_time": "2023-11-18T15:58:18.487Z"
   },
   {
    "duration": 10,
    "start_time": "2023-11-18T15:58:22.844Z"
   },
   {
    "duration": 10,
    "start_time": "2023-11-18T15:58:39.049Z"
   },
   {
    "duration": 11,
    "start_time": "2023-11-18T15:59:05.096Z"
   },
   {
    "duration": 10,
    "start_time": "2023-11-18T15:59:14.936Z"
   },
   {
    "duration": 10,
    "start_time": "2023-11-18T16:01:57.118Z"
   },
   {
    "duration": 11,
    "start_time": "2023-11-18T16:02:05.327Z"
   },
   {
    "duration": 11,
    "start_time": "2023-11-18T16:02:58.221Z"
   },
   {
    "duration": 11,
    "start_time": "2023-11-18T16:03:04.595Z"
   },
   {
    "duration": 92,
    "start_time": "2023-11-18T16:06:56.097Z"
   },
   {
    "duration": 98,
    "start_time": "2023-11-18T16:07:50.802Z"
   },
   {
    "duration": 87,
    "start_time": "2023-11-18T16:09:10.367Z"
   },
   {
    "duration": 98,
    "start_time": "2023-11-18T16:09:19.404Z"
   },
   {
    "duration": 95,
    "start_time": "2023-11-18T16:10:58.589Z"
   },
   {
    "duration": 83,
    "start_time": "2023-11-18T16:11:13.951Z"
   },
   {
    "duration": 86,
    "start_time": "2023-11-18T16:11:48.955Z"
   },
   {
    "duration": 15,
    "start_time": "2023-11-18T16:12:49.725Z"
   },
   {
    "duration": 13,
    "start_time": "2023-11-18T16:13:10.962Z"
   },
   {
    "duration": 18,
    "start_time": "2023-11-18T16:14:15.805Z"
   },
   {
    "duration": 16,
    "start_time": "2023-11-18T16:14:46.345Z"
   },
   {
    "duration": 21,
    "start_time": "2023-11-18T16:15:10.733Z"
   },
   {
    "duration": 16,
    "start_time": "2023-11-18T16:15:31.104Z"
   },
   {
    "duration": 15,
    "start_time": "2023-11-18T16:15:49.217Z"
   },
   {
    "duration": 16,
    "start_time": "2023-11-18T16:15:59.582Z"
   },
   {
    "duration": 15,
    "start_time": "2023-11-18T16:16:02.379Z"
   },
   {
    "duration": 15,
    "start_time": "2023-11-18T16:16:14.318Z"
   },
   {
    "duration": 13,
    "start_time": "2023-11-18T16:16:44.671Z"
   },
   {
    "duration": 16,
    "start_time": "2023-11-18T16:16:51.725Z"
   },
   {
    "duration": 16,
    "start_time": "2023-11-18T16:17:03.294Z"
   },
   {
    "duration": 16,
    "start_time": "2023-11-18T16:17:33.544Z"
   },
   {
    "duration": 14,
    "start_time": "2023-11-18T16:18:07.098Z"
   },
   {
    "duration": 16,
    "start_time": "2023-11-18T16:18:14.694Z"
   },
   {
    "duration": 17,
    "start_time": "2023-11-18T16:18:39.536Z"
   },
   {
    "duration": 16,
    "start_time": "2023-11-18T16:19:06.633Z"
   },
   {
    "duration": 16,
    "start_time": "2023-11-18T16:19:13.083Z"
   },
   {
    "duration": 21,
    "start_time": "2023-11-18T16:19:23.170Z"
   },
   {
    "duration": 16,
    "start_time": "2023-11-18T16:19:33.890Z"
   },
   {
    "duration": 18,
    "start_time": "2023-11-18T16:20:00.454Z"
   },
   {
    "duration": 14,
    "start_time": "2023-11-18T16:25:26.452Z"
   },
   {
    "duration": 17,
    "start_time": "2023-11-18T16:25:37.764Z"
   },
   {
    "duration": 11,
    "start_time": "2023-11-18T16:27:02.823Z"
   },
   {
    "duration": 11,
    "start_time": "2023-11-18T16:28:52.377Z"
   },
   {
    "duration": 10,
    "start_time": "2023-11-18T16:29:18.140Z"
   },
   {
    "duration": 16,
    "start_time": "2023-11-18T16:29:24.446Z"
   },
   {
    "duration": 14,
    "start_time": "2023-11-18T16:30:00.488Z"
   },
   {
    "duration": 17,
    "start_time": "2023-11-18T16:30:06.012Z"
   },
   {
    "duration": 17,
    "start_time": "2023-11-18T16:32:20.132Z"
   },
   {
    "duration": 18,
    "start_time": "2023-11-18T16:32:49.248Z"
   },
   {
    "duration": 90,
    "start_time": "2023-11-18T16:32:57.946Z"
   },
   {
    "duration": 37,
    "start_time": "2023-11-18T16:32:58.038Z"
   },
   {
    "duration": 16,
    "start_time": "2023-11-18T16:32:58.076Z"
   },
   {
    "duration": 3985,
    "start_time": "2023-11-18T16:32:58.094Z"
   },
   {
    "duration": 11,
    "start_time": "2023-11-18T16:33:02.081Z"
   },
   {
    "duration": 13,
    "start_time": "2023-11-18T16:33:02.094Z"
   },
   {
    "duration": 17,
    "start_time": "2023-11-18T16:33:02.108Z"
   },
   {
    "duration": 21,
    "start_time": "2023-11-18T16:33:02.126Z"
   },
   {
    "duration": 22,
    "start_time": "2023-11-18T16:33:02.148Z"
   },
   {
    "duration": 17,
    "start_time": "2023-11-18T16:33:06.399Z"
   },
   {
    "duration": 87,
    "start_time": "2023-11-18T16:33:37.886Z"
   },
   {
    "duration": 37,
    "start_time": "2023-11-18T16:33:37.975Z"
   },
   {
    "duration": 23,
    "start_time": "2023-11-18T16:33:38.014Z"
   },
   {
    "duration": 4050,
    "start_time": "2023-11-18T16:33:38.039Z"
   },
   {
    "duration": 10,
    "start_time": "2023-11-18T16:33:42.090Z"
   },
   {
    "duration": 27,
    "start_time": "2023-11-18T16:33:42.102Z"
   },
   {
    "duration": 15,
    "start_time": "2023-11-18T16:33:42.130Z"
   },
   {
    "duration": 12,
    "start_time": "2023-11-18T16:33:42.146Z"
   },
   {
    "duration": 10,
    "start_time": "2023-11-18T16:33:42.159Z"
   },
   {
    "duration": 13,
    "start_time": "2023-11-18T16:33:42.171Z"
   },
   {
    "duration": 14,
    "start_time": "2023-11-18T16:34:01.150Z"
   },
   {
    "duration": 88,
    "start_time": "2023-11-18T16:34:21.717Z"
   },
   {
    "duration": 40,
    "start_time": "2023-11-18T16:34:21.806Z"
   },
   {
    "duration": 16,
    "start_time": "2023-11-18T16:34:21.847Z"
   },
   {
    "duration": 3890,
    "start_time": "2023-11-18T16:34:21.864Z"
   },
   {
    "duration": 10,
    "start_time": "2023-11-18T16:34:25.755Z"
   },
   {
    "duration": 7,
    "start_time": "2023-11-18T16:34:25.766Z"
   },
   {
    "duration": 17,
    "start_time": "2023-11-18T16:34:25.775Z"
   },
   {
    "duration": 4,
    "start_time": "2023-11-18T16:34:25.793Z"
   },
   {
    "duration": 10,
    "start_time": "2023-11-18T16:34:25.798Z"
   },
   {
    "duration": 14,
    "start_time": "2023-11-18T16:34:40.901Z"
   },
   {
    "duration": 46,
    "start_time": "2023-11-18T16:35:20.344Z"
   },
   {
    "duration": 37,
    "start_time": "2023-11-18T16:36:01.409Z"
   },
   {
    "duration": 9,
    "start_time": "2023-11-18T16:36:22.097Z"
   },
   {
    "duration": 16,
    "start_time": "2023-11-18T16:38:14.356Z"
   },
   {
    "duration": 47,
    "start_time": "2023-11-18T18:49:15.724Z"
   },
   {
    "duration": 5,
    "start_time": "2023-11-18T18:49:20.407Z"
   },
   {
    "duration": 514,
    "start_time": "2023-11-18T18:49:26.054Z"
   },
   {
    "duration": 41,
    "start_time": "2023-11-18T18:49:26.570Z"
   },
   {
    "duration": 13,
    "start_time": "2023-11-18T18:49:26.613Z"
   },
   {
    "duration": 3875,
    "start_time": "2023-11-18T18:49:26.628Z"
   },
   {
    "duration": 11,
    "start_time": "2023-11-18T18:49:30.504Z"
   },
   {
    "duration": 37,
    "start_time": "2023-11-18T18:49:30.516Z"
   },
   {
    "duration": 49,
    "start_time": "2023-11-18T18:49:30.555Z"
   },
   {
    "duration": 46,
    "start_time": "2023-11-18T18:49:30.605Z"
   },
   {
    "duration": 44,
    "start_time": "2023-11-18T18:49:30.653Z"
   },
   {
    "duration": 8,
    "start_time": "2023-11-18T18:49:33.432Z"
   },
   {
    "duration": 37,
    "start_time": "2023-11-18T20:03:51.909Z"
   },
   {
    "duration": 8,
    "start_time": "2023-11-18T20:03:56.049Z"
   },
   {
    "duration": 7,
    "start_time": "2023-11-18T20:04:23.813Z"
   },
   {
    "duration": 30076,
    "start_time": "2023-11-18T20:35:02.749Z"
   },
   {
    "duration": 49,
    "start_time": "2023-11-18T20:35:41.842Z"
   },
   {
    "duration": 51,
    "start_time": "2023-11-18T20:36:06.924Z"
   },
   {
    "duration": 50,
    "start_time": "2023-11-18T20:36:28.683Z"
   },
   {
    "duration": 97,
    "start_time": "2023-11-18T20:44:43.129Z"
   },
   {
    "duration": 34,
    "start_time": "2023-11-18T20:44:43.228Z"
   },
   {
    "duration": 14,
    "start_time": "2023-11-18T20:44:43.263Z"
   },
   {
    "duration": 3810,
    "start_time": "2023-11-18T20:44:43.279Z"
   },
   {
    "duration": 9,
    "start_time": "2023-11-18T20:44:47.090Z"
   },
   {
    "duration": 11,
    "start_time": "2023-11-18T20:44:47.100Z"
   },
   {
    "duration": 16,
    "start_time": "2023-11-18T20:44:47.113Z"
   },
   {
    "duration": 10,
    "start_time": "2023-11-18T20:44:47.130Z"
   },
   {
    "duration": 16,
    "start_time": "2023-11-18T20:44:47.141Z"
   },
   {
    "duration": 49,
    "start_time": "2023-11-18T20:44:47.159Z"
   },
   {
    "duration": 5,
    "start_time": "2023-11-18T20:45:22.543Z"
   },
   {
    "duration": 6,
    "start_time": "2023-11-18T20:47:34.304Z"
   },
   {
    "duration": 7,
    "start_time": "2023-11-18T21:00:21.535Z"
   },
   {
    "duration": 5,
    "start_time": "2023-11-18T21:11:23.874Z"
   },
   {
    "duration": 7,
    "start_time": "2023-11-18T21:11:34.342Z"
   },
   {
    "duration": 4,
    "start_time": "2023-11-18T21:11:41.564Z"
   },
   {
    "duration": 6,
    "start_time": "2023-11-18T21:11:45.123Z"
   },
   {
    "duration": 7,
    "start_time": "2023-11-18T21:12:27.917Z"
   },
   {
    "duration": 3,
    "start_time": "2023-11-18T21:42:05.501Z"
   },
   {
    "duration": 52,
    "start_time": "2023-11-19T11:36:40.972Z"
   },
   {
    "duration": 626,
    "start_time": "2023-11-19T11:36:46.570Z"
   },
   {
    "duration": 48,
    "start_time": "2023-11-19T11:36:47.198Z"
   },
   {
    "duration": 16,
    "start_time": "2023-11-19T11:36:47.248Z"
   },
   {
    "duration": 4623,
    "start_time": "2023-11-19T11:36:47.265Z"
   },
   {
    "duration": 11,
    "start_time": "2023-11-19T11:36:51.891Z"
   },
   {
    "duration": 7,
    "start_time": "2023-11-19T11:36:51.903Z"
   },
   {
    "duration": 22,
    "start_time": "2023-11-19T11:36:51.912Z"
   },
   {
    "duration": 3,
    "start_time": "2023-11-19T11:36:51.936Z"
   },
   {
    "duration": 35,
    "start_time": "2023-11-19T11:36:51.941Z"
   },
   {
    "duration": 19,
    "start_time": "2023-11-19T11:36:51.977Z"
   },
   {
    "duration": 936,
    "start_time": "2023-11-19T11:42:54.769Z"
   },
   {
    "duration": 37,
    "start_time": "2023-11-19T11:43:11.047Z"
   },
   {
    "duration": 2,
    "start_time": "2023-11-19T11:43:46.918Z"
   },
   {
    "duration": 185,
    "start_time": "2023-11-19T11:55:57.849Z"
   },
   {
    "duration": 6,
    "start_time": "2023-11-19T12:04:24.235Z"
   },
   {
    "duration": 8,
    "start_time": "2023-11-19T12:04:58.782Z"
   },
   {
    "duration": 47,
    "start_time": "2023-11-19T12:06:00.116Z"
   },
   {
    "duration": 63,
    "start_time": "2023-11-19T12:10:47.616Z"
   },
   {
    "duration": 62,
    "start_time": "2023-11-19T12:14:12.734Z"
   },
   {
    "duration": 11,
    "start_time": "2023-11-19T12:16:41.210Z"
   },
   {
    "duration": 130,
    "start_time": "2023-11-19T12:17:05.147Z"
   },
   {
    "duration": 6,
    "start_time": "2023-11-19T12:17:13.361Z"
   },
   {
    "duration": 6,
    "start_time": "2023-11-19T12:17:40.958Z"
   },
   {
    "duration": 7,
    "start_time": "2023-11-19T12:17:50.689Z"
   },
   {
    "duration": 59,
    "start_time": "2023-11-19T12:21:33.841Z"
   },
   {
    "duration": 60,
    "start_time": "2023-11-19T12:29:58.335Z"
   },
   {
    "duration": 156,
    "start_time": "2023-11-19T12:33:10.887Z"
   },
   {
    "duration": 44,
    "start_time": "2023-11-19T12:33:28.696Z"
   },
   {
    "duration": 100,
    "start_time": "2023-11-19T12:41:11.466Z"
   },
   {
    "duration": 10,
    "start_time": "2023-11-19T12:42:16.627Z"
   },
   {
    "duration": 21,
    "start_time": "2023-11-19T12:42:53.652Z"
   },
   {
    "duration": 17,
    "start_time": "2023-11-19T12:43:10.330Z"
   },
   {
    "duration": 109,
    "start_time": "2023-11-19T12:43:49.924Z"
   },
   {
    "duration": 40,
    "start_time": "2023-11-19T12:43:50.036Z"
   },
   {
    "duration": 26,
    "start_time": "2023-11-19T12:43:50.078Z"
   },
   {
    "duration": 4285,
    "start_time": "2023-11-19T12:43:50.107Z"
   },
   {
    "duration": 11,
    "start_time": "2023-11-19T12:43:54.393Z"
   },
   {
    "duration": 7,
    "start_time": "2023-11-19T12:43:54.406Z"
   },
   {
    "duration": 9,
    "start_time": "2023-11-19T12:43:54.415Z"
   },
   {
    "duration": 3,
    "start_time": "2023-11-19T12:43:54.425Z"
   },
   {
    "duration": 13,
    "start_time": "2023-11-19T12:43:54.430Z"
   },
   {
    "duration": 16,
    "start_time": "2023-11-19T12:43:57.832Z"
   },
   {
    "duration": 17,
    "start_time": "2023-11-19T13:31:17.771Z"
   },
   {
    "duration": 104,
    "start_time": "2023-11-19T13:31:31.153Z"
   },
   {
    "duration": 42,
    "start_time": "2023-11-19T13:31:31.259Z"
   },
   {
    "duration": 113,
    "start_time": "2023-11-19T13:31:31.303Z"
   },
   {
    "duration": 4686,
    "start_time": "2023-11-19T13:31:31.418Z"
   },
   {
    "duration": 11,
    "start_time": "2023-11-19T13:31:36.106Z"
   },
   {
    "duration": 35,
    "start_time": "2023-11-19T13:31:36.118Z"
   },
   {
    "duration": 13,
    "start_time": "2023-11-19T13:31:36.155Z"
   },
   {
    "duration": 21,
    "start_time": "2023-11-19T13:31:36.169Z"
   },
   {
    "duration": 30,
    "start_time": "2023-11-19T13:31:36.192Z"
   },
   {
    "duration": 20,
    "start_time": "2023-11-19T13:31:36.224Z"
   },
   {
    "duration": 8,
    "start_time": "2023-11-19T13:32:09.656Z"
   },
   {
    "duration": 8,
    "start_time": "2023-11-19T13:32:28.139Z"
   },
   {
    "duration": 94,
    "start_time": "2023-11-19T13:32:36.593Z"
   },
   {
    "duration": 41,
    "start_time": "2023-11-19T13:32:36.689Z"
   },
   {
    "duration": 21,
    "start_time": "2023-11-19T13:32:36.731Z"
   },
   {
    "duration": 4273,
    "start_time": "2023-11-19T13:32:36.754Z"
   },
   {
    "duration": 11,
    "start_time": "2023-11-19T13:32:41.028Z"
   },
   {
    "duration": 15,
    "start_time": "2023-11-19T13:32:41.041Z"
   },
   {
    "duration": 10,
    "start_time": "2023-11-19T13:32:41.058Z"
   },
   {
    "duration": 4,
    "start_time": "2023-11-19T13:32:41.069Z"
   },
   {
    "duration": 32,
    "start_time": "2023-11-19T13:32:41.074Z"
   },
   {
    "duration": 16,
    "start_time": "2023-11-19T13:32:41.125Z"
   },
   {
    "duration": 7,
    "start_time": "2023-11-19T13:33:04.910Z"
   },
   {
    "duration": 98,
    "start_time": "2023-11-19T13:33:07.317Z"
   },
   {
    "duration": 41,
    "start_time": "2023-11-19T13:33:07.417Z"
   },
   {
    "duration": 15,
    "start_time": "2023-11-19T13:33:07.460Z"
   },
   {
    "duration": 4286,
    "start_time": "2023-11-19T13:33:07.477Z"
   },
   {
    "duration": 11,
    "start_time": "2023-11-19T13:33:11.764Z"
   },
   {
    "duration": 26,
    "start_time": "2023-11-19T13:33:11.777Z"
   },
   {
    "duration": 14,
    "start_time": "2023-11-19T13:33:11.804Z"
   },
   {
    "duration": 9,
    "start_time": "2023-11-19T13:33:11.820Z"
   },
   {
    "duration": 13,
    "start_time": "2023-11-19T13:33:11.831Z"
   },
   {
    "duration": 7,
    "start_time": "2023-11-19T13:33:11.847Z"
   },
   {
    "duration": 69,
    "start_time": "2023-11-19T13:33:29.717Z"
   },
   {
    "duration": 64,
    "start_time": "2023-11-19T13:34:39.245Z"
   },
   {
    "duration": 11,
    "start_time": "2023-11-19T13:34:44.135Z"
   },
   {
    "duration": 12,
    "start_time": "2023-11-19T13:35:07.150Z"
   },
   {
    "duration": 107,
    "start_time": "2023-11-19T13:35:29.112Z"
   },
   {
    "duration": 43,
    "start_time": "2023-11-19T13:35:29.221Z"
   },
   {
    "duration": 416,
    "start_time": "2023-11-19T13:35:29.266Z"
   },
   {
    "duration": 4157,
    "start_time": "2023-11-19T13:35:29.684Z"
   },
   {
    "duration": 10,
    "start_time": "2023-11-19T13:35:33.843Z"
   },
   {
    "duration": 7,
    "start_time": "2023-11-19T13:35:33.855Z"
   },
   {
    "duration": 9,
    "start_time": "2023-11-19T13:35:33.864Z"
   },
   {
    "duration": 25,
    "start_time": "2023-11-19T13:35:33.875Z"
   },
   {
    "duration": 22,
    "start_time": "2023-11-19T13:35:33.901Z"
   },
   {
    "duration": 106,
    "start_time": "2023-11-19T14:13:05.590Z"
   },
   {
    "duration": 63,
    "start_time": "2023-11-19T14:13:12.873Z"
   },
   {
    "duration": 98,
    "start_time": "2023-11-19T14:18:25.024Z"
   },
   {
    "duration": 40,
    "start_time": "2023-11-19T14:18:25.124Z"
   },
   {
    "duration": 519,
    "start_time": "2023-11-19T14:18:25.167Z"
   },
   {
    "duration": 4009,
    "start_time": "2023-11-19T14:18:25.688Z"
   },
   {
    "duration": 11,
    "start_time": "2023-11-19T14:18:29.699Z"
   },
   {
    "duration": 19,
    "start_time": "2023-11-19T14:18:29.711Z"
   },
   {
    "duration": 10,
    "start_time": "2023-11-19T14:18:29.731Z"
   },
   {
    "duration": 4,
    "start_time": "2023-11-19T14:18:29.742Z"
   },
   {
    "duration": 12,
    "start_time": "2023-11-19T14:18:29.748Z"
   },
   {
    "duration": 59,
    "start_time": "2023-11-19T14:18:33.263Z"
   },
   {
    "duration": 10,
    "start_time": "2023-11-19T14:20:49.947Z"
   },
   {
    "duration": 28,
    "start_time": "2023-11-19T14:22:02.090Z"
   },
   {
    "duration": 24,
    "start_time": "2023-11-19T14:27:13.125Z"
   },
   {
    "duration": 21,
    "start_time": "2023-11-19T14:28:49.793Z"
   },
   {
    "duration": 88,
    "start_time": "2023-11-19T14:29:01.068Z"
   },
   {
    "duration": 93,
    "start_time": "2023-11-19T14:29:17.028Z"
   },
   {
    "duration": 103,
    "start_time": "2023-11-19T14:30:54.247Z"
   },
   {
    "duration": 18,
    "start_time": "2023-11-19T14:32:29.367Z"
   },
   {
    "duration": 115,
    "start_time": "2023-11-19T14:32:33.430Z"
   },
   {
    "duration": 79,
    "start_time": "2023-11-19T14:32:46.632Z"
   },
   {
    "duration": 105,
    "start_time": "2023-11-19T14:32:50.717Z"
   },
   {
    "duration": 26,
    "start_time": "2023-11-19T14:33:12.447Z"
   },
   {
    "duration": 71,
    "start_time": "2023-11-19T14:33:17.672Z"
   },
   {
    "duration": 36,
    "start_time": "2023-11-19T14:35:17.680Z"
   },
   {
    "duration": 47,
    "start_time": "2023-11-19T14:35:27.615Z"
   },
   {
    "duration": 5,
    "start_time": "2023-11-19T14:36:08.735Z"
   },
   {
    "duration": 39,
    "start_time": "2023-11-19T14:36:53.250Z"
   },
   {
    "duration": 42,
    "start_time": "2023-11-19T14:37:53.439Z"
   },
   {
    "duration": 42,
    "start_time": "2023-11-19T14:38:00.440Z"
   },
   {
    "duration": 41,
    "start_time": "2023-11-19T14:38:18.077Z"
   },
   {
    "duration": 46,
    "start_time": "2023-11-19T14:38:30.493Z"
   },
   {
    "duration": 6,
    "start_time": "2023-11-19T14:41:20.059Z"
   },
   {
    "duration": 11,
    "start_time": "2023-11-19T14:42:25.113Z"
   },
   {
    "duration": 6,
    "start_time": "2023-11-19T14:42:43.843Z"
   },
   {
    "duration": 8,
    "start_time": "2023-11-19T14:43:08.567Z"
   },
   {
    "duration": 9,
    "start_time": "2023-11-19T14:43:17.139Z"
   },
   {
    "duration": 52,
    "start_time": "2023-11-19T14:46:29.820Z"
   },
   {
    "duration": 24,
    "start_time": "2023-11-19T14:47:45.984Z"
   },
   {
    "duration": 25,
    "start_time": "2023-11-19T14:48:04.857Z"
   },
   {
    "duration": 21,
    "start_time": "2023-11-19T14:48:53.891Z"
   },
   {
    "duration": 25,
    "start_time": "2023-11-19T15:15:17.483Z"
   },
   {
    "duration": 15,
    "start_time": "2023-11-19T15:16:53.041Z"
   },
   {
    "duration": 101,
    "start_time": "2023-11-19T15:17:29.901Z"
   },
   {
    "duration": 54,
    "start_time": "2023-11-19T15:17:30.004Z"
   },
   {
    "duration": 105,
    "start_time": "2023-11-19T15:17:30.060Z"
   },
   {
    "duration": 4881,
    "start_time": "2023-11-19T15:17:30.168Z"
   },
   {
    "duration": 11,
    "start_time": "2023-11-19T15:17:35.050Z"
   },
   {
    "duration": 23,
    "start_time": "2023-11-19T15:17:35.063Z"
   },
   {
    "duration": 14,
    "start_time": "2023-11-19T15:17:35.089Z"
   },
   {
    "duration": 4,
    "start_time": "2023-11-19T15:17:35.105Z"
   },
   {
    "duration": 13,
    "start_time": "2023-11-19T15:17:35.111Z"
   },
   {
    "duration": 27,
    "start_time": "2023-11-19T15:17:40.005Z"
   },
   {
    "duration": 22,
    "start_time": "2023-11-19T15:18:36.461Z"
   },
   {
    "duration": 18,
    "start_time": "2023-11-19T16:09:00.896Z"
   },
   {
    "duration": 9,
    "start_time": "2023-11-19T16:22:29.032Z"
   },
   {
    "duration": 25,
    "start_time": "2023-11-19T16:22:40.476Z"
   },
   {
    "duration": 244,
    "start_time": "2023-11-19T16:25:47.207Z"
   },
   {
    "duration": 16,
    "start_time": "2023-11-19T16:25:59.454Z"
   },
   {
    "duration": 13,
    "start_time": "2023-11-19T16:47:25.636Z"
   },
   {
    "duration": 978,
    "start_time": "2023-11-19T16:47:31.407Z"
   },
   {
    "duration": 9,
    "start_time": "2023-11-19T16:47:46.137Z"
   },
   {
    "duration": 15,
    "start_time": "2023-11-19T16:48:04.939Z"
   },
   {
    "duration": 238,
    "start_time": "2023-11-19T19:02:34.171Z"
   },
   {
    "duration": 17,
    "start_time": "2023-11-19T19:02:55.329Z"
   },
   {
    "duration": 15,
    "start_time": "2023-11-19T19:06:36.820Z"
   },
   {
    "duration": 14,
    "start_time": "2023-11-19T19:10:45.892Z"
   },
   {
    "duration": 11146,
    "start_time": "2023-11-19T19:14:43.953Z"
   },
   {
    "duration": 1085,
    "start_time": "2023-11-19T19:16:17.731Z"
   },
   {
    "duration": 14,
    "start_time": "2023-11-19T19:19:21.654Z"
   },
   {
    "duration": 93,
    "start_time": "2023-11-19T19:32:48.150Z"
   },
   {
    "duration": 84,
    "start_time": "2023-11-19T19:32:54.730Z"
   },
   {
    "duration": 89,
    "start_time": "2023-11-19T19:33:07.528Z"
   },
   {
    "duration": 10904,
    "start_time": "2023-11-19T19:33:12.915Z"
   },
   {
    "duration": 981,
    "start_time": "2023-11-19T20:04:26.311Z"
   },
   {
    "duration": 11,
    "start_time": "2023-11-19T20:18:56.572Z"
   },
   {
    "duration": 952,
    "start_time": "2023-11-19T20:23:54.215Z"
   },
   {
    "duration": 990,
    "start_time": "2023-11-19T20:24:18.452Z"
   },
   {
    "duration": 96,
    "start_time": "2023-11-19T20:24:34.197Z"
   },
   {
    "duration": 41,
    "start_time": "2023-11-19T20:24:34.295Z"
   },
   {
    "duration": 15,
    "start_time": "2023-11-19T20:24:34.337Z"
   },
   {
    "duration": 4591,
    "start_time": "2023-11-19T20:24:34.354Z"
   },
   {
    "duration": 10,
    "start_time": "2023-11-19T20:24:38.947Z"
   },
   {
    "duration": 8,
    "start_time": "2023-11-19T20:24:38.958Z"
   },
   {
    "duration": 8,
    "start_time": "2023-11-19T20:24:38.968Z"
   },
   {
    "duration": 23,
    "start_time": "2023-11-19T20:24:38.977Z"
   },
   {
    "duration": 11,
    "start_time": "2023-11-19T20:24:39.001Z"
   },
   {
    "duration": 14,
    "start_time": "2023-11-19T20:24:39.015Z"
   },
   {
    "duration": 1024,
    "start_time": "2023-11-19T20:24:39.031Z"
   },
   {
    "duration": 904,
    "start_time": "2023-11-19T20:24:42.754Z"
   },
   {
    "duration": 86,
    "start_time": "2023-11-19T20:27:33.701Z"
   },
   {
    "duration": 916,
    "start_time": "2023-11-19T20:27:40.938Z"
   },
   {
    "duration": 904,
    "start_time": "2023-11-19T20:28:10.191Z"
   },
   {
    "duration": 10,
    "start_time": "2023-11-19T20:30:44.547Z"
   },
   {
    "duration": 97,
    "start_time": "2023-11-19T20:33:02.494Z"
   },
   {
    "duration": 40,
    "start_time": "2023-11-19T20:33:02.593Z"
   },
   {
    "duration": 58,
    "start_time": "2023-11-19T20:33:02.635Z"
   },
   {
    "duration": 3934,
    "start_time": "2023-11-19T20:33:02.696Z"
   },
   {
    "duration": 16,
    "start_time": "2023-11-19T20:33:06.632Z"
   },
   {
    "duration": 29,
    "start_time": "2023-11-19T20:33:06.651Z"
   },
   {
    "duration": 20,
    "start_time": "2023-11-19T20:33:06.682Z"
   },
   {
    "duration": 53,
    "start_time": "2023-11-19T20:33:06.704Z"
   },
   {
    "duration": 41,
    "start_time": "2023-11-19T20:33:06.760Z"
   },
   {
    "duration": 21,
    "start_time": "2023-11-19T20:33:06.803Z"
   },
   {
    "duration": 8,
    "start_time": "2023-11-19T20:33:38.340Z"
   },
   {
    "duration": 42,
    "start_time": "2023-11-19T20:33:59.540Z"
   },
   {
    "duration": 7,
    "start_time": "2023-11-19T20:34:18.478Z"
   },
   {
    "duration": 103,
    "start_time": "2023-11-19T20:35:28.786Z"
   },
   {
    "duration": 42,
    "start_time": "2023-11-19T20:35:28.891Z"
   },
   {
    "duration": 23,
    "start_time": "2023-11-19T20:35:28.935Z"
   },
   {
    "duration": 4593,
    "start_time": "2023-11-19T20:35:28.961Z"
   },
   {
    "duration": 10,
    "start_time": "2023-11-19T20:35:33.556Z"
   },
   {
    "duration": 29,
    "start_time": "2023-11-19T20:35:33.567Z"
   },
   {
    "duration": 12,
    "start_time": "2023-11-19T20:35:33.598Z"
   },
   {
    "duration": 4,
    "start_time": "2023-11-19T20:35:33.611Z"
   },
   {
    "duration": 41,
    "start_time": "2023-11-19T20:35:33.616Z"
   },
   {
    "duration": 41,
    "start_time": "2023-11-19T20:35:33.659Z"
   },
   {
    "duration": 5,
    "start_time": "2023-11-19T20:35:54.110Z"
   },
   {
    "duration": 8,
    "start_time": "2023-11-19T20:36:01.319Z"
   },
   {
    "duration": 9,
    "start_time": "2023-11-19T20:37:06.955Z"
   },
   {
    "duration": 85,
    "start_time": "2023-11-19T20:37:57.366Z"
   },
   {
    "duration": 17,
    "start_time": "2023-11-19T20:38:19.440Z"
   },
   {
    "duration": 8,
    "start_time": "2023-11-19T20:38:44.645Z"
   },
   {
    "duration": 9,
    "start_time": "2023-11-19T20:42:31.865Z"
   },
   {
    "duration": 9,
    "start_time": "2023-11-19T20:42:49.813Z"
   },
   {
    "duration": 75,
    "start_time": "2023-11-19T21:01:47.409Z"
   },
   {
    "duration": 5,
    "start_time": "2023-11-19T21:03:41.162Z"
   },
   {
    "duration": 5,
    "start_time": "2023-11-19T21:03:56.520Z"
   },
   {
    "duration": 4,
    "start_time": "2023-11-19T21:05:19.313Z"
   },
   {
    "duration": 59,
    "start_time": "2023-11-19T21:05:44.399Z"
   },
   {
    "duration": 41,
    "start_time": "2023-11-19T21:09:48.299Z"
   },
   {
    "duration": 7,
    "start_time": "2023-11-19T21:10:03.121Z"
   },
   {
    "duration": 9,
    "start_time": "2023-11-19T21:10:38.320Z"
   },
   {
    "duration": 46,
    "start_time": "2023-11-19T21:28:23.601Z"
   },
   {
    "duration": 16,
    "start_time": "2023-11-19T21:28:47.182Z"
   },
   {
    "duration": 45,
    "start_time": "2023-11-19T21:34:27.989Z"
   },
   {
    "duration": 37,
    "start_time": "2023-11-19T21:34:47.679Z"
   },
   {
    "duration": 15,
    "start_time": "2023-11-19T21:34:53.906Z"
   },
   {
    "duration": 42,
    "start_time": "2023-11-19T21:35:05.781Z"
   },
   {
    "duration": 8,
    "start_time": "2023-11-19T21:39:01.454Z"
   },
   {
    "duration": 8,
    "start_time": "2023-11-19T21:39:18.042Z"
   },
   {
    "duration": 41,
    "start_time": "2023-11-19T21:44:21.663Z"
   },
   {
    "duration": 15,
    "start_time": "2023-11-19T22:04:36.222Z"
   },
   {
    "duration": 23,
    "start_time": "2023-11-19T22:04:43.948Z"
   },
   {
    "duration": 16,
    "start_time": "2023-11-19T22:04:52.632Z"
   },
   {
    "duration": 21,
    "start_time": "2023-11-19T22:04:55.651Z"
   },
   {
    "duration": 24,
    "start_time": "2023-11-19T22:05:01.137Z"
   },
   {
    "duration": 17,
    "start_time": "2023-11-19T22:05:10.187Z"
   },
   {
    "duration": 46,
    "start_time": "2023-11-19T22:05:14.651Z"
   },
   {
    "duration": 20,
    "start_time": "2023-11-19T22:06:19.576Z"
   },
   {
    "duration": 45,
    "start_time": "2023-11-19T22:09:16.191Z"
   },
   {
    "duration": 8,
    "start_time": "2023-11-19T22:14:37.509Z"
   },
   {
    "duration": 46,
    "start_time": "2023-11-19T22:14:46.274Z"
   },
   {
    "duration": 9,
    "start_time": "2023-11-19T22:14:57.626Z"
   },
   {
    "duration": 28,
    "start_time": "2023-11-19T22:15:06.870Z"
   },
   {
    "duration": 39,
    "start_time": "2023-11-19T22:15:35.073Z"
   },
   {
    "duration": 10,
    "start_time": "2023-11-19T22:15:44.287Z"
   },
   {
    "duration": 15,
    "start_time": "2023-11-19T22:15:50.747Z"
   },
   {
    "duration": 16,
    "start_time": "2023-11-19T22:16:08.615Z"
   },
   {
    "duration": 104,
    "start_time": "2023-11-19T22:16:50.211Z"
   },
   {
    "duration": 40,
    "start_time": "2023-11-19T22:25:48.728Z"
   },
   {
    "duration": 12,
    "start_time": "2023-11-19T22:25:50.898Z"
   },
   {
    "duration": 99,
    "start_time": "2023-11-19T22:28:45.627Z"
   },
   {
    "duration": 47,
    "start_time": "2023-11-20T10:10:17.812Z"
   },
   {
    "duration": 555,
    "start_time": "2023-11-20T10:10:23.432Z"
   },
   {
    "duration": 40,
    "start_time": "2023-11-20T10:10:23.989Z"
   },
   {
    "duration": 14,
    "start_time": "2023-11-20T10:10:24.031Z"
   },
   {
    "duration": 3930,
    "start_time": "2023-11-20T10:10:24.046Z"
   },
   {
    "duration": 10,
    "start_time": "2023-11-20T10:10:27.979Z"
   },
   {
    "duration": 27,
    "start_time": "2023-11-20T10:10:27.991Z"
   },
   {
    "duration": 20,
    "start_time": "2023-11-20T10:10:28.020Z"
   },
   {
    "duration": 19,
    "start_time": "2023-11-20T10:10:28.042Z"
   },
   {
    "duration": 31,
    "start_time": "2023-11-20T10:10:28.063Z"
   },
   {
    "duration": 119,
    "start_time": "2023-11-20T10:10:28.096Z"
   },
   {
    "duration": 39,
    "start_time": "2023-11-20T10:10:28.217Z"
   },
   {
    "duration": 11,
    "start_time": "2023-11-20T10:10:28.258Z"
   },
   {
    "duration": 48,
    "start_time": "2023-11-20T10:10:40.628Z"
   },
   {
    "duration": 35,
    "start_time": "2023-11-20T10:25:45.891Z"
   },
   {
    "duration": 34,
    "start_time": "2023-11-20T10:26:05.536Z"
   },
   {
    "duration": 6,
    "start_time": "2023-11-20T10:26:24.175Z"
   },
   {
    "duration": 36,
    "start_time": "2023-11-20T10:26:30.535Z"
   },
   {
    "duration": 1013,
    "start_time": "2023-11-20T10:26:43.330Z"
   },
   {
    "duration": 5,
    "start_time": "2023-11-20T10:27:29.394Z"
   },
   {
    "duration": 12,
    "start_time": "2023-11-20T10:28:12.836Z"
   },
   {
    "duration": 6,
    "start_time": "2023-11-20T10:45:26.608Z"
   },
   {
    "duration": 35,
    "start_time": "2023-11-20T10:45:35.545Z"
   },
   {
    "duration": 13,
    "start_time": "2023-11-20T10:45:53.295Z"
   },
   {
    "duration": 94,
    "start_time": "2023-11-20T10:55:14.703Z"
   },
   {
    "duration": 91,
    "start_time": "2023-11-20T10:55:23.236Z"
   },
   {
    "duration": 36,
    "start_time": "2023-11-20T10:55:33.289Z"
   },
   {
    "duration": 5,
    "start_time": "2023-11-20T10:55:37.487Z"
   },
   {
    "duration": 8,
    "start_time": "2023-11-20T11:19:42.479Z"
   },
   {
    "duration": 7,
    "start_time": "2023-11-20T11:19:57.823Z"
   },
   {
    "duration": 11,
    "start_time": "2023-11-20T12:00:40.550Z"
   },
   {
    "duration": 1010,
    "start_time": "2023-11-20T13:37:57.696Z"
   },
   {
    "duration": 951,
    "start_time": "2023-11-20T13:47:04.171Z"
   },
   {
    "duration": 17,
    "start_time": "2023-11-20T13:48:59.675Z"
   },
   {
    "duration": 100,
    "start_time": "2023-11-20T13:53:46.180Z"
   },
   {
    "duration": 26,
    "start_time": "2023-11-20T13:53:58.277Z"
   },
   {
    "duration": 36,
    "start_time": "2023-11-20T14:22:02.620Z"
   },
   {
    "duration": 34,
    "start_time": "2023-11-20T14:22:27.197Z"
   },
   {
    "duration": 14,
    "start_time": "2023-11-20T14:22:58.017Z"
   },
   {
    "duration": 13,
    "start_time": "2023-11-20T14:26:01.159Z"
   },
   {
    "duration": 31,
    "start_time": "2023-11-20T14:26:16.397Z"
   },
   {
    "duration": 14,
    "start_time": "2023-11-20T14:26:18.859Z"
   },
   {
    "duration": 14,
    "start_time": "2023-11-20T14:26:21.687Z"
   },
   {
    "duration": 33,
    "start_time": "2023-11-20T14:26:41.246Z"
   },
   {
    "duration": 13,
    "start_time": "2023-11-20T14:26:46.242Z"
   },
   {
    "duration": 97,
    "start_time": "2023-11-20T14:28:17.038Z"
   },
   {
    "duration": 36,
    "start_time": "2023-11-20T14:28:17.136Z"
   },
   {
    "duration": 23,
    "start_time": "2023-11-20T14:28:17.173Z"
   },
   {
    "duration": 3734,
    "start_time": "2023-11-20T14:28:17.198Z"
   },
   {
    "duration": 9,
    "start_time": "2023-11-20T14:28:20.934Z"
   },
   {
    "duration": 26,
    "start_time": "2023-11-20T14:28:20.956Z"
   },
   {
    "duration": 24,
    "start_time": "2023-11-20T14:28:20.983Z"
   },
   {
    "duration": 20,
    "start_time": "2023-11-20T14:28:21.008Z"
   },
   {
    "duration": 21,
    "start_time": "2023-11-20T14:28:21.030Z"
   },
   {
    "duration": 36,
    "start_time": "2023-11-20T14:28:21.052Z"
   },
   {
    "duration": 87,
    "start_time": "2023-11-20T14:28:21.090Z"
   },
   {
    "duration": 18,
    "start_time": "2023-11-20T14:28:21.179Z"
   },
   {
    "duration": 28,
    "start_time": "2023-11-20T14:28:21.198Z"
   },
   {
    "duration": 63,
    "start_time": "2023-11-20T14:28:21.227Z"
   },
   {
    "duration": 40,
    "start_time": "2023-11-20T14:28:41.405Z"
   },
   {
    "duration": 42,
    "start_time": "2023-11-20T14:29:00.081Z"
   },
   {
    "duration": 33,
    "start_time": "2023-11-20T14:29:08.162Z"
   },
   {
    "duration": 40,
    "start_time": "2023-11-20T14:29:21.646Z"
   },
   {
    "duration": 46,
    "start_time": "2023-11-20T14:29:39.308Z"
   },
   {
    "duration": 9,
    "start_time": "2023-11-20T14:29:57.698Z"
   },
   {
    "duration": 8,
    "start_time": "2023-11-20T14:30:57.665Z"
   },
   {
    "duration": 6,
    "start_time": "2023-11-20T14:31:04.530Z"
   },
   {
    "duration": 89,
    "start_time": "2023-11-20T14:32:01.228Z"
   },
   {
    "duration": 36,
    "start_time": "2023-11-20T14:32:01.318Z"
   },
   {
    "duration": 46,
    "start_time": "2023-11-20T14:32:01.355Z"
   },
   {
    "duration": 3713,
    "start_time": "2023-11-20T14:32:01.403Z"
   },
   {
    "duration": 9,
    "start_time": "2023-11-20T14:32:05.117Z"
   },
   {
    "duration": 6,
    "start_time": "2023-11-20T14:32:05.128Z"
   },
   {
    "duration": 23,
    "start_time": "2023-11-20T14:32:05.135Z"
   },
   {
    "duration": 3,
    "start_time": "2023-11-20T14:32:05.159Z"
   },
   {
    "duration": 9,
    "start_time": "2023-11-20T14:32:05.163Z"
   },
   {
    "duration": 13,
    "start_time": "2023-11-20T14:32:05.174Z"
   },
   {
    "duration": 36,
    "start_time": "2023-11-20T14:32:05.188Z"
   },
   {
    "duration": 36,
    "start_time": "2023-11-20T14:32:05.225Z"
   },
   {
    "duration": 11,
    "start_time": "2023-11-20T14:32:05.262Z"
   },
   {
    "duration": 10,
    "start_time": "2023-11-20T14:32:05.274Z"
   },
   {
    "duration": 36,
    "start_time": "2023-11-20T14:32:05.285Z"
   },
   {
    "duration": 14,
    "start_time": "2023-11-20T14:32:13.818Z"
   },
   {
    "duration": 30,
    "start_time": "2023-11-20T14:33:12.167Z"
   },
   {
    "duration": 14,
    "start_time": "2023-11-20T14:33:17.479Z"
   },
   {
    "duration": 94,
    "start_time": "2023-11-20T14:34:40.494Z"
   },
   {
    "duration": 39,
    "start_time": "2023-11-20T14:34:40.590Z"
   },
   {
    "duration": 68,
    "start_time": "2023-11-20T14:34:40.631Z"
   },
   {
    "duration": 3593,
    "start_time": "2023-11-20T14:34:40.701Z"
   },
   {
    "duration": 11,
    "start_time": "2023-11-20T14:34:44.295Z"
   },
   {
    "duration": 7,
    "start_time": "2023-11-20T14:34:44.307Z"
   },
   {
    "duration": 14,
    "start_time": "2023-11-20T14:34:44.315Z"
   },
   {
    "duration": 8,
    "start_time": "2023-11-20T14:34:44.330Z"
   },
   {
    "duration": 24,
    "start_time": "2023-11-20T14:34:44.339Z"
   },
   {
    "duration": 13,
    "start_time": "2023-11-20T14:34:44.366Z"
   },
   {
    "duration": 36,
    "start_time": "2023-11-20T14:34:44.380Z"
   },
   {
    "duration": 10,
    "start_time": "2023-11-20T14:34:44.418Z"
   },
   {
    "duration": 40,
    "start_time": "2023-11-20T14:34:44.429Z"
   },
   {
    "duration": 17,
    "start_time": "2023-11-20T14:34:44.470Z"
   },
   {
    "duration": 33,
    "start_time": "2023-11-20T14:34:44.488Z"
   },
   {
    "duration": 14,
    "start_time": "2023-11-20T14:34:45.022Z"
   },
   {
    "duration": 34,
    "start_time": "2023-11-20T14:34:55.896Z"
   },
   {
    "duration": 34,
    "start_time": "2023-11-20T14:35:55.304Z"
   },
   {
    "duration": 67,
    "start_time": "2023-11-20T14:36:02.738Z"
   },
   {
    "duration": 35,
    "start_time": "2023-11-20T14:38:02.825Z"
   },
   {
    "duration": 35,
    "start_time": "2023-11-20T14:39:55.338Z"
   },
   {
    "duration": 97,
    "start_time": "2023-11-20T14:40:03.016Z"
   },
   {
    "duration": 36,
    "start_time": "2023-11-20T14:40:03.115Z"
   },
   {
    "duration": 28,
    "start_time": "2023-11-20T14:40:03.152Z"
   },
   {
    "duration": 3734,
    "start_time": "2023-11-20T14:40:03.182Z"
   },
   {
    "duration": 10,
    "start_time": "2023-11-20T14:40:06.917Z"
   },
   {
    "duration": 7,
    "start_time": "2023-11-20T14:40:06.929Z"
   },
   {
    "duration": 6,
    "start_time": "2023-11-20T14:40:06.955Z"
   },
   {
    "duration": 11,
    "start_time": "2023-11-20T14:40:06.962Z"
   },
   {
    "duration": 18,
    "start_time": "2023-11-20T14:40:06.975Z"
   },
   {
    "duration": 28,
    "start_time": "2023-11-20T14:40:06.996Z"
   },
   {
    "duration": 43,
    "start_time": "2023-11-20T14:40:07.026Z"
   },
   {
    "duration": 9,
    "start_time": "2023-11-20T14:40:07.071Z"
   },
   {
    "duration": 8,
    "start_time": "2023-11-20T14:40:07.081Z"
   },
   {
    "duration": 14,
    "start_time": "2023-11-20T14:40:07.090Z"
   },
   {
    "duration": 422,
    "start_time": "2023-11-20T14:40:07.105Z"
   },
   {
    "duration": 17,
    "start_time": "2023-11-20T14:40:30.359Z"
   },
   {
    "duration": 16,
    "start_time": "2023-11-20T14:41:51.306Z"
   },
   {
    "duration": 18,
    "start_time": "2023-11-20T14:43:37.179Z"
   },
   {
    "duration": 89,
    "start_time": "2023-11-20T14:44:00.358Z"
   },
   {
    "duration": 37,
    "start_time": "2023-11-20T14:44:00.449Z"
   },
   {
    "duration": 53,
    "start_time": "2023-11-20T14:44:00.488Z"
   },
   {
    "duration": 3385,
    "start_time": "2023-11-20T14:44:00.544Z"
   },
   {
    "duration": 9,
    "start_time": "2023-11-20T14:44:03.931Z"
   },
   {
    "duration": 16,
    "start_time": "2023-11-20T14:44:03.942Z"
   },
   {
    "duration": 29,
    "start_time": "2023-11-20T14:44:03.959Z"
   },
   {
    "duration": 12,
    "start_time": "2023-11-20T14:44:03.990Z"
   },
   {
    "duration": 21,
    "start_time": "2023-11-20T14:44:04.003Z"
   },
   {
    "duration": 16,
    "start_time": "2023-11-20T14:44:04.026Z"
   },
   {
    "duration": 36,
    "start_time": "2023-11-20T14:44:04.043Z"
   },
   {
    "duration": 9,
    "start_time": "2023-11-20T14:44:04.081Z"
   },
   {
    "duration": 26,
    "start_time": "2023-11-20T14:44:04.091Z"
   },
   {
    "duration": 36,
    "start_time": "2023-11-20T14:44:04.118Z"
   },
   {
    "duration": 18,
    "start_time": "2023-11-20T14:44:08.073Z"
   },
   {
    "duration": 15,
    "start_time": "2023-11-20T14:44:36.569Z"
   },
   {
    "duration": 90,
    "start_time": "2023-11-20T14:44:44.198Z"
   },
   {
    "duration": 36,
    "start_time": "2023-11-20T14:44:44.290Z"
   },
   {
    "duration": 48,
    "start_time": "2023-11-20T14:44:44.328Z"
   },
   {
    "duration": 4033,
    "start_time": "2023-11-20T14:44:44.377Z"
   },
   {
    "duration": 9,
    "start_time": "2023-11-20T14:44:48.413Z"
   },
   {
    "duration": 17,
    "start_time": "2023-11-20T14:44:48.424Z"
   },
   {
    "duration": 18,
    "start_time": "2023-11-20T14:44:48.442Z"
   },
   {
    "duration": 22,
    "start_time": "2023-11-20T14:44:48.462Z"
   },
   {
    "duration": 23,
    "start_time": "2023-11-20T14:44:48.486Z"
   },
   {
    "duration": 36,
    "start_time": "2023-11-20T14:44:48.510Z"
   },
   {
    "duration": 57,
    "start_time": "2023-11-20T14:44:48.548Z"
   },
   {
    "duration": 10,
    "start_time": "2023-11-20T14:44:48.607Z"
   },
   {
    "duration": 35,
    "start_time": "2023-11-20T14:44:48.619Z"
   },
   {
    "duration": 16,
    "start_time": "2023-11-20T14:44:48.656Z"
   },
   {
    "duration": 20,
    "start_time": "2023-11-20T14:45:09.901Z"
   },
   {
    "duration": 92,
    "start_time": "2023-11-20T14:45:21.288Z"
   },
   {
    "duration": 37,
    "start_time": "2023-11-20T14:45:21.382Z"
   },
   {
    "duration": 28,
    "start_time": "2023-11-20T14:45:21.421Z"
   },
   {
    "duration": 4042,
    "start_time": "2023-11-20T14:45:21.452Z"
   },
   {
    "duration": 11,
    "start_time": "2023-11-20T14:45:25.496Z"
   },
   {
    "duration": 57,
    "start_time": "2023-11-20T14:45:25.508Z"
   },
   {
    "duration": 19,
    "start_time": "2023-11-20T14:45:25.567Z"
   },
   {
    "duration": 5,
    "start_time": "2023-11-20T14:45:25.588Z"
   },
   {
    "duration": 14,
    "start_time": "2023-11-20T14:45:25.594Z"
   },
   {
    "duration": 14,
    "start_time": "2023-11-20T14:45:25.610Z"
   },
   {
    "duration": 45,
    "start_time": "2023-11-20T14:45:25.626Z"
   },
   {
    "duration": 10,
    "start_time": "2023-11-20T14:45:25.673Z"
   },
   {
    "duration": 29,
    "start_time": "2023-11-20T14:45:25.685Z"
   },
   {
    "duration": 10,
    "start_time": "2023-11-20T14:45:25.716Z"
   },
   {
    "duration": 21,
    "start_time": "2023-11-20T14:45:31.226Z"
   },
   {
    "duration": 18,
    "start_time": "2023-11-20T14:45:50.527Z"
   },
   {
    "duration": 18,
    "start_time": "2023-11-20T14:46:04.214Z"
   },
   {
    "duration": 91,
    "start_time": "2023-11-20T14:46:09.112Z"
   },
   {
    "duration": 37,
    "start_time": "2023-11-20T14:46:09.205Z"
   },
   {
    "duration": 19,
    "start_time": "2023-11-20T14:46:09.244Z"
   },
   {
    "duration": 4203,
    "start_time": "2023-11-20T14:46:09.265Z"
   },
   {
    "duration": 14,
    "start_time": "2023-11-20T14:46:13.470Z"
   },
   {
    "duration": 26,
    "start_time": "2023-11-20T14:46:13.488Z"
   },
   {
    "duration": 44,
    "start_time": "2023-11-20T14:46:13.516Z"
   },
   {
    "duration": 8,
    "start_time": "2023-11-20T14:46:13.562Z"
   },
   {
    "duration": 13,
    "start_time": "2023-11-20T14:46:13.572Z"
   },
   {
    "duration": 21,
    "start_time": "2023-11-20T14:46:13.587Z"
   },
   {
    "duration": 40,
    "start_time": "2023-11-20T14:46:13.610Z"
   },
   {
    "duration": 10,
    "start_time": "2023-11-20T14:46:13.651Z"
   },
   {
    "duration": 10,
    "start_time": "2023-11-20T14:46:13.662Z"
   },
   {
    "duration": 12,
    "start_time": "2023-11-20T14:46:13.673Z"
   },
   {
    "duration": 21,
    "start_time": "2023-11-20T14:46:13.686Z"
   },
   {
    "duration": 11,
    "start_time": "2023-11-20T14:47:30.184Z"
   },
   {
    "duration": 113,
    "start_time": "2023-11-20T14:48:14.513Z"
   },
   {
    "duration": 18,
    "start_time": "2023-11-20T14:48:23.341Z"
   },
   {
    "duration": 11,
    "start_time": "2023-11-20T14:48:27.744Z"
   },
   {
    "duration": 7,
    "start_time": "2023-11-20T14:48:55.682Z"
   },
   {
    "duration": 6,
    "start_time": "2023-11-20T14:49:08.120Z"
   },
   {
    "duration": 8,
    "start_time": "2023-11-20T14:51:21.691Z"
   },
   {
    "duration": 29,
    "start_time": "2023-11-20T14:53:22.241Z"
   },
   {
    "duration": 11,
    "start_time": "2023-11-20T14:53:48.894Z"
   },
   {
    "duration": 105,
    "start_time": "2023-11-20T14:54:12.924Z"
   },
   {
    "duration": 10,
    "start_time": "2023-11-20T14:54:18.877Z"
   },
   {
    "duration": 10,
    "start_time": "2023-11-20T14:54:37.724Z"
   },
   {
    "duration": 10,
    "start_time": "2023-11-20T15:02:38.045Z"
   },
   {
    "duration": 10,
    "start_time": "2023-11-20T15:02:42.153Z"
   },
   {
    "duration": 10,
    "start_time": "2023-11-20T15:02:45.690Z"
   },
   {
    "duration": 9,
    "start_time": "2023-11-20T15:02:49.174Z"
   },
   {
    "duration": 10,
    "start_time": "2023-11-20T15:04:35.807Z"
   },
   {
    "duration": 94,
    "start_time": "2023-11-20T15:04:41.037Z"
   },
   {
    "duration": 37,
    "start_time": "2023-11-20T15:04:41.133Z"
   },
   {
    "duration": 30,
    "start_time": "2023-11-20T15:04:41.171Z"
   },
   {
    "duration": 3527,
    "start_time": "2023-11-20T15:04:41.203Z"
   },
   {
    "duration": 9,
    "start_time": "2023-11-20T15:04:44.731Z"
   },
   {
    "duration": 15,
    "start_time": "2023-11-20T15:04:44.742Z"
   },
   {
    "duration": 30,
    "start_time": "2023-11-20T15:04:44.758Z"
   },
   {
    "duration": 21,
    "start_time": "2023-11-20T15:04:44.789Z"
   },
   {
    "duration": 48,
    "start_time": "2023-11-20T15:04:44.812Z"
   },
   {
    "duration": 20,
    "start_time": "2023-11-20T15:04:44.863Z"
   },
   {
    "duration": 44,
    "start_time": "2023-11-20T15:04:44.885Z"
   },
   {
    "duration": 24,
    "start_time": "2023-11-20T15:04:44.931Z"
   },
   {
    "duration": 11,
    "start_time": "2023-11-20T15:04:44.957Z"
   },
   {
    "duration": 11,
    "start_time": "2023-11-20T15:04:44.969Z"
   },
   {
    "duration": 9,
    "start_time": "2023-11-20T15:04:51.971Z"
   },
   {
    "duration": 88,
    "start_time": "2023-11-20T15:07:50.310Z"
   },
   {
    "duration": 36,
    "start_time": "2023-11-20T15:07:50.400Z"
   },
   {
    "duration": 26,
    "start_time": "2023-11-20T15:07:50.437Z"
   },
   {
    "duration": 4206,
    "start_time": "2023-11-20T15:07:50.465Z"
   },
   {
    "duration": 10,
    "start_time": "2023-11-20T15:07:54.672Z"
   },
   {
    "duration": 7,
    "start_time": "2023-11-20T15:07:54.683Z"
   },
   {
    "duration": 9,
    "start_time": "2023-11-20T15:07:54.691Z"
   },
   {
    "duration": 8,
    "start_time": "2023-11-20T15:07:54.701Z"
   },
   {
    "duration": 29,
    "start_time": "2023-11-20T15:07:54.710Z"
   },
   {
    "duration": 27,
    "start_time": "2023-11-20T15:07:54.741Z"
   },
   {
    "duration": 54,
    "start_time": "2023-11-20T15:07:54.769Z"
   },
   {
    "duration": 10,
    "start_time": "2023-11-20T15:07:54.824Z"
   },
   {
    "duration": 9,
    "start_time": "2023-11-20T15:07:54.835Z"
   },
   {
    "duration": 14,
    "start_time": "2023-11-20T15:07:54.845Z"
   },
   {
    "duration": 6,
    "start_time": "2023-11-20T15:08:12.537Z"
   },
   {
    "duration": 9,
    "start_time": "2023-11-20T15:08:20.210Z"
   },
   {
    "duration": 9,
    "start_time": "2023-11-20T15:08:31.574Z"
   },
   {
    "duration": 12,
    "start_time": "2023-11-20T15:12:22.905Z"
   },
   {
    "duration": 97,
    "start_time": "2023-11-20T15:13:19.400Z"
   },
   {
    "duration": 36,
    "start_time": "2023-11-20T15:13:19.499Z"
   },
   {
    "duration": 23,
    "start_time": "2023-11-20T15:13:19.536Z"
   },
   {
    "duration": 4383,
    "start_time": "2023-11-20T15:13:19.562Z"
   },
   {
    "duration": 17,
    "start_time": "2023-11-20T15:13:23.947Z"
   },
   {
    "duration": 13,
    "start_time": "2023-11-20T15:13:23.965Z"
   },
   {
    "duration": 32,
    "start_time": "2023-11-20T15:13:23.979Z"
   },
   {
    "duration": 22,
    "start_time": "2023-11-20T15:13:24.012Z"
   },
   {
    "duration": 27,
    "start_time": "2023-11-20T15:13:24.035Z"
   },
   {
    "duration": 18,
    "start_time": "2023-11-20T15:13:24.064Z"
   },
   {
    "duration": 45,
    "start_time": "2023-11-20T15:13:24.084Z"
   },
   {
    "duration": 10,
    "start_time": "2023-11-20T15:13:24.130Z"
   },
   {
    "duration": 25,
    "start_time": "2023-11-20T15:13:24.142Z"
   },
   {
    "duration": 31,
    "start_time": "2023-11-20T15:13:24.168Z"
   },
   {
    "duration": 10,
    "start_time": "2023-11-20T15:13:32.828Z"
   },
   {
    "duration": 93,
    "start_time": "2023-11-20T15:17:24.903Z"
   },
   {
    "duration": 36,
    "start_time": "2023-11-20T15:17:24.998Z"
   },
   {
    "duration": 22,
    "start_time": "2023-11-20T15:17:25.035Z"
   },
   {
    "duration": 3484,
    "start_time": "2023-11-20T15:17:25.059Z"
   },
   {
    "duration": 14,
    "start_time": "2023-11-20T15:17:28.545Z"
   },
   {
    "duration": 14,
    "start_time": "2023-11-20T15:17:28.561Z"
   },
   {
    "duration": 10,
    "start_time": "2023-11-20T15:17:28.576Z"
   },
   {
    "duration": 5,
    "start_time": "2023-11-20T15:17:28.588Z"
   },
   {
    "duration": 10,
    "start_time": "2023-11-20T15:17:28.594Z"
   },
   {
    "duration": 14,
    "start_time": "2023-11-20T15:17:28.606Z"
   },
   {
    "duration": 62,
    "start_time": "2023-11-20T15:17:28.621Z"
   },
   {
    "duration": 10,
    "start_time": "2023-11-20T15:17:28.685Z"
   },
   {
    "duration": 7,
    "start_time": "2023-11-20T15:17:28.696Z"
   },
   {
    "duration": 9,
    "start_time": "2023-11-20T15:17:28.705Z"
   },
   {
    "duration": 11,
    "start_time": "2023-11-20T15:17:30.523Z"
   },
   {
    "duration": 91,
    "start_time": "2023-11-20T15:28:00.722Z"
   },
   {
    "duration": 42,
    "start_time": "2023-11-20T15:28:00.814Z"
   },
   {
    "duration": 29,
    "start_time": "2023-11-20T15:28:00.858Z"
   },
   {
    "duration": 3619,
    "start_time": "2023-11-20T15:28:00.889Z"
   },
   {
    "duration": 10,
    "start_time": "2023-11-20T15:28:04.509Z"
   },
   {
    "duration": 6,
    "start_time": "2023-11-20T15:28:04.520Z"
   },
   {
    "duration": 30,
    "start_time": "2023-11-20T15:28:04.528Z"
   },
   {
    "duration": 3,
    "start_time": "2023-11-20T15:28:04.559Z"
   },
   {
    "duration": 16,
    "start_time": "2023-11-20T15:28:04.565Z"
   },
   {
    "duration": 13,
    "start_time": "2023-11-20T15:28:04.584Z"
   },
   {
    "duration": 38,
    "start_time": "2023-11-20T15:28:04.599Z"
   },
   {
    "duration": 27,
    "start_time": "2023-11-20T15:28:04.638Z"
   },
   {
    "duration": 9,
    "start_time": "2023-11-20T15:28:04.667Z"
   },
   {
    "duration": 16,
    "start_time": "2023-11-20T15:28:04.677Z"
   },
   {
    "duration": 18,
    "start_time": "2023-11-20T15:28:07.640Z"
   },
   {
    "duration": 91,
    "start_time": "2023-11-20T15:28:45.286Z"
   },
   {
    "duration": 38,
    "start_time": "2023-11-20T15:28:45.379Z"
   },
   {
    "duration": 15,
    "start_time": "2023-11-20T15:28:45.419Z"
   },
   {
    "duration": 4577,
    "start_time": "2023-11-20T15:28:45.437Z"
   },
   {
    "duration": 9,
    "start_time": "2023-11-20T15:28:50.015Z"
   },
   {
    "duration": 34,
    "start_time": "2023-11-20T15:28:50.025Z"
   },
   {
    "duration": 23,
    "start_time": "2023-11-20T15:28:50.061Z"
   },
   {
    "duration": 25,
    "start_time": "2023-11-20T15:28:50.085Z"
   },
   {
    "duration": 24,
    "start_time": "2023-11-20T15:28:50.111Z"
   },
   {
    "duration": 22,
    "start_time": "2023-11-20T15:28:50.137Z"
   },
   {
    "duration": 43,
    "start_time": "2023-11-20T15:28:50.160Z"
   },
   {
    "duration": 11,
    "start_time": "2023-11-20T15:28:50.205Z"
   },
   {
    "duration": 35,
    "start_time": "2023-11-20T15:28:50.217Z"
   },
   {
    "duration": 35,
    "start_time": "2023-11-20T15:28:50.253Z"
   },
   {
    "duration": 17,
    "start_time": "2023-11-20T15:28:56.296Z"
   },
   {
    "duration": 89,
    "start_time": "2023-11-20T15:29:52.087Z"
   },
   {
    "duration": 40,
    "start_time": "2023-11-20T15:29:52.178Z"
   },
   {
    "duration": 25,
    "start_time": "2023-11-20T15:29:52.220Z"
   },
   {
    "duration": 3574,
    "start_time": "2023-11-20T15:29:52.248Z"
   },
   {
    "duration": 11,
    "start_time": "2023-11-20T15:29:55.823Z"
   },
   {
    "duration": 23,
    "start_time": "2023-11-20T15:29:55.835Z"
   },
   {
    "duration": 6,
    "start_time": "2023-11-20T15:29:55.860Z"
   },
   {
    "duration": 4,
    "start_time": "2023-11-20T15:29:55.867Z"
   },
   {
    "duration": 11,
    "start_time": "2023-11-20T15:29:55.873Z"
   },
   {
    "duration": 15,
    "start_time": "2023-11-20T15:29:55.886Z"
   },
   {
    "duration": 77,
    "start_time": "2023-11-20T15:29:55.902Z"
   },
   {
    "duration": 12,
    "start_time": "2023-11-20T15:29:55.980Z"
   },
   {
    "duration": 9,
    "start_time": "2023-11-20T15:29:55.993Z"
   },
   {
    "duration": 38,
    "start_time": "2023-11-20T15:29:56.004Z"
   },
   {
    "duration": 20,
    "start_time": "2023-11-20T15:29:58.634Z"
   },
   {
    "duration": 94,
    "start_time": "2023-11-20T16:34:02.961Z"
   },
   {
    "duration": 26,
    "start_time": "2023-11-20T16:34:06.892Z"
   },
   {
    "duration": 127,
    "start_time": "2023-11-20T16:42:19.076Z"
   },
   {
    "duration": 42,
    "start_time": "2023-11-20T16:42:19.205Z"
   },
   {
    "duration": 17,
    "start_time": "2023-11-20T16:42:19.256Z"
   },
   {
    "duration": 5461,
    "start_time": "2023-11-20T16:42:19.275Z"
   },
   {
    "duration": 18,
    "start_time": "2023-11-20T16:42:24.739Z"
   },
   {
    "duration": 8,
    "start_time": "2023-11-20T16:42:24.758Z"
   },
   {
    "duration": 9,
    "start_time": "2023-11-20T16:42:24.767Z"
   },
   {
    "duration": 7,
    "start_time": "2023-11-20T16:42:24.777Z"
   },
   {
    "duration": 11,
    "start_time": "2023-11-20T16:42:24.785Z"
   },
   {
    "duration": 15,
    "start_time": "2023-11-20T16:42:24.797Z"
   },
   {
    "duration": 80,
    "start_time": "2023-11-20T16:42:24.814Z"
   },
   {
    "duration": 13,
    "start_time": "2023-11-20T16:42:24.896Z"
   },
   {
    "duration": 9,
    "start_time": "2023-11-20T16:42:24.910Z"
   },
   {
    "duration": 38,
    "start_time": "2023-11-20T16:42:24.922Z"
   },
   {
    "duration": 263,
    "start_time": "2023-11-20T16:50:18.018Z"
   },
   {
    "duration": 101,
    "start_time": "2023-11-20T19:12:55.645Z"
   },
   {
    "duration": 10,
    "start_time": "2023-11-20T19:13:30.127Z"
   },
   {
    "duration": 16,
    "start_time": "2023-11-20T19:13:50.120Z"
   },
   {
    "duration": 89,
    "start_time": "2023-11-20T19:16:06.116Z"
   },
   {
    "duration": 24,
    "start_time": "2023-11-20T19:48:47.663Z"
   },
   {
    "duration": 7,
    "start_time": "2023-11-20T20:07:30.522Z"
   },
   {
    "duration": 2,
    "start_time": "2023-11-20T20:08:52.008Z"
   },
   {
    "duration": 757,
    "start_time": "2023-11-21T09:52:30.299Z"
   },
   {
    "duration": 60,
    "start_time": "2023-11-21T09:52:31.058Z"
   },
   {
    "duration": 170,
    "start_time": "2023-11-21T09:52:31.120Z"
   },
   {
    "duration": 4746,
    "start_time": "2023-11-21T09:52:31.292Z"
   },
   {
    "duration": 12,
    "start_time": "2023-11-21T09:52:36.042Z"
   },
   {
    "duration": 20,
    "start_time": "2023-11-21T09:52:36.056Z"
   },
   {
    "duration": 24,
    "start_time": "2023-11-21T09:52:36.078Z"
   },
   {
    "duration": 60,
    "start_time": "2023-11-21T09:52:36.103Z"
   },
   {
    "duration": 17,
    "start_time": "2023-11-21T09:52:36.165Z"
   },
   {
    "duration": 130,
    "start_time": "2023-11-21T09:52:36.183Z"
   },
   {
    "duration": 44,
    "start_time": "2023-11-21T09:52:36.314Z"
   },
   {
    "duration": 12,
    "start_time": "2023-11-21T09:52:36.359Z"
   },
   {
    "duration": 31,
    "start_time": "2023-11-21T09:52:36.373Z"
   },
   {
    "duration": 70,
    "start_time": "2023-11-21T09:52:36.407Z"
   },
   {
    "duration": 41,
    "start_time": "2023-11-21T09:52:36.479Z"
   },
   {
    "duration": 47,
    "start_time": "2023-11-21T09:52:36.521Z"
   },
   {
    "duration": 7,
    "start_time": "2023-11-21T09:52:38.737Z"
   },
   {
    "duration": 6,
    "start_time": "2023-11-21T11:14:29.020Z"
   },
   {
    "duration": 7,
    "start_time": "2023-11-21T11:14:45.063Z"
   },
   {
    "duration": 414,
    "start_time": "2023-11-21T11:36:43.688Z"
   },
   {
    "duration": 6,
    "start_time": "2023-11-21T11:37:34.436Z"
   },
   {
    "duration": 53,
    "start_time": "2023-11-21T15:31:45.075Z"
   },
   {
    "duration": 534,
    "start_time": "2023-11-21T15:31:55.624Z"
   },
   {
    "duration": 43,
    "start_time": "2023-11-21T15:31:56.160Z"
   },
   {
    "duration": 14,
    "start_time": "2023-11-21T15:31:56.204Z"
   },
   {
    "duration": 4117,
    "start_time": "2023-11-21T15:31:56.220Z"
   },
   {
    "duration": 10,
    "start_time": "2023-11-21T15:32:00.339Z"
   },
   {
    "duration": 39,
    "start_time": "2023-11-21T15:32:00.351Z"
   },
   {
    "duration": 61,
    "start_time": "2023-11-21T15:32:00.391Z"
   },
   {
    "duration": 21,
    "start_time": "2023-11-21T15:32:00.454Z"
   },
   {
    "duration": 49,
    "start_time": "2023-11-21T15:32:00.476Z"
   },
   {
    "duration": 25,
    "start_time": "2023-11-21T15:32:00.528Z"
   },
   {
    "duration": 156,
    "start_time": "2023-11-21T15:32:00.555Z"
   },
   {
    "duration": 13,
    "start_time": "2023-11-21T15:32:00.713Z"
   },
   {
    "duration": 49,
    "start_time": "2023-11-21T15:32:00.728Z"
   },
   {
    "duration": 74,
    "start_time": "2023-11-21T15:32:00.779Z"
   },
   {
    "duration": 139,
    "start_time": "2023-11-21T15:32:00.854Z"
   },
   {
    "duration": 135,
    "start_time": "2023-11-21T15:32:00.995Z"
   },
   {
    "duration": 32,
    "start_time": "2023-11-21T15:32:01.131Z"
   },
   {
    "duration": 411,
    "start_time": "2023-11-21T15:32:01.165Z"
   },
   {
    "duration": 5,
    "start_time": "2023-11-21T15:32:01.578Z"
   },
   {
    "duration": 259,
    "start_time": "2023-11-21T15:32:09.408Z"
   },
   {
    "duration": 29,
    "start_time": "2023-11-21T15:32:36.033Z"
   },
   {
    "duration": 1133,
    "start_time": "2023-11-21T15:34:02.819Z"
   },
   {
    "duration": 8,
    "start_time": "2023-11-21T15:34:16.004Z"
   },
   {
    "duration": 9,
    "start_time": "2023-11-21T15:34:25.185Z"
   },
   {
    "duration": 11,
    "start_time": "2023-11-21T15:34:31.469Z"
   },
   {
    "duration": 8,
    "start_time": "2023-11-21T15:36:03.816Z"
   },
   {
    "duration": 1448,
    "start_time": "2023-11-21T15:36:15.545Z"
   },
   {
    "duration": 7,
    "start_time": "2023-11-21T15:36:21.796Z"
   },
   {
    "duration": 315,
    "start_time": "2023-11-21T16:00:12.992Z"
   },
   {
    "duration": 287,
    "start_time": "2023-11-21T16:00:42.178Z"
   },
   {
    "duration": 409,
    "start_time": "2023-11-21T16:00:50.790Z"
   },
   {
    "duration": 282,
    "start_time": "2023-11-21T16:00:58.470Z"
   },
   {
    "duration": 284,
    "start_time": "2023-11-21T16:01:41.017Z"
   },
   {
    "duration": 895,
    "start_time": "2023-11-21T16:31:03.024Z"
   },
   {
    "duration": 12,
    "start_time": "2023-11-21T16:31:07.925Z"
   },
   {
    "duration": 12,
    "start_time": "2023-11-21T16:40:59.609Z"
   },
   {
    "duration": 10,
    "start_time": "2023-11-21T16:41:05.102Z"
   },
   {
    "duration": 95,
    "start_time": "2023-11-21T16:41:58.983Z"
   },
   {
    "duration": 100,
    "start_time": "2023-11-21T16:42:07.665Z"
   },
   {
    "duration": 49,
    "start_time": "2023-11-21T16:42:07.768Z"
   },
   {
    "duration": 15,
    "start_time": "2023-11-21T16:42:07.819Z"
   },
   {
    "duration": 3822,
    "start_time": "2023-11-21T16:42:07.836Z"
   },
   {
    "duration": 11,
    "start_time": "2023-11-21T16:42:11.660Z"
   },
   {
    "duration": 37,
    "start_time": "2023-11-21T16:42:11.672Z"
   },
   {
    "duration": 12,
    "start_time": "2023-11-21T16:42:11.711Z"
   },
   {
    "duration": 36,
    "start_time": "2023-11-21T16:42:11.725Z"
   },
   {
    "duration": 27,
    "start_time": "2023-11-21T16:42:11.762Z"
   },
   {
    "duration": 28,
    "start_time": "2023-11-21T16:42:11.792Z"
   },
   {
    "duration": 60,
    "start_time": "2023-11-21T16:42:11.822Z"
   },
   {
    "duration": 10,
    "start_time": "2023-11-21T16:42:11.884Z"
   },
   {
    "duration": 35,
    "start_time": "2023-11-21T16:42:11.895Z"
   },
   {
    "duration": 28,
    "start_time": "2023-11-21T16:42:11.932Z"
   },
   {
    "duration": 15,
    "start_time": "2023-11-21T16:42:11.962Z"
   },
   {
    "duration": 49,
    "start_time": "2023-11-21T16:42:11.978Z"
   },
   {
    "duration": 16,
    "start_time": "2023-11-21T16:42:12.029Z"
   },
   {
    "duration": 368,
    "start_time": "2023-11-21T16:42:12.047Z"
   },
   {
    "duration": 4,
    "start_time": "2023-11-21T16:42:12.417Z"
   },
   {
    "duration": 463,
    "start_time": "2023-11-21T16:42:12.423Z"
   },
   {
    "duration": 14,
    "start_time": "2023-11-21T16:42:12.888Z"
   },
   {
    "duration": 98,
    "start_time": "2023-11-21T16:42:42.775Z"
   },
   {
    "duration": 118,
    "start_time": "2023-11-21T16:45:50.975Z"
   },
   {
    "duration": 106,
    "start_time": "2023-11-21T16:46:07.075Z"
   },
   {
    "duration": 122,
    "start_time": "2023-11-21T16:46:11.822Z"
   },
   {
    "duration": 2,
    "start_time": "2023-11-21T16:48:34.780Z"
   },
   {
    "duration": 227,
    "start_time": "2023-11-21T16:50:06.773Z"
   },
   {
    "duration": 236,
    "start_time": "2023-11-21T16:50:18.898Z"
   },
   {
    "duration": 110,
    "start_time": "2023-11-21T16:50:28.913Z"
   },
   {
    "duration": 218,
    "start_time": "2023-11-21T16:50:32.707Z"
   },
   {
    "duration": 110,
    "start_time": "2023-11-21T16:56:05.472Z"
   },
   {
    "duration": 217,
    "start_time": "2023-11-21T17:02:16.591Z"
   },
   {
    "duration": 217,
    "start_time": "2023-11-21T17:05:33.972Z"
   },
   {
    "duration": 227,
    "start_time": "2023-11-21T17:05:38.375Z"
   },
   {
    "duration": 251,
    "start_time": "2023-11-21T18:15:04.381Z"
   },
   {
    "duration": 469,
    "start_time": "2023-11-21T18:15:51.032Z"
   },
   {
    "duration": 28,
    "start_time": "2023-11-21T18:18:13.882Z"
   },
   {
    "duration": 179,
    "start_time": "2023-11-21T18:28:42.879Z"
   },
   {
    "duration": 185,
    "start_time": "2023-11-21T18:29:12.456Z"
   },
   {
    "duration": 239,
    "start_time": "2023-11-21T18:30:04.917Z"
   },
   {
    "duration": 196,
    "start_time": "2023-11-21T18:30:11.619Z"
   },
   {
    "duration": 224,
    "start_time": "2023-11-21T18:31:48.836Z"
   },
   {
    "duration": 237,
    "start_time": "2023-11-21T18:43:01.887Z"
   },
   {
    "duration": 220,
    "start_time": "2023-11-21T18:43:09.339Z"
   },
   {
    "duration": 228,
    "start_time": "2023-11-21T18:43:41.765Z"
   },
   {
    "duration": 195,
    "start_time": "2023-11-21T18:43:51.791Z"
   },
   {
    "duration": 168,
    "start_time": "2023-11-21T18:44:13.239Z"
   },
   {
    "duration": 195,
    "start_time": "2023-11-21T18:44:17.274Z"
   },
   {
    "duration": 837,
    "start_time": "2023-11-21T18:44:31.631Z"
   },
   {
    "duration": 202,
    "start_time": "2023-11-21T18:44:59.125Z"
   },
   {
    "duration": 10,
    "start_time": "2023-11-21T19:04:01.544Z"
   },
   {
    "duration": 136,
    "start_time": "2023-11-21T19:04:22.067Z"
   },
   {
    "duration": 109,
    "start_time": "2023-11-21T19:04:31.405Z"
   },
   {
    "duration": 193,
    "start_time": "2023-11-21T19:06:54.890Z"
   },
   {
    "duration": 260,
    "start_time": "2023-11-21T19:07:06.647Z"
   },
   {
    "duration": 180,
    "start_time": "2023-11-21T19:07:42.463Z"
   },
   {
    "duration": 125,
    "start_time": "2023-11-21T19:08:02.949Z"
   },
   {
    "duration": 173,
    "start_time": "2023-11-21T19:08:09.968Z"
   },
   {
    "duration": 240,
    "start_time": "2023-11-21T19:08:15.220Z"
   },
   {
    "duration": 248,
    "start_time": "2023-11-21T19:09:42.664Z"
   },
   {
    "duration": 229,
    "start_time": "2023-11-21T19:09:51.259Z"
   },
   {
    "duration": 264,
    "start_time": "2023-11-21T19:16:15.555Z"
   },
   {
    "duration": 222,
    "start_time": "2023-11-21T19:16:20.479Z"
   },
   {
    "duration": 172,
    "start_time": "2023-11-21T19:16:23.178Z"
   },
   {
    "duration": 212,
    "start_time": "2023-11-21T19:16:28.544Z"
   },
   {
    "duration": 10,
    "start_time": "2023-11-21T19:20:02.527Z"
   },
   {
    "duration": 130,
    "start_time": "2023-11-21T19:23:56.796Z"
   },
   {
    "duration": 124,
    "start_time": "2023-11-21T19:24:04.420Z"
   },
   {
    "duration": 237,
    "start_time": "2023-11-21T19:24:38.644Z"
   },
   {
    "duration": 199,
    "start_time": "2023-11-21T19:24:48.431Z"
   },
   {
    "duration": 141,
    "start_time": "2023-11-21T19:24:51.139Z"
   },
   {
    "duration": 517,
    "start_time": "2023-11-21T19:25:05.073Z"
   },
   {
    "duration": 183,
    "start_time": "2023-11-21T19:25:11.344Z"
   },
   {
    "duration": 224,
    "start_time": "2023-11-21T19:25:14.643Z"
   },
   {
    "duration": 166,
    "start_time": "2023-11-21T19:25:26.486Z"
   },
   {
    "duration": 195,
    "start_time": "2023-11-21T19:25:29.254Z"
   },
   {
    "duration": 251,
    "start_time": "2023-11-21T19:25:38.345Z"
   },
   {
    "duration": 152,
    "start_time": "2023-11-21T19:26:16.912Z"
   },
   {
    "duration": 144,
    "start_time": "2023-11-21T19:26:30.875Z"
   },
   {
    "duration": 163,
    "start_time": "2023-11-21T19:26:47.599Z"
   },
   {
    "duration": 206,
    "start_time": "2023-11-21T19:26:50.048Z"
   },
   {
    "duration": 161,
    "start_time": "2023-11-21T19:26:56.562Z"
   },
   {
    "duration": 202,
    "start_time": "2023-11-21T19:27:38.721Z"
   },
   {
    "duration": 166,
    "start_time": "2023-11-21T19:27:41.575Z"
   },
   {
    "duration": 170,
    "start_time": "2023-11-21T19:27:44.175Z"
   },
   {
    "duration": 226,
    "start_time": "2023-11-21T19:28:09.095Z"
   },
   {
    "duration": 191,
    "start_time": "2023-11-21T19:28:22.707Z"
   },
   {
    "duration": 163,
    "start_time": "2023-11-21T19:28:57.759Z"
   },
   {
    "duration": 144,
    "start_time": "2023-11-21T19:29:53.147Z"
   },
   {
    "duration": 291,
    "start_time": "2023-11-21T19:30:05.164Z"
   },
   {
    "duration": 92,
    "start_time": "2023-11-21T19:40:50.542Z"
   },
   {
    "duration": 9,
    "start_time": "2023-11-21T19:41:01.332Z"
   },
   {
    "duration": 122,
    "start_time": "2023-11-21T19:41:59.933Z"
   },
   {
    "duration": 120,
    "start_time": "2023-11-21T19:42:04.412Z"
   },
   {
    "duration": 105,
    "start_time": "2023-11-21T19:42:13.829Z"
   },
   {
    "duration": 124,
    "start_time": "2023-11-21T19:42:19.501Z"
   },
   {
    "duration": 126,
    "start_time": "2023-11-21T19:42:40.533Z"
   },
   {
    "duration": 125,
    "start_time": "2023-11-21T19:42:43.189Z"
   },
   {
    "duration": 119,
    "start_time": "2023-11-21T19:42:49.992Z"
   },
   {
    "duration": 116,
    "start_time": "2023-11-21T19:43:15.179Z"
   },
   {
    "duration": 128,
    "start_time": "2023-11-21T19:43:25.898Z"
   },
   {
    "duration": 121,
    "start_time": "2023-11-21T19:43:30.706Z"
   },
   {
    "duration": 135,
    "start_time": "2023-11-21T19:43:40.207Z"
   },
   {
    "duration": 112,
    "start_time": "2023-11-21T19:43:42.579Z"
   },
   {
    "duration": 119,
    "start_time": "2023-11-21T19:47:26.255Z"
   },
   {
    "duration": 113,
    "start_time": "2023-11-21T19:47:40.329Z"
   },
   {
    "duration": 116,
    "start_time": "2023-11-21T19:47:53.058Z"
   },
   {
    "duration": 208,
    "start_time": "2023-11-21T19:48:22.782Z"
   },
   {
    "duration": 183,
    "start_time": "2023-11-21T19:48:29.245Z"
   },
   {
    "duration": 196,
    "start_time": "2023-11-21T19:48:51.693Z"
   },
   {
    "duration": 169,
    "start_time": "2023-11-21T19:50:46.225Z"
   },
   {
    "duration": 596,
    "start_time": "2023-11-21T19:50:59.535Z"
   },
   {
    "duration": 174,
    "start_time": "2023-11-21T19:51:04.996Z"
   },
   {
    "duration": 664,
    "start_time": "2023-11-21T19:52:17.431Z"
   },
   {
    "duration": 192,
    "start_time": "2023-11-21T19:52:21.943Z"
   },
   {
    "duration": 221,
    "start_time": "2023-11-21T19:58:04.463Z"
   },
   {
    "duration": 195,
    "start_time": "2023-11-21T19:58:08.149Z"
   },
   {
    "duration": 149,
    "start_time": "2023-11-21T20:01:29.350Z"
   },
   {
    "duration": 140,
    "start_time": "2023-11-21T20:01:34.449Z"
   },
   {
    "duration": 182,
    "start_time": "2023-11-21T20:01:45.108Z"
   },
   {
    "duration": 12,
    "start_time": "2023-11-21T20:18:33.088Z"
   },
   {
    "duration": 132,
    "start_time": "2023-11-21T20:24:30.225Z"
   },
   {
    "duration": 128,
    "start_time": "2023-11-21T20:24:40.929Z"
   },
   {
    "duration": 116,
    "start_time": "2023-11-21T20:25:35.529Z"
   },
   {
    "duration": 192,
    "start_time": "2023-11-21T20:25:42.054Z"
   },
   {
    "duration": 167,
    "start_time": "2023-11-21T20:25:50.179Z"
   },
   {
    "duration": 146,
    "start_time": "2023-11-21T20:25:52.894Z"
   },
   {
    "duration": 154,
    "start_time": "2023-11-21T20:25:56.134Z"
   },
   {
    "duration": 148,
    "start_time": "2023-11-21T20:26:38.274Z"
   },
   {
    "duration": 136,
    "start_time": "2023-11-21T20:27:28.165Z"
   },
   {
    "duration": 133,
    "start_time": "2023-11-21T20:27:34.110Z"
   },
   {
    "duration": 131,
    "start_time": "2023-11-21T20:27:39.051Z"
   },
   {
    "duration": 151,
    "start_time": "2023-11-21T20:27:47.395Z"
   },
   {
    "duration": 147,
    "start_time": "2023-11-21T20:27:49.568Z"
   },
   {
    "duration": 157,
    "start_time": "2023-11-21T20:27:53.018Z"
   },
   {
    "duration": 148,
    "start_time": "2023-11-21T20:29:44.694Z"
   },
   {
    "duration": 41,
    "start_time": "2023-11-21T20:31:35.503Z"
   },
   {
    "duration": 9,
    "start_time": "2023-11-21T20:31:57.248Z"
   },
   {
    "duration": 35,
    "start_time": "2023-11-21T20:32:00.848Z"
   },
   {
    "duration": 137,
    "start_time": "2023-11-21T20:32:20.332Z"
   },
   {
    "duration": 177,
    "start_time": "2023-11-21T20:32:27.049Z"
   },
   {
    "duration": 165,
    "start_time": "2023-11-21T20:32:50.194Z"
   },
   {
    "duration": 145,
    "start_time": "2023-11-21T20:32:59.449Z"
   },
   {
    "duration": 150,
    "start_time": "2023-11-21T20:33:02.957Z"
   },
   {
    "duration": 143,
    "start_time": "2023-11-21T20:33:07.699Z"
   },
   {
    "duration": 136,
    "start_time": "2023-11-21T20:33:10.820Z"
   },
   {
    "duration": 139,
    "start_time": "2023-11-21T20:33:14.318Z"
   },
   {
    "duration": 142,
    "start_time": "2023-11-21T20:33:17.022Z"
   },
   {
    "duration": 145,
    "start_time": "2023-11-21T20:33:19.912Z"
   },
   {
    "duration": 132,
    "start_time": "2023-11-21T20:33:31.525Z"
   },
   {
    "duration": 146,
    "start_time": "2023-11-21T20:34:13.900Z"
   },
   {
    "duration": 11,
    "start_time": "2023-11-21T20:37:28.657Z"
   },
   {
    "duration": 9,
    "start_time": "2023-11-21T20:37:36.126Z"
   },
   {
    "duration": 117,
    "start_time": "2023-11-21T20:38:13.836Z"
   },
   {
    "duration": 122,
    "start_time": "2023-11-21T20:39:32.518Z"
   },
   {
    "duration": 282,
    "start_time": "2023-11-21T20:40:05.132Z"
   },
   {
    "duration": 251,
    "start_time": "2023-11-21T20:40:13.595Z"
   },
   {
    "duration": 119,
    "start_time": "2023-11-21T20:48:54.136Z"
   },
   {
    "duration": 639,
    "start_time": "2023-11-21T20:49:10.002Z"
   },
   {
    "duration": 109,
    "start_time": "2023-11-21T20:49:14.737Z"
   },
   {
    "duration": 124,
    "start_time": "2023-11-21T20:49:35.480Z"
   },
   {
    "duration": 130,
    "start_time": "2023-11-21T20:49:42.275Z"
   },
   {
    "duration": 124,
    "start_time": "2023-11-21T20:49:45.766Z"
   },
   {
    "duration": 109,
    "start_time": "2023-11-21T20:49:55.118Z"
   },
   {
    "duration": 107,
    "start_time": "2023-11-21T20:50:46.456Z"
   },
   {
    "duration": 247,
    "start_time": "2023-11-21T20:51:13.323Z"
   },
   {
    "duration": 272,
    "start_time": "2023-11-21T20:51:22.107Z"
   },
   {
    "duration": 183,
    "start_time": "2023-11-21T20:51:35.998Z"
   },
   {
    "duration": 142,
    "start_time": "2023-11-21T20:51:39.313Z"
   },
   {
    "duration": 159,
    "start_time": "2023-11-21T20:51:43.358Z"
   },
   {
    "duration": 135,
    "start_time": "2023-11-21T20:51:45.539Z"
   },
   {
    "duration": 121,
    "start_time": "2023-11-21T20:51:57.319Z"
   },
   {
    "duration": 149,
    "start_time": "2023-11-21T20:52:01.544Z"
   },
   {
    "duration": 173,
    "start_time": "2023-11-21T20:52:15.246Z"
   },
   {
    "duration": 135,
    "start_time": "2023-11-21T21:03:04.794Z"
   },
   {
    "duration": 137,
    "start_time": "2023-11-21T21:03:20.818Z"
   },
   {
    "duration": 149,
    "start_time": "2023-11-21T21:03:23.875Z"
   },
   {
    "duration": 131,
    "start_time": "2023-11-21T21:03:30.343Z"
   },
   {
    "duration": 129,
    "start_time": "2023-11-21T21:03:35.215Z"
   },
   {
    "duration": 176,
    "start_time": "2023-11-21T21:03:38.264Z"
   },
   {
    "duration": 133,
    "start_time": "2023-11-21T21:03:43.573Z"
   },
   {
    "duration": 136,
    "start_time": "2023-11-21T21:03:54.429Z"
   },
   {
    "duration": 133,
    "start_time": "2023-11-21T21:03:59.780Z"
   },
   {
    "duration": 151,
    "start_time": "2023-11-21T21:04:03.400Z"
   },
   {
    "duration": 134,
    "start_time": "2023-11-21T21:12:10.949Z"
   },
   {
    "duration": 147,
    "start_time": "2023-11-21T21:22:47.903Z"
   },
   {
    "duration": 120,
    "start_time": "2023-11-21T21:23:10.942Z"
   },
   {
    "duration": 119,
    "start_time": "2023-11-21T21:23:14.646Z"
   },
   {
    "duration": 114,
    "start_time": "2023-11-21T21:23:18.914Z"
   },
   {
    "duration": 168,
    "start_time": "2023-11-21T21:23:28.670Z"
   },
   {
    "duration": 133,
    "start_time": "2023-11-21T21:23:34.033Z"
   },
   {
    "duration": 133,
    "start_time": "2023-11-21T21:23:38.796Z"
   },
   {
    "duration": 149,
    "start_time": "2023-11-21T21:24:31.280Z"
   },
   {
    "duration": 183,
    "start_time": "2023-11-21T21:26:46.067Z"
   },
   {
    "duration": 174,
    "start_time": "2023-11-21T21:27:10.147Z"
   },
   {
    "duration": 289,
    "start_time": "2023-11-21T21:27:23.853Z"
   },
   {
    "duration": 253,
    "start_time": "2023-11-21T21:27:29.129Z"
   },
   {
    "duration": 203,
    "start_time": "2023-11-21T21:27:41.491Z"
   },
   {
    "duration": 136,
    "start_time": "2023-11-21T21:28:21.393Z"
   },
   {
    "duration": 160,
    "start_time": "2023-11-21T21:28:25.346Z"
   },
   {
    "duration": 149,
    "start_time": "2023-11-21T21:28:27.515Z"
   },
   {
    "duration": 154,
    "start_time": "2023-11-21T21:28:29.652Z"
   },
   {
    "duration": 14,
    "start_time": "2023-11-21T21:57:55.277Z"
   },
   {
    "duration": 5,
    "start_time": "2023-11-21T21:58:12.897Z"
   },
   {
    "duration": 5,
    "start_time": "2023-11-21T21:58:35.046Z"
   },
   {
    "duration": 8,
    "start_time": "2023-11-21T21:58:48.494Z"
   },
   {
    "duration": 4,
    "start_time": "2023-11-21T21:59:06.546Z"
   },
   {
    "duration": 4,
    "start_time": "2023-11-21T21:59:58.756Z"
   },
   {
    "duration": 3,
    "start_time": "2023-11-21T22:01:33.110Z"
   },
   {
    "duration": 3,
    "start_time": "2023-11-21T22:02:01.233Z"
   },
   {
    "duration": 3,
    "start_time": "2023-11-21T22:02:18.334Z"
   },
   {
    "duration": 4,
    "start_time": "2023-11-21T22:02:50.789Z"
   },
   {
    "duration": 8,
    "start_time": "2023-11-21T22:03:35.532Z"
   },
   {
    "duration": 7,
    "start_time": "2023-11-21T22:03:54.452Z"
   },
   {
    "duration": 10,
    "start_time": "2023-11-21T22:04:05.312Z"
   },
   {
    "duration": 39,
    "start_time": "2023-11-21T22:13:23.176Z"
   },
   {
    "duration": 21,
    "start_time": "2023-11-21T22:13:28.107Z"
   },
   {
    "duration": 14,
    "start_time": "2023-11-21T22:13:31.047Z"
   },
   {
    "duration": 32,
    "start_time": "2023-11-21T22:13:44.708Z"
   },
   {
    "duration": 17,
    "start_time": "2023-11-21T22:13:47.697Z"
   },
   {
    "duration": 20,
    "start_time": "2023-11-21T22:13:50.197Z"
   },
   {
    "duration": 14,
    "start_time": "2023-11-21T22:13:52.177Z"
   },
   {
    "duration": 13,
    "start_time": "2023-11-21T22:13:56.859Z"
   },
   {
    "duration": 14,
    "start_time": "2023-11-21T22:14:02.041Z"
   },
   {
    "duration": 13,
    "start_time": "2023-11-21T22:14:06.755Z"
   },
   {
    "duration": 25,
    "start_time": "2023-11-21T22:14:09.314Z"
   },
   {
    "duration": 29,
    "start_time": "2023-11-21T22:14:21.795Z"
   },
   {
    "duration": 36,
    "start_time": "2023-11-21T22:15:12.687Z"
   },
   {
    "duration": 36,
    "start_time": "2023-11-21T22:15:27.653Z"
   },
   {
    "duration": 30,
    "start_time": "2023-11-21T22:15:39.029Z"
   },
   {
    "duration": 17,
    "start_time": "2023-11-21T22:16:09.429Z"
   },
   {
    "duration": 32,
    "start_time": "2023-11-21T22:17:48.058Z"
   },
   {
    "duration": 20,
    "start_time": "2023-11-21T22:19:05.799Z"
   },
   {
    "duration": 10,
    "start_time": "2023-11-21T22:24:22.031Z"
   },
   {
    "duration": 120,
    "start_time": "2023-11-21T22:25:18.835Z"
   },
   {
    "duration": 123,
    "start_time": "2023-11-21T22:25:33.938Z"
   },
   {
    "duration": 120,
    "start_time": "2023-11-21T22:25:38.927Z"
   },
   {
    "duration": 108,
    "start_time": "2023-11-21T22:25:46.536Z"
   },
   {
    "duration": 14,
    "start_time": "2023-11-21T22:30:45.993Z"
   },
   {
    "duration": 109,
    "start_time": "2023-11-21T22:31:02.121Z"
   },
   {
    "duration": 111,
    "start_time": "2023-11-21T22:31:13.547Z"
   },
   {
    "duration": 116,
    "start_time": "2023-11-21T22:31:20.866Z"
   },
   {
    "duration": 128,
    "start_time": "2023-11-21T22:43:24.335Z"
   },
   {
    "duration": 176,
    "start_time": "2023-11-21T22:43:28.753Z"
   },
   {
    "duration": 134,
    "start_time": "2023-11-21T22:43:32.839Z"
   },
   {
    "duration": 140,
    "start_time": "2023-11-21T22:43:35.311Z"
   },
   {
    "duration": 134,
    "start_time": "2023-11-21T22:43:39.745Z"
   },
   {
    "duration": 140,
    "start_time": "2023-11-21T22:44:11.828Z"
   },
   {
    "duration": 143,
    "start_time": "2023-11-21T22:44:15.616Z"
   },
   {
    "duration": 115,
    "start_time": "2023-11-21T22:44:25.031Z"
   },
   {
    "duration": 135,
    "start_time": "2023-11-21T22:44:28.857Z"
   },
   {
    "duration": 133,
    "start_time": "2023-11-21T22:44:32.443Z"
   },
   {
    "duration": 133,
    "start_time": "2023-11-21T22:45:12.420Z"
   },
   {
    "duration": 163,
    "start_time": "2023-11-21T22:45:15.265Z"
   },
   {
    "duration": 128,
    "start_time": "2023-11-21T22:45:19.064Z"
   },
   {
    "duration": 137,
    "start_time": "2023-11-21T22:45:24.585Z"
   },
   {
    "duration": 143,
    "start_time": "2023-11-21T22:46:02.153Z"
   },
   {
    "duration": 731,
    "start_time": "2023-11-21T22:46:07.313Z"
   },
   {
    "duration": 134,
    "start_time": "2023-11-21T22:46:16.743Z"
   },
   {
    "duration": 140,
    "start_time": "2023-11-21T22:46:21.583Z"
   },
   {
    "duration": 10,
    "start_time": "2023-11-21T22:50:40.063Z"
   },
   {
    "duration": 113,
    "start_time": "2023-11-21T22:50:50.679Z"
   },
   {
    "duration": 126,
    "start_time": "2023-11-21T22:50:58.835Z"
   },
   {
    "duration": 117,
    "start_time": "2023-11-21T22:51:07.678Z"
   },
   {
    "duration": 111,
    "start_time": "2023-11-21T22:52:08.544Z"
   },
   {
    "duration": 10,
    "start_time": "2023-11-21T22:53:12.860Z"
   },
   {
    "duration": 112,
    "start_time": "2023-11-21T22:53:16.277Z"
   },
   {
    "duration": 178,
    "start_time": "2023-11-21T22:53:57.711Z"
   },
   {
    "duration": 235,
    "start_time": "2023-11-21T22:54:02.694Z"
   },
   {
    "duration": 149,
    "start_time": "2023-11-21T22:54:06.642Z"
   },
   {
    "duration": 182,
    "start_time": "2023-11-21T22:54:09.965Z"
   },
   {
    "duration": 8,
    "start_time": "2023-11-21T23:00:20.564Z"
   },
   {
    "duration": 125,
    "start_time": "2023-11-21T23:00:34.398Z"
   },
   {
    "duration": 148,
    "start_time": "2023-11-21T23:00:45.374Z"
   },
   {
    "duration": 105,
    "start_time": "2023-11-21T23:00:50.523Z"
   },
   {
    "duration": 107,
    "start_time": "2023-11-21T23:00:59.762Z"
   },
   {
    "duration": 14,
    "start_time": "2023-11-21T23:01:04.122Z"
   },
   {
    "duration": 193,
    "start_time": "2023-11-21T23:01:44.682Z"
   },
   {
    "duration": 198,
    "start_time": "2023-11-21T23:01:47.981Z"
   },
   {
    "duration": 182,
    "start_time": "2023-11-21T23:01:50.876Z"
   },
   {
    "duration": 42,
    "start_time": "2023-11-22T08:54:32.096Z"
   },
   {
    "duration": 1030,
    "start_time": "2023-11-22T08:54:37.251Z"
   },
   {
    "duration": 38,
    "start_time": "2023-11-22T08:54:38.283Z"
   },
   {
    "duration": 13,
    "start_time": "2023-11-22T08:54:38.322Z"
   },
   {
    "duration": 3431,
    "start_time": "2023-11-22T08:54:38.337Z"
   },
   {
    "duration": 9,
    "start_time": "2023-11-22T08:54:41.769Z"
   },
   {
    "duration": 5,
    "start_time": "2023-11-22T08:54:41.779Z"
   },
   {
    "duration": 5,
    "start_time": "2023-11-22T08:54:41.786Z"
   },
   {
    "duration": 3,
    "start_time": "2023-11-22T08:54:41.792Z"
   },
   {
    "duration": 11,
    "start_time": "2023-11-22T08:54:41.796Z"
   },
   {
    "duration": 12,
    "start_time": "2023-11-22T08:54:41.809Z"
   },
   {
    "duration": 145,
    "start_time": "2023-11-22T08:54:41.822Z"
   },
   {
    "duration": 20,
    "start_time": "2023-11-22T08:54:41.968Z"
   },
   {
    "duration": 7,
    "start_time": "2023-11-22T08:54:41.989Z"
   },
   {
    "duration": 26,
    "start_time": "2023-11-22T08:54:41.997Z"
   },
   {
    "duration": 6,
    "start_time": "2023-11-22T08:54:42.024Z"
   },
   {
    "duration": 22,
    "start_time": "2023-11-22T08:54:42.032Z"
   },
   {
    "duration": 7,
    "start_time": "2023-11-22T08:54:42.055Z"
   },
   {
    "duration": 352,
    "start_time": "2023-11-22T08:54:42.063Z"
   },
   {
    "duration": 4,
    "start_time": "2023-11-22T08:54:42.417Z"
   },
   {
    "duration": 302,
    "start_time": "2023-11-22T08:54:42.422Z"
   },
   {
    "duration": 9,
    "start_time": "2023-11-22T08:54:42.725Z"
   },
   {
    "duration": 111,
    "start_time": "2023-11-22T08:54:42.735Z"
   },
   {
    "duration": 176,
    "start_time": "2023-11-22T08:54:42.848Z"
   },
   {
    "duration": 8,
    "start_time": "2023-11-22T08:54:43.026Z"
   },
   {
    "duration": 141,
    "start_time": "2023-11-22T08:54:43.035Z"
   },
   {
    "duration": 202,
    "start_time": "2023-11-22T08:54:46.402Z"
   },
   {
    "duration": 157,
    "start_time": "2023-11-22T08:54:51.473Z"
   },
   {
    "duration": 132,
    "start_time": "2023-11-22T08:54:53.829Z"
   },
   {
    "duration": 121,
    "start_time": "2023-11-22T08:54:57.154Z"
   },
   {
    "duration": 147,
    "start_time": "2023-11-22T08:55:05.652Z"
   },
   {
    "duration": 159,
    "start_time": "2023-11-22T08:55:28.016Z"
   },
   {
    "duration": 242,
    "start_time": "2023-11-22T08:56:49.189Z"
   },
   {
    "duration": 130,
    "start_time": "2023-11-22T08:56:51.314Z"
   },
   {
    "duration": 132,
    "start_time": "2023-11-22T08:57:38.502Z"
   },
   {
    "duration": 143,
    "start_time": "2023-11-22T08:57:42.453Z"
   },
   {
    "duration": 128,
    "start_time": "2023-11-22T08:57:52.968Z"
   },
   {
    "duration": 91,
    "start_time": "2023-11-22T08:59:02.723Z"
   },
   {
    "duration": 33,
    "start_time": "2023-11-22T08:59:02.816Z"
   },
   {
    "duration": 33,
    "start_time": "2023-11-22T08:59:02.851Z"
   },
   {
    "duration": 4182,
    "start_time": "2023-11-22T08:59:02.886Z"
   },
   {
    "duration": 15,
    "start_time": "2023-11-22T08:59:07.070Z"
   },
   {
    "duration": 7,
    "start_time": "2023-11-22T08:59:07.086Z"
   },
   {
    "duration": 5,
    "start_time": "2023-11-22T08:59:07.094Z"
   },
   {
    "duration": 3,
    "start_time": "2023-11-22T08:59:07.100Z"
   },
   {
    "duration": 10,
    "start_time": "2023-11-22T08:59:07.104Z"
   },
   {
    "duration": 12,
    "start_time": "2023-11-22T08:59:07.116Z"
   },
   {
    "duration": 67,
    "start_time": "2023-11-22T08:59:07.129Z"
   },
   {
    "duration": 9,
    "start_time": "2023-11-22T08:59:07.197Z"
   },
   {
    "duration": 6,
    "start_time": "2023-11-22T08:59:07.208Z"
   },
   {
    "duration": 8,
    "start_time": "2023-11-22T08:59:07.215Z"
   },
   {
    "duration": 8,
    "start_time": "2023-11-22T08:59:07.224Z"
   },
   {
    "duration": 20,
    "start_time": "2023-11-22T08:59:07.233Z"
   },
   {
    "duration": 32,
    "start_time": "2023-11-22T08:59:07.254Z"
   },
   {
    "duration": 357,
    "start_time": "2023-11-22T08:59:07.287Z"
   },
   {
    "duration": 4,
    "start_time": "2023-11-22T08:59:07.646Z"
   },
   {
    "duration": 292,
    "start_time": "2023-11-22T08:59:07.651Z"
   },
   {
    "duration": 8,
    "start_time": "2023-11-22T08:59:07.944Z"
   },
   {
    "duration": 108,
    "start_time": "2023-11-22T08:59:07.953Z"
   },
   {
    "duration": 173,
    "start_time": "2023-11-22T08:59:08.062Z"
   },
   {
    "duration": 8,
    "start_time": "2023-11-22T08:59:08.236Z"
   },
   {
    "duration": 120,
    "start_time": "2023-11-22T08:59:08.245Z"
   },
   {
    "duration": 133,
    "start_time": "2023-11-22T08:59:08.367Z"
   },
   {
    "duration": 9,
    "start_time": "2023-11-22T08:59:08.501Z"
   },
   {
    "duration": 128,
    "start_time": "2023-11-22T08:59:08.513Z"
   },
   {
    "duration": 311,
    "start_time": "2023-11-22T08:59:08.642Z"
   },
   {
    "duration": 7,
    "start_time": "2023-11-22T08:59:08.955Z"
   },
   {
    "duration": 118,
    "start_time": "2023-11-22T08:59:08.964Z"
   },
   {
    "duration": 172,
    "start_time": "2023-11-22T08:59:09.083Z"
   },
   {
    "duration": 7,
    "start_time": "2023-11-22T08:59:09.256Z"
   },
   {
    "duration": 121,
    "start_time": "2023-11-22T08:59:09.264Z"
   },
   {
    "duration": 130,
    "start_time": "2023-11-22T08:59:09.387Z"
   },
   {
    "duration": 8,
    "start_time": "2023-11-22T08:59:09.518Z"
   },
   {
    "duration": 125,
    "start_time": "2023-11-22T08:59:09.527Z"
   },
   {
    "duration": 130,
    "start_time": "2023-11-22T08:59:09.653Z"
   },
   {
    "duration": 109,
    "start_time": "2023-11-22T08:59:09.785Z"
   },
   {
    "duration": 8,
    "start_time": "2023-11-22T08:59:09.896Z"
   },
   {
    "duration": 116,
    "start_time": "2023-11-22T08:59:09.905Z"
   },
   {
    "duration": 121,
    "start_time": "2023-11-22T08:59:10.023Z"
   },
   {
    "duration": 8,
    "start_time": "2023-11-22T08:59:10.146Z"
   },
   {
    "duration": 113,
    "start_time": "2023-11-22T08:59:10.155Z"
   },
   {
    "duration": 164,
    "start_time": "2023-11-22T08:59:10.269Z"
   },
   {
    "duration": 8,
    "start_time": "2023-11-22T08:59:10.434Z"
   },
   {
    "duration": 101,
    "start_time": "2023-11-22T08:59:10.443Z"
   },
   {
    "duration": 165,
    "start_time": "2023-11-22T08:59:10.545Z"
   },
   {
    "duration": 155,
    "start_time": "2023-11-22T09:12:06.151Z"
   },
   {
    "duration": 163,
    "start_time": "2023-11-22T09:12:09.691Z"
   },
   {
    "duration": 133,
    "start_time": "2023-11-22T09:12:55.760Z"
   },
   {
    "duration": 140,
    "start_time": "2023-11-22T09:12:58.952Z"
   },
   {
    "duration": 160,
    "start_time": "2023-11-22T09:13:55.877Z"
   },
   {
    "duration": 149,
    "start_time": "2023-11-22T09:15:16.257Z"
   },
   {
    "duration": 181,
    "start_time": "2023-11-22T09:15:19.513Z"
   },
   {
    "duration": 159,
    "start_time": "2023-11-22T09:15:23.209Z"
   },
   {
    "duration": 131,
    "start_time": "2023-11-22T09:15:25.889Z"
   },
   {
    "duration": 124,
    "start_time": "2023-11-22T09:15:32.349Z"
   },
   {
    "duration": 131,
    "start_time": "2023-11-22T09:15:42.808Z"
   },
   {
    "duration": 136,
    "start_time": "2023-11-22T09:15:47.029Z"
   },
   {
    "duration": 145,
    "start_time": "2023-11-22T09:15:49.480Z"
   },
   {
    "duration": 200,
    "start_time": "2023-11-22T09:16:05.583Z"
   },
   {
    "duration": 136,
    "start_time": "2023-11-22T09:16:11.686Z"
   },
   {
    "duration": 135,
    "start_time": "2023-11-22T09:16:15.843Z"
   },
   {
    "duration": 470,
    "start_time": "2023-11-22T09:16:24.663Z"
   },
   {
    "duration": 159,
    "start_time": "2023-11-22T09:16:36.290Z"
   },
   {
    "duration": 196,
    "start_time": "2023-11-22T09:16:40.427Z"
   },
   {
    "duration": 157,
    "start_time": "2023-11-22T09:16:47.812Z"
   },
   {
    "duration": 148,
    "start_time": "2023-11-22T09:18:07.273Z"
   },
   {
    "duration": 127,
    "start_time": "2023-11-22T09:18:10.198Z"
   },
   {
    "duration": 155,
    "start_time": "2023-11-22T09:18:15.990Z"
   },
   {
    "duration": 143,
    "start_time": "2023-11-22T09:18:23.704Z"
   },
   {
    "duration": 125,
    "start_time": "2023-11-22T09:19:58.629Z"
   },
   {
    "duration": 130,
    "start_time": "2023-11-22T09:20:10.181Z"
   },
   {
    "duration": 122,
    "start_time": "2023-11-22T09:20:33.641Z"
   },
   {
    "duration": 140,
    "start_time": "2023-11-22T09:20:46.281Z"
   },
   {
    "duration": 9,
    "start_time": "2023-11-22T09:33:51.196Z"
   },
   {
    "duration": 167,
    "start_time": "2023-11-22T09:42:48.877Z"
   },
   {
    "duration": 185,
    "start_time": "2023-11-22T09:46:29.913Z"
   },
   {
    "duration": 152,
    "start_time": "2023-11-22T09:46:34.792Z"
   },
   {
    "duration": 147,
    "start_time": "2023-11-22T09:55:47.364Z"
   },
   {
    "duration": 164,
    "start_time": "2023-11-22T09:55:56.687Z"
   },
   {
    "duration": 150,
    "start_time": "2023-11-22T09:56:41.168Z"
   },
   {
    "duration": 168,
    "start_time": "2023-11-22T09:57:11.724Z"
   },
   {
    "duration": 158,
    "start_time": "2023-11-22T09:57:26.051Z"
   },
   {
    "duration": 150,
    "start_time": "2023-11-22T10:02:06.822Z"
   },
   {
    "duration": 157,
    "start_time": "2023-11-22T10:02:10.234Z"
   },
   {
    "duration": 189,
    "start_time": "2023-11-22T10:02:25.360Z"
   },
   {
    "duration": 137,
    "start_time": "2023-11-22T10:02:27.978Z"
   },
   {
    "duration": 127,
    "start_time": "2023-11-22T10:02:37.012Z"
   },
   {
    "duration": 141,
    "start_time": "2023-11-22T10:02:43.105Z"
   },
   {
    "duration": 139,
    "start_time": "2023-11-22T10:02:47.266Z"
   },
   {
    "duration": 128,
    "start_time": "2023-11-22T10:02:53.217Z"
   },
   {
    "duration": 443,
    "start_time": "2023-11-22T10:02:55.141Z"
   },
   {
    "duration": 142,
    "start_time": "2023-11-22T10:02:58.219Z"
   },
   {
    "duration": 16,
    "start_time": "2023-11-22T10:27:47.976Z"
   },
   {
    "duration": 7,
    "start_time": "2023-11-22T10:28:47.923Z"
   },
   {
    "duration": 9,
    "start_time": "2023-11-22T12:18:53.712Z"
   },
   {
    "duration": 16,
    "start_time": "2023-11-22T12:19:04.438Z"
   },
   {
    "duration": 138,
    "start_time": "2023-11-22T12:20:03.012Z"
   },
   {
    "duration": 322,
    "start_time": "2023-11-22T12:21:21.883Z"
   },
   {
    "duration": 447,
    "start_time": "2023-11-22T12:21:51.151Z"
   },
   {
    "duration": 277,
    "start_time": "2023-11-22T12:21:58.977Z"
   },
   {
    "duration": 303,
    "start_time": "2023-11-22T12:22:04.437Z"
   },
   {
    "duration": 216,
    "start_time": "2023-11-22T12:24:47.409Z"
   },
   {
    "duration": 171,
    "start_time": "2023-11-22T12:25:00.433Z"
   },
   {
    "duration": 16,
    "start_time": "2023-11-22T12:26:03.722Z"
   },
   {
    "duration": 2,
    "start_time": "2023-11-22T12:27:01.510Z"
   },
   {
    "duration": 14,
    "start_time": "2023-11-22T12:37:34.643Z"
   },
   {
    "duration": 3096,
    "start_time": "2023-11-22T12:37:41.466Z"
   },
   {
    "duration": 3164,
    "start_time": "2023-11-22T12:38:08.670Z"
   },
   {
    "duration": 13,
    "start_time": "2023-11-22T12:38:41.990Z"
   },
   {
    "duration": 2174,
    "start_time": "2023-11-22T12:39:09.933Z"
   },
   {
    "duration": 13,
    "start_time": "2023-11-22T12:39:17.663Z"
   },
   {
    "duration": 132,
    "start_time": "2023-11-22T12:39:52.544Z"
   },
   {
    "duration": 44,
    "start_time": "2023-11-22T13:55:33.241Z"
   },
   {
    "duration": 1006,
    "start_time": "2023-11-22T13:55:37.521Z"
   },
   {
    "duration": 46,
    "start_time": "2023-11-22T13:55:38.530Z"
   },
   {
    "duration": 15,
    "start_time": "2023-11-22T13:55:38.578Z"
   },
   {
    "duration": 3888,
    "start_time": "2023-11-22T13:55:38.596Z"
   },
   {
    "duration": 11,
    "start_time": "2023-11-22T13:55:42.486Z"
   },
   {
    "duration": 56,
    "start_time": "2023-11-22T13:55:42.499Z"
   },
   {
    "duration": 62,
    "start_time": "2023-11-22T13:55:42.556Z"
   },
   {
    "duration": 24,
    "start_time": "2023-11-22T13:55:42.619Z"
   },
   {
    "duration": 15,
    "start_time": "2023-11-22T13:55:42.645Z"
   },
   {
    "duration": 17,
    "start_time": "2023-11-22T13:55:42.663Z"
   },
   {
    "duration": 182,
    "start_time": "2023-11-22T13:55:42.683Z"
   },
   {
    "duration": 12,
    "start_time": "2023-11-22T13:55:42.867Z"
   },
   {
    "duration": 13,
    "start_time": "2023-11-22T13:55:42.880Z"
   },
   {
    "duration": 11,
    "start_time": "2023-11-22T13:55:42.894Z"
   },
   {
    "duration": 32,
    "start_time": "2023-11-22T13:55:42.907Z"
   },
   {
    "duration": 36,
    "start_time": "2023-11-22T13:55:42.941Z"
   },
   {
    "duration": 8,
    "start_time": "2023-11-22T13:55:42.979Z"
   },
   {
    "duration": 414,
    "start_time": "2023-11-22T13:55:42.989Z"
   },
   {
    "duration": 7,
    "start_time": "2023-11-22T13:55:43.405Z"
   },
   {
    "duration": 317,
    "start_time": "2023-11-22T13:55:43.413Z"
   },
   {
    "duration": 10,
    "start_time": "2023-11-22T13:55:43.732Z"
   },
   {
    "duration": 147,
    "start_time": "2023-11-22T13:55:43.744Z"
   },
   {
    "duration": 215,
    "start_time": "2023-11-22T13:55:43.893Z"
   },
   {
    "duration": 21,
    "start_time": "2023-11-22T13:55:44.110Z"
   },
   {
    "duration": 137,
    "start_time": "2023-11-22T13:55:44.133Z"
   },
   {
    "duration": 228,
    "start_time": "2023-11-22T13:55:44.271Z"
   },
   {
    "duration": 11,
    "start_time": "2023-11-22T13:55:44.501Z"
   },
   {
    "duration": 144,
    "start_time": "2023-11-22T13:55:44.533Z"
   },
   {
    "duration": 173,
    "start_time": "2023-11-22T13:55:44.679Z"
   },
   {
    "duration": 11,
    "start_time": "2023-11-22T13:55:44.853Z"
   },
   {
    "duration": 146,
    "start_time": "2023-11-22T13:55:44.866Z"
   },
   {
    "duration": 198,
    "start_time": "2023-11-22T13:55:45.014Z"
   },
   {
    "duration": 18,
    "start_time": "2023-11-22T13:55:45.214Z"
   },
   {
    "duration": 131,
    "start_time": "2023-11-22T13:55:45.233Z"
   },
   {
    "duration": 158,
    "start_time": "2023-11-22T13:55:45.366Z"
   },
   {
    "duration": 10,
    "start_time": "2023-11-22T13:55:45.530Z"
   },
   {
    "duration": 168,
    "start_time": "2023-11-22T13:55:45.541Z"
   },
   {
    "duration": 324,
    "start_time": "2023-11-22T13:55:45.711Z"
   },
   {
    "duration": 131,
    "start_time": "2023-11-22T13:55:46.036Z"
   },
   {
    "duration": 9,
    "start_time": "2023-11-22T13:55:46.169Z"
   },
   {
    "duration": 142,
    "start_time": "2023-11-22T13:55:46.180Z"
   },
   {
    "duration": 156,
    "start_time": "2023-11-22T13:55:46.331Z"
   },
   {
    "duration": 10,
    "start_time": "2023-11-22T13:55:46.489Z"
   },
   {
    "duration": 144,
    "start_time": "2023-11-22T13:55:46.501Z"
   },
   {
    "duration": 198,
    "start_time": "2023-11-22T13:55:46.646Z"
   },
   {
    "duration": 10,
    "start_time": "2023-11-22T13:55:46.845Z"
   },
   {
    "duration": 131,
    "start_time": "2023-11-22T13:55:46.857Z"
   },
   {
    "duration": 226,
    "start_time": "2023-11-22T13:55:46.990Z"
   },
   {
    "duration": 18,
    "start_time": "2023-11-22T13:55:47.217Z"
   },
   {
    "duration": 197,
    "start_time": "2023-11-22T13:55:47.237Z"
   },
   {
    "duration": 3,
    "start_time": "2023-11-22T13:55:47.435Z"
   },
   {
    "duration": 222,
    "start_time": "2023-11-22T13:55:50.714Z"
   },
   {
    "duration": 183,
    "start_time": "2023-11-22T13:57:11.937Z"
   },
   {
    "duration": 227,
    "start_time": "2023-11-22T13:57:15.840Z"
   },
   {
    "duration": 146,
    "start_time": "2023-11-22T14:26:41.432Z"
   },
   {
    "duration": 180,
    "start_time": "2023-11-22T14:26:44.158Z"
   },
   {
    "duration": 142,
    "start_time": "2023-11-22T14:26:50.192Z"
   },
   {
    "duration": 187,
    "start_time": "2023-11-22T14:35:53.394Z"
   },
   {
    "duration": 165,
    "start_time": "2023-11-22T14:35:56.809Z"
   },
   {
    "duration": 145,
    "start_time": "2023-11-22T14:36:04.144Z"
   },
   {
    "duration": 388,
    "start_time": "2023-11-22T14:36:56.365Z"
   },
   {
    "duration": 139,
    "start_time": "2023-11-22T14:37:03.551Z"
   },
   {
    "duration": 179,
    "start_time": "2023-11-22T14:37:09.042Z"
   },
   {
    "duration": 41,
    "start_time": "2023-11-22T14:40:58.295Z"
   },
   {
    "duration": 146,
    "start_time": "2023-11-22T14:41:03.307Z"
   },
   {
    "duration": 163,
    "start_time": "2023-11-22T14:41:15.583Z"
   },
   {
    "duration": 146,
    "start_time": "2023-11-22T14:41:23.206Z"
   },
   {
    "duration": 155,
    "start_time": "2023-11-22T14:42:59.066Z"
   },
   {
    "duration": 14,
    "start_time": "2023-11-22T14:43:04.519Z"
   },
   {
    "duration": 14,
    "start_time": "2023-11-22T14:43:13.779Z"
   },
   {
    "duration": 17,
    "start_time": "2023-11-22T14:43:25.145Z"
   },
   {
    "duration": 154,
    "start_time": "2023-11-22T14:44:35.878Z"
   },
   {
    "duration": 26770,
    "start_time": "2023-11-22T14:50:11.204Z"
   },
   {
    "duration": 159,
    "start_time": "2023-11-22T14:53:21.633Z"
   },
   {
    "duration": 17,
    "start_time": "2023-11-22T14:54:23.885Z"
   },
   {
    "duration": 20848,
    "start_time": "2023-11-22T14:54:45.109Z"
   },
   {
    "duration": 195,
    "start_time": "2023-11-22T15:10:17.639Z"
   },
   {
    "duration": 18,
    "start_time": "2023-11-22T15:13:58.273Z"
   },
   {
    "duration": 17,
    "start_time": "2023-11-22T15:14:06.506Z"
   },
   {
    "duration": 24,
    "start_time": "2023-11-22T15:14:22.931Z"
   },
   {
    "duration": 151,
    "start_time": "2023-11-22T15:16:42.182Z"
   },
   {
    "duration": 24,
    "start_time": "2023-11-22T15:23:14.761Z"
   },
   {
    "duration": 1081,
    "start_time": "2023-11-22T15:24:41.501Z"
   },
   {
    "duration": 19,
    "start_time": "2023-11-22T15:24:52.356Z"
   },
   {
    "duration": 22,
    "start_time": "2023-11-22T15:27:02.148Z"
   },
   {
    "duration": 18,
    "start_time": "2023-11-22T15:27:13.779Z"
   },
   {
    "duration": 21,
    "start_time": "2023-11-22T15:32:45.994Z"
   },
   {
    "duration": 1087,
    "start_time": "2023-11-22T15:33:11.929Z"
   },
   {
    "duration": 1072,
    "start_time": "2023-11-22T15:41:59.161Z"
   },
   {
    "duration": 29,
    "start_time": "2023-11-22T15:50:06.727Z"
   },
   {
    "duration": 1050,
    "start_time": "2023-11-22T16:06:47.662Z"
   },
   {
    "duration": 159,
    "start_time": "2023-11-22T16:06:56.574Z"
   },
   {
    "duration": 138,
    "start_time": "2023-11-22T16:10:01.318Z"
   },
   {
    "duration": 117,
    "start_time": "2023-11-22T16:10:04.866Z"
   },
   {
    "duration": 141,
    "start_time": "2023-11-22T16:10:20.485Z"
   },
   {
    "duration": 10,
    "start_time": "2023-11-22T16:11:03.456Z"
   },
   {
    "duration": 12,
    "start_time": "2023-11-22T16:12:16.253Z"
   },
   {
    "duration": 3,
    "start_time": "2023-11-22T16:14:58.779Z"
   },
   {
    "duration": 17,
    "start_time": "2023-11-22T16:16:13.746Z"
   },
   {
    "duration": 9,
    "start_time": "2023-11-22T16:16:58.965Z"
   },
   {
    "duration": 6,
    "start_time": "2023-11-22T16:17:58.229Z"
   },
   {
    "duration": 9,
    "start_time": "2023-11-22T16:18:10.030Z"
   },
   {
    "duration": 11,
    "start_time": "2023-11-22T16:18:57.606Z"
   },
   {
    "duration": 100,
    "start_time": "2023-11-22T16:19:03.413Z"
   },
   {
    "duration": 8,
    "start_time": "2023-11-22T16:19:07.032Z"
   },
   {
    "duration": 9,
    "start_time": "2023-11-22T16:19:49.321Z"
   },
   {
    "duration": 8,
    "start_time": "2023-11-22T16:23:01.591Z"
   },
   {
    "duration": 7,
    "start_time": "2023-11-22T16:23:26.457Z"
   },
   {
    "duration": 6,
    "start_time": "2023-11-22T16:27:11.572Z"
   },
   {
    "duration": 154,
    "start_time": "2023-11-22T16:30:36.787Z"
   },
   {
    "duration": 1148,
    "start_time": "2023-11-22T16:31:44.991Z"
   },
   {
    "duration": 138,
    "start_time": "2023-11-22T16:31:58.959Z"
   },
   {
    "duration": 139,
    "start_time": "2023-11-22T16:32:10.217Z"
   },
   {
    "duration": 12,
    "start_time": "2023-11-22T16:32:21.071Z"
   },
   {
    "duration": 140,
    "start_time": "2023-11-22T16:32:36.271Z"
   },
   {
    "duration": 13,
    "start_time": "2023-11-22T16:33:35.334Z"
   },
   {
    "duration": 12,
    "start_time": "2023-11-22T16:34:13.353Z"
   },
   {
    "duration": 9,
    "start_time": "2023-11-22T16:39:29.976Z"
   },
   {
    "duration": 10,
    "start_time": "2023-11-22T16:43:05.174Z"
   },
   {
    "duration": 9,
    "start_time": "2023-11-22T16:43:58.151Z"
   },
   {
    "duration": 8,
    "start_time": "2023-11-22T16:44:31.846Z"
   },
   {
    "duration": 89,
    "start_time": "2023-11-22T16:45:14.423Z"
   },
   {
    "duration": 5,
    "start_time": "2023-11-22T16:45:24.236Z"
   },
   {
    "duration": 50,
    "start_time": "2023-11-22T18:39:58.147Z"
   },
   {
    "duration": 1036,
    "start_time": "2023-11-22T18:40:02.469Z"
   },
   {
    "duration": 55,
    "start_time": "2023-11-22T18:40:03.508Z"
   },
   {
    "duration": 18,
    "start_time": "2023-11-22T18:40:03.564Z"
   },
   {
    "duration": 4015,
    "start_time": "2023-11-22T18:40:03.583Z"
   },
   {
    "duration": 11,
    "start_time": "2023-11-22T18:40:07.600Z"
   },
   {
    "duration": 7,
    "start_time": "2023-11-22T18:40:07.613Z"
   },
   {
    "duration": 12,
    "start_time": "2023-11-22T18:40:07.621Z"
   },
   {
    "duration": 7,
    "start_time": "2023-11-22T18:40:07.635Z"
   },
   {
    "duration": 20,
    "start_time": "2023-11-22T18:40:07.643Z"
   },
   {
    "duration": 15,
    "start_time": "2023-11-22T18:40:07.672Z"
   },
   {
    "duration": 157,
    "start_time": "2023-11-22T18:40:07.689Z"
   },
   {
    "duration": 26,
    "start_time": "2023-11-22T18:40:07.848Z"
   },
   {
    "duration": 9,
    "start_time": "2023-11-22T18:40:07.875Z"
   },
   {
    "duration": 29,
    "start_time": "2023-11-22T18:40:07.886Z"
   },
   {
    "duration": 9,
    "start_time": "2023-11-22T18:40:07.916Z"
   },
   {
    "duration": 31,
    "start_time": "2023-11-22T18:40:07.927Z"
   },
   {
    "duration": 14,
    "start_time": "2023-11-22T18:40:07.960Z"
   },
   {
    "duration": 410,
    "start_time": "2023-11-22T18:40:07.976Z"
   },
   {
    "duration": 4,
    "start_time": "2023-11-22T18:40:08.388Z"
   },
   {
    "duration": 332,
    "start_time": "2023-11-22T18:40:08.394Z"
   },
   {
    "duration": 9,
    "start_time": "2023-11-22T18:40:08.728Z"
   },
   {
    "duration": 136,
    "start_time": "2023-11-22T18:40:08.738Z"
   },
   {
    "duration": 199,
    "start_time": "2023-11-22T18:40:08.876Z"
   },
   {
    "duration": 9,
    "start_time": "2023-11-22T18:40:09.077Z"
   },
   {
    "duration": 135,
    "start_time": "2023-11-22T18:40:09.087Z"
   },
   {
    "duration": 193,
    "start_time": "2023-11-22T18:40:09.223Z"
   },
   {
    "duration": 8,
    "start_time": "2023-11-22T18:40:09.418Z"
   },
   {
    "duration": 144,
    "start_time": "2023-11-22T18:40:09.430Z"
   },
   {
    "duration": 166,
    "start_time": "2023-11-22T18:40:09.576Z"
   },
   {
    "duration": 9,
    "start_time": "2023-11-22T18:40:09.744Z"
   },
   {
    "duration": 136,
    "start_time": "2023-11-22T18:40:09.755Z"
   },
   {
    "duration": 208,
    "start_time": "2023-11-22T18:40:09.893Z"
   },
   {
    "duration": 9,
    "start_time": "2023-11-22T18:40:10.103Z"
   },
   {
    "duration": 130,
    "start_time": "2023-11-22T18:40:10.114Z"
   },
   {
    "duration": 142,
    "start_time": "2023-11-22T18:40:10.245Z"
   },
   {
    "duration": 8,
    "start_time": "2023-11-22T18:40:10.389Z"
   },
   {
    "duration": 143,
    "start_time": "2023-11-22T18:40:10.399Z"
   },
   {
    "duration": 272,
    "start_time": "2023-11-22T18:40:10.543Z"
   },
   {
    "duration": 124,
    "start_time": "2023-11-22T18:40:10.817Z"
   },
   {
    "duration": 9,
    "start_time": "2023-11-22T18:40:10.942Z"
   },
   {
    "duration": 135,
    "start_time": "2023-11-22T18:40:10.952Z"
   },
   {
    "duration": 162,
    "start_time": "2023-11-22T18:40:11.088Z"
   },
   {
    "duration": 8,
    "start_time": "2023-11-22T18:40:11.251Z"
   },
   {
    "duration": 120,
    "start_time": "2023-11-22T18:40:11.273Z"
   },
   {
    "duration": 180,
    "start_time": "2023-11-22T18:40:11.395Z"
   },
   {
    "duration": 8,
    "start_time": "2023-11-22T18:40:11.577Z"
   },
   {
    "duration": 176,
    "start_time": "2023-11-22T18:40:11.587Z"
   },
   {
    "duration": 189,
    "start_time": "2023-11-22T18:40:11.773Z"
   },
   {
    "duration": 17,
    "start_time": "2023-11-22T18:40:11.963Z"
   },
   {
    "duration": 195,
    "start_time": "2023-11-22T18:40:11.981Z"
   },
   {
    "duration": 162,
    "start_time": "2023-11-22T18:40:12.178Z"
   },
   {
    "duration": 5,
    "start_time": "2023-11-22T18:40:12.341Z"
   },
   {
    "duration": 165,
    "start_time": "2023-11-22T18:40:19.996Z"
   },
   {
    "duration": 149,
    "start_time": "2023-11-22T18:41:45.395Z"
   },
   {
    "duration": 161,
    "start_time": "2023-11-22T18:41:51.098Z"
   },
   {
    "duration": 158,
    "start_time": "2023-11-22T18:41:55.165Z"
   },
   {
    "duration": 155,
    "start_time": "2023-11-22T18:41:59.858Z"
   },
   {
    "duration": 163,
    "start_time": "2023-11-22T18:42:26.806Z"
   },
   {
    "duration": 173,
    "start_time": "2023-11-22T18:42:53.351Z"
   },
   {
    "duration": 167,
    "start_time": "2023-11-22T18:43:01.444Z"
   },
   {
    "duration": 154,
    "start_time": "2023-11-22T18:44:05.749Z"
   },
   {
    "duration": 9,
    "start_time": "2023-11-22T18:51:18.944Z"
   },
   {
    "duration": 8,
    "start_time": "2023-11-22T18:56:55.424Z"
   },
   {
    "duration": 967,
    "start_time": "2023-11-22T18:59:25.044Z"
   },
   {
    "duration": 5,
    "start_time": "2023-11-22T18:59:43.087Z"
   },
   {
    "duration": 965,
    "start_time": "2023-11-22T19:03:57.209Z"
   },
   {
    "duration": 15,
    "start_time": "2023-11-22T19:04:10.847Z"
   },
   {
    "duration": 17,
    "start_time": "2023-11-22T19:04:56.781Z"
   },
   {
    "duration": 14,
    "start_time": "2023-11-22T19:05:11.040Z"
   },
   {
    "duration": 15,
    "start_time": "2023-11-22T19:05:27.383Z"
   },
   {
    "duration": 122,
    "start_time": "2023-11-22T19:12:49.319Z"
   },
   {
    "duration": 123,
    "start_time": "2023-11-22T19:27:20.863Z"
   },
   {
    "duration": 116,
    "start_time": "2023-11-22T19:28:17.495Z"
   },
   {
    "duration": 13,
    "start_time": "2023-11-22T19:33:12.981Z"
   },
   {
    "duration": 124,
    "start_time": "2023-11-22T19:33:27.734Z"
   },
   {
    "duration": 13,
    "start_time": "2023-11-22T19:34:53.887Z"
   },
   {
    "duration": 263,
    "start_time": "2023-11-22T19:47:44.275Z"
   },
   {
    "duration": 115,
    "start_time": "2023-11-22T20:12:51.460Z"
   },
   {
    "duration": 113,
    "start_time": "2023-11-22T20:13:55.493Z"
   },
   {
    "duration": 126,
    "start_time": "2023-11-22T20:14:19.317Z"
   },
   {
    "duration": 129,
    "start_time": "2023-11-22T20:14:50.838Z"
   },
   {
    "duration": 2,
    "start_time": "2023-11-22T20:24:35.034Z"
   },
   {
    "duration": 139,
    "start_time": "2023-11-22T20:27:44.495Z"
   },
   {
    "duration": 136,
    "start_time": "2023-11-22T20:31:08.125Z"
   },
   {
    "duration": 140,
    "start_time": "2023-11-22T20:38:25.106Z"
   },
   {
    "duration": 150,
    "start_time": "2023-11-22T20:38:39.990Z"
   },
   {
    "duration": 144,
    "start_time": "2023-11-22T20:38:48.614Z"
   },
   {
    "duration": 116,
    "start_time": "2023-11-22T20:39:15.288Z"
   },
   {
    "duration": 143,
    "start_time": "2023-11-22T20:39:51.872Z"
   },
   {
    "duration": 142,
    "start_time": "2023-11-22T20:39:57.216Z"
   },
   {
    "duration": 138,
    "start_time": "2023-11-22T20:40:04.304Z"
   },
   {
    "duration": 140,
    "start_time": "2023-11-22T20:40:09.391Z"
   },
   {
    "duration": 153,
    "start_time": "2023-11-22T20:40:17.166Z"
   },
   {
    "duration": 145,
    "start_time": "2023-11-22T20:40:33.999Z"
   },
   {
    "duration": 149,
    "start_time": "2023-11-22T20:40:40.584Z"
   },
   {
    "duration": 145,
    "start_time": "2023-11-22T20:40:51.758Z"
   },
   {
    "duration": 98,
    "start_time": "2023-11-22T20:47:35.159Z"
   },
   {
    "duration": 13,
    "start_time": "2023-11-22T20:47:39.033Z"
   },
   {
    "duration": 13,
    "start_time": "2023-11-22T20:48:37.641Z"
   },
   {
    "duration": 155,
    "start_time": "2023-11-22T21:07:54.922Z"
   },
   {
    "duration": 131,
    "start_time": "2023-11-22T21:09:47.283Z"
   },
   {
    "duration": 138,
    "start_time": "2023-11-22T21:09:51.508Z"
   },
   {
    "duration": 168,
    "start_time": "2023-11-22T21:10:11.532Z"
   },
   {
    "duration": 157,
    "start_time": "2023-11-22T21:10:16.444Z"
   },
   {
    "duration": 146,
    "start_time": "2023-11-22T21:10:21.539Z"
   },
   {
    "duration": 172,
    "start_time": "2023-11-22T21:10:24.049Z"
   },
   {
    "duration": 13,
    "start_time": "2023-11-22T21:10:51.750Z"
   },
   {
    "duration": 13,
    "start_time": "2023-11-22T21:11:13.614Z"
   },
   {
    "duration": 135,
    "start_time": "2023-11-22T21:14:03.712Z"
   },
   {
    "duration": 134,
    "start_time": "2023-11-22T21:14:51.797Z"
   },
   {
    "duration": 13,
    "start_time": "2023-11-22T21:15:46.213Z"
   },
   {
    "duration": 12,
    "start_time": "2023-11-22T21:15:54.672Z"
   },
   {
    "duration": 139,
    "start_time": "2023-11-22T21:19:08.460Z"
   },
   {
    "duration": 164,
    "start_time": "2023-11-22T21:19:19.257Z"
   },
   {
    "duration": 307,
    "start_time": "2023-11-22T21:19:24.105Z"
   },
   {
    "duration": 172,
    "start_time": "2023-11-22T21:19:29.442Z"
   },
   {
    "duration": 166,
    "start_time": "2023-11-22T21:19:35.370Z"
   },
   {
    "duration": 143,
    "start_time": "2023-11-22T21:19:41.535Z"
   },
   {
    "duration": 159,
    "start_time": "2023-11-22T21:20:08.775Z"
   },
   {
    "duration": 131,
    "start_time": "2023-11-22T21:20:15.032Z"
   },
   {
    "duration": 132,
    "start_time": "2023-11-22T21:20:21.251Z"
   },
   {
    "duration": 127,
    "start_time": "2023-11-22T21:20:50.152Z"
   },
   {
    "duration": 133,
    "start_time": "2023-11-22T21:21:00.305Z"
   },
   {
    "duration": 135,
    "start_time": "2023-11-22T21:21:06.316Z"
   },
   {
    "duration": 12,
    "start_time": "2023-11-22T21:21:14.060Z"
   },
   {
    "duration": 49,
    "start_time": "2023-11-23T09:36:47.985Z"
   },
   {
    "duration": 1134,
    "start_time": "2023-11-23T09:36:51.878Z"
   },
   {
    "duration": 42,
    "start_time": "2023-11-23T09:36:53.014Z"
   },
   {
    "duration": 15,
    "start_time": "2023-11-23T09:36:53.058Z"
   },
   {
    "duration": 3854,
    "start_time": "2023-11-23T09:36:53.075Z"
   },
   {
    "duration": 9,
    "start_time": "2023-11-23T09:36:56.931Z"
   },
   {
    "duration": 6,
    "start_time": "2023-11-23T09:36:56.942Z"
   },
   {
    "duration": 7,
    "start_time": "2023-11-23T09:36:56.950Z"
   },
   {
    "duration": 3,
    "start_time": "2023-11-23T09:36:56.959Z"
   },
   {
    "duration": 12,
    "start_time": "2023-11-23T09:36:56.964Z"
   },
   {
    "duration": 52,
    "start_time": "2023-11-23T09:36:56.979Z"
   },
   {
    "duration": 150,
    "start_time": "2023-11-23T09:36:57.034Z"
   },
   {
    "duration": 13,
    "start_time": "2023-11-23T09:36:57.185Z"
   },
   {
    "duration": 27,
    "start_time": "2023-11-23T09:36:57.200Z"
   },
   {
    "duration": 11,
    "start_time": "2023-11-23T09:36:57.229Z"
   },
   {
    "duration": 9,
    "start_time": "2023-11-23T09:36:57.241Z"
   },
   {
    "duration": 34,
    "start_time": "2023-11-23T09:36:57.251Z"
   },
   {
    "duration": 6,
    "start_time": "2023-11-23T09:36:57.286Z"
   },
   {
    "duration": 422,
    "start_time": "2023-11-23T09:36:57.293Z"
   },
   {
    "duration": 7,
    "start_time": "2023-11-23T09:36:57.716Z"
   },
   {
    "duration": 301,
    "start_time": "2023-11-23T09:36:57.725Z"
   },
   {
    "duration": 9,
    "start_time": "2023-11-23T09:36:58.027Z"
   },
   {
    "duration": 133,
    "start_time": "2023-11-23T09:36:58.037Z"
   },
   {
    "duration": 198,
    "start_time": "2023-11-23T09:36:58.172Z"
   },
   {
    "duration": 8,
    "start_time": "2023-11-23T09:36:58.372Z"
   },
   {
    "duration": 126,
    "start_time": "2023-11-23T09:36:58.382Z"
   },
   {
    "duration": 184,
    "start_time": "2023-11-23T09:36:58.510Z"
   },
   {
    "duration": 8,
    "start_time": "2023-11-23T09:36:58.696Z"
   },
   {
    "duration": 129,
    "start_time": "2023-11-23T09:36:58.723Z"
   },
   {
    "duration": 168,
    "start_time": "2023-11-23T09:36:58.854Z"
   },
   {
    "duration": 10,
    "start_time": "2023-11-23T09:36:59.024Z"
   },
   {
    "duration": 141,
    "start_time": "2023-11-23T09:36:59.036Z"
   },
   {
    "duration": 194,
    "start_time": "2023-11-23T09:36:59.179Z"
   },
   {
    "duration": 9,
    "start_time": "2023-11-23T09:36:59.375Z"
   },
   {
    "duration": 143,
    "start_time": "2023-11-23T09:36:59.386Z"
   },
   {
    "duration": 146,
    "start_time": "2023-11-23T09:36:59.531Z"
   },
   {
    "duration": 9,
    "start_time": "2023-11-23T09:36:59.679Z"
   },
   {
    "duration": 149,
    "start_time": "2023-11-23T09:36:59.690Z"
   },
   {
    "duration": 284,
    "start_time": "2023-11-23T09:36:59.841Z"
   },
   {
    "duration": 128,
    "start_time": "2023-11-23T09:37:00.127Z"
   },
   {
    "duration": 9,
    "start_time": "2023-11-23T09:37:00.256Z"
   },
   {
    "duration": 136,
    "start_time": "2023-11-23T09:37:00.267Z"
   },
   {
    "duration": 148,
    "start_time": "2023-11-23T09:37:00.404Z"
   },
   {
    "duration": 10,
    "start_time": "2023-11-23T09:37:00.554Z"
   },
   {
    "duration": 151,
    "start_time": "2023-11-23T09:37:00.565Z"
   },
   {
    "duration": 196,
    "start_time": "2023-11-23T09:37:00.718Z"
   },
   {
    "duration": 11,
    "start_time": "2023-11-23T09:37:00.915Z"
   },
   {
    "duration": 148,
    "start_time": "2023-11-23T09:37:00.927Z"
   },
   {
    "duration": 199,
    "start_time": "2023-11-23T09:37:01.076Z"
   },
   {
    "duration": 9,
    "start_time": "2023-11-23T09:37:01.277Z"
   },
   {
    "duration": 246,
    "start_time": "2023-11-23T09:37:01.288Z"
   },
   {
    "duration": 175,
    "start_time": "2023-11-23T09:37:01.535Z"
   },
   {
    "duration": 11,
    "start_time": "2023-11-23T09:37:01.712Z"
   },
   {
    "duration": 207,
    "start_time": "2023-11-23T09:37:01.724Z"
   },
   {
    "duration": 5,
    "start_time": "2023-11-23T09:37:01.933Z"
   },
   {
    "duration": 207,
    "start_time": "2023-11-23T09:37:01.940Z"
   },
   {
    "duration": 78,
    "start_time": "2023-11-23T09:37:02.148Z"
   },
   {
    "duration": 207,
    "start_time": "2023-11-23T09:37:02.228Z"
   },
   {
    "duration": 145,
    "start_time": "2023-11-23T09:37:02.437Z"
   },
   {
    "duration": 152,
    "start_time": "2023-11-23T09:37:02.583Z"
   },
   {
    "duration": 158,
    "start_time": "2023-11-23T09:37:02.737Z"
   },
   {
    "duration": 179,
    "start_time": "2023-11-23T09:37:02.897Z"
   },
   {
    "duration": 186,
    "start_time": "2023-11-23T09:37:03.078Z"
   },
   {
    "duration": 163,
    "start_time": "2023-11-23T09:37:03.266Z"
   },
   {
    "duration": 59,
    "start_time": "2023-11-23T09:37:21.909Z"
   },
   {
    "duration": 26,
    "start_time": "2023-11-23T09:37:39.745Z"
   },
   {
    "duration": 20,
    "start_time": "2023-11-23T09:42:41.982Z"
   },
   {
    "duration": 27,
    "start_time": "2023-11-23T09:42:47.181Z"
   },
   {
    "duration": 28,
    "start_time": "2023-11-23T09:43:04.995Z"
   },
   {
    "duration": 27,
    "start_time": "2023-11-23T09:43:12.321Z"
   },
   {
    "duration": 26,
    "start_time": "2023-11-23T09:43:21.417Z"
   },
   {
    "duration": 27,
    "start_time": "2023-11-23T09:43:38.952Z"
   },
   {
    "duration": 28,
    "start_time": "2023-11-23T09:44:42.491Z"
   },
   {
    "duration": 16,
    "start_time": "2023-11-23T09:57:48.569Z"
   },
   {
    "duration": 21,
    "start_time": "2023-11-23T09:57:53.570Z"
   },
   {
    "duration": 22,
    "start_time": "2023-11-23T10:02:23.673Z"
   },
   {
    "duration": 23,
    "start_time": "2023-11-23T10:24:40.398Z"
   },
   {
    "duration": 23,
    "start_time": "2023-11-23T10:25:26.766Z"
   },
   {
    "duration": 23,
    "start_time": "2023-11-23T10:25:31.014Z"
   },
   {
    "duration": 23,
    "start_time": "2023-11-23T10:25:34.835Z"
   },
   {
    "duration": 23,
    "start_time": "2023-11-23T10:29:00.150Z"
   },
   {
    "duration": 23,
    "start_time": "2023-11-23T10:29:18.292Z"
   },
   {
    "duration": 23,
    "start_time": "2023-11-23T10:32:22.534Z"
   },
   {
    "duration": 175,
    "start_time": "2023-11-23T10:45:03.408Z"
   },
   {
    "duration": 22,
    "start_time": "2023-11-23T10:46:03.296Z"
   },
   {
    "duration": 23,
    "start_time": "2023-11-23T10:46:19.778Z"
   },
   {
    "duration": 25,
    "start_time": "2023-11-23T10:46:30.756Z"
   },
   {
    "duration": 24,
    "start_time": "2023-11-23T10:53:34.146Z"
   },
   {
    "duration": 47,
    "start_time": "2023-11-23T14:32:02.846Z"
   },
   {
    "duration": 1134,
    "start_time": "2023-11-23T14:32:06.340Z"
   },
   {
    "duration": 43,
    "start_time": "2023-11-23T14:32:07.477Z"
   },
   {
    "duration": 17,
    "start_time": "2023-11-23T14:32:07.522Z"
   },
   {
    "duration": 3832,
    "start_time": "2023-11-23T14:32:07.541Z"
   },
   {
    "duration": 10,
    "start_time": "2023-11-23T14:32:11.375Z"
   },
   {
    "duration": 37,
    "start_time": "2023-11-23T14:32:11.386Z"
   },
   {
    "duration": 17,
    "start_time": "2023-11-23T14:32:11.424Z"
   },
   {
    "duration": 5,
    "start_time": "2023-11-23T14:32:11.443Z"
   },
   {
    "duration": 12,
    "start_time": "2023-11-23T14:32:11.449Z"
   },
   {
    "duration": 17,
    "start_time": "2023-11-23T14:32:11.465Z"
   },
   {
    "duration": 173,
    "start_time": "2023-11-23T14:32:11.484Z"
   },
   {
    "duration": 11,
    "start_time": "2023-11-23T14:32:11.659Z"
   },
   {
    "duration": 10,
    "start_time": "2023-11-23T14:32:11.672Z"
   },
   {
    "duration": 12,
    "start_time": "2023-11-23T14:32:11.684Z"
   },
   {
    "duration": 25,
    "start_time": "2023-11-23T14:32:11.697Z"
   },
   {
    "duration": 23,
    "start_time": "2023-11-23T14:32:11.724Z"
   },
   {
    "duration": 6,
    "start_time": "2023-11-23T14:32:11.749Z"
   },
   {
    "duration": 399,
    "start_time": "2023-11-23T14:32:11.756Z"
   },
   {
    "duration": 4,
    "start_time": "2023-11-23T14:32:12.157Z"
   },
   {
    "duration": 302,
    "start_time": "2023-11-23T14:32:12.163Z"
   },
   {
    "duration": 8,
    "start_time": "2023-11-23T14:32:12.466Z"
   },
   {
    "duration": 124,
    "start_time": "2023-11-23T14:32:12.475Z"
   },
   {
    "duration": 205,
    "start_time": "2023-11-23T14:32:12.600Z"
   },
   {
    "duration": 16,
    "start_time": "2023-11-23T14:32:12.807Z"
   },
   {
    "duration": 127,
    "start_time": "2023-11-23T14:32:12.824Z"
   },
   {
    "duration": 184,
    "start_time": "2023-11-23T14:32:12.953Z"
   },
   {
    "duration": 9,
    "start_time": "2023-11-23T14:32:13.138Z"
   },
   {
    "duration": 133,
    "start_time": "2023-11-23T14:32:13.150Z"
   },
   {
    "duration": 162,
    "start_time": "2023-11-23T14:32:13.285Z"
   },
   {
    "duration": 8,
    "start_time": "2023-11-23T14:32:13.449Z"
   },
   {
    "duration": 130,
    "start_time": "2023-11-23T14:32:13.459Z"
   },
   {
    "duration": 194,
    "start_time": "2023-11-23T14:32:13.591Z"
   },
   {
    "duration": 8,
    "start_time": "2023-11-23T14:32:13.787Z"
   },
   {
    "duration": 137,
    "start_time": "2023-11-23T14:32:13.796Z"
   },
   {
    "duration": 143,
    "start_time": "2023-11-23T14:32:13.935Z"
   },
   {
    "duration": 9,
    "start_time": "2023-11-23T14:32:14.079Z"
   },
   {
    "duration": 145,
    "start_time": "2023-11-23T14:32:14.089Z"
   },
   {
    "duration": 283,
    "start_time": "2023-11-23T14:32:14.236Z"
   },
   {
    "duration": 117,
    "start_time": "2023-11-23T14:32:14.521Z"
   },
   {
    "duration": 8,
    "start_time": "2023-11-23T14:32:14.640Z"
   },
   {
    "duration": 127,
    "start_time": "2023-11-23T14:32:14.650Z"
   },
   {
    "duration": 165,
    "start_time": "2023-11-23T14:32:14.779Z"
   },
   {
    "duration": 9,
    "start_time": "2023-11-23T14:32:14.946Z"
   },
   {
    "duration": 130,
    "start_time": "2023-11-23T14:32:14.956Z"
   },
   {
    "duration": 175,
    "start_time": "2023-11-23T14:32:15.088Z"
   },
   {
    "duration": 10,
    "start_time": "2023-11-23T14:32:15.265Z"
   },
   {
    "duration": 149,
    "start_time": "2023-11-23T14:32:15.277Z"
   },
   {
    "duration": 194,
    "start_time": "2023-11-23T14:32:15.428Z"
   },
   {
    "duration": 10,
    "start_time": "2023-11-23T14:32:15.624Z"
   },
   {
    "duration": 193,
    "start_time": "2023-11-23T14:32:15.636Z"
   },
   {
    "duration": 159,
    "start_time": "2023-11-23T14:32:15.831Z"
   },
   {
    "duration": 5,
    "start_time": "2023-11-23T14:32:15.991Z"
   },
   {
    "duration": 175,
    "start_time": "2023-11-23T14:32:15.998Z"
   },
   {
    "duration": 5,
    "start_time": "2023-11-23T14:32:16.175Z"
   },
   {
    "duration": 162,
    "start_time": "2023-11-23T14:32:16.182Z"
   },
   {
    "duration": 4,
    "start_time": "2023-11-23T14:32:16.346Z"
   },
   {
    "duration": 179,
    "start_time": "2023-11-23T14:32:16.351Z"
   },
   {
    "duration": 131,
    "start_time": "2023-11-23T14:32:16.531Z"
   },
   {
    "duration": 143,
    "start_time": "2023-11-23T14:32:16.663Z"
   },
   {
    "duration": 140,
    "start_time": "2023-11-23T14:32:16.808Z"
   },
   {
    "duration": 174,
    "start_time": "2023-11-23T14:32:16.950Z"
   },
   {
    "duration": 168,
    "start_time": "2023-11-23T14:32:17.125Z"
   },
   {
    "duration": 152,
    "start_time": "2023-11-23T14:32:17.295Z"
   },
   {
    "duration": 25,
    "start_time": "2023-11-23T14:32:17.449Z"
   },
   {
    "duration": 9,
    "start_time": "2023-11-23T14:32:28.353Z"
   },
   {
    "duration": 44,
    "start_time": "2023-11-23T14:33:55.940Z"
   },
   {
    "duration": 276,
    "start_time": "2023-11-23T15:24:18.042Z"
   },
   {
    "duration": 287,
    "start_time": "2023-11-23T15:24:38.752Z"
   },
   {
    "duration": 46,
    "start_time": "2023-11-23T16:17:03.035Z"
   },
   {
    "duration": 36,
    "start_time": "2023-11-23T16:17:09.783Z"
   },
   {
    "duration": 30,
    "start_time": "2023-11-23T16:18:53.250Z"
   },
   {
    "duration": 15,
    "start_time": "2023-11-23T16:19:00.360Z"
   },
   {
    "duration": 28,
    "start_time": "2023-11-23T16:19:07.654Z"
   },
   {
    "duration": 8,
    "start_time": "2023-11-23T16:19:16.022Z"
   },
   {
    "duration": 38,
    "start_time": "2023-11-23T16:19:35.093Z"
   },
   {
    "duration": 182,
    "start_time": "2023-11-23T16:20:16.495Z"
   },
   {
    "duration": 173,
    "start_time": "2023-11-23T17:38:28.213Z"
   },
   {
    "duration": 178,
    "start_time": "2023-11-23T17:38:48.245Z"
   },
   {
    "duration": 173,
    "start_time": "2023-11-23T17:45:07.371Z"
   },
   {
    "duration": 175,
    "start_time": "2023-11-23T17:45:18.574Z"
   },
   {
    "duration": 781,
    "start_time": "2023-11-23T20:26:32.769Z"
   },
   {
    "duration": 50,
    "start_time": "2023-11-23T20:26:33.552Z"
   },
   {
    "duration": 27,
    "start_time": "2023-11-23T20:26:33.604Z"
   },
   {
    "duration": 4168,
    "start_time": "2023-11-23T20:26:33.633Z"
   },
   {
    "duration": 11,
    "start_time": "2023-11-23T20:26:37.802Z"
   },
   {
    "duration": 12,
    "start_time": "2023-11-23T20:26:37.815Z"
   },
   {
    "duration": 9,
    "start_time": "2023-11-23T20:26:37.829Z"
   },
   {
    "duration": 4,
    "start_time": "2023-11-23T20:26:37.840Z"
   },
   {
    "duration": 31,
    "start_time": "2023-11-23T20:26:37.846Z"
   },
   {
    "duration": 17,
    "start_time": "2023-11-23T20:26:37.880Z"
   },
   {
    "duration": 192,
    "start_time": "2023-11-23T20:26:37.900Z"
   },
   {
    "duration": 12,
    "start_time": "2023-11-23T20:26:38.094Z"
   },
   {
    "duration": 15,
    "start_time": "2023-11-23T20:26:38.108Z"
   },
   {
    "duration": 10,
    "start_time": "2023-11-23T20:26:38.125Z"
   },
   {
    "duration": 9,
    "start_time": "2023-11-23T20:26:38.136Z"
   },
   {
    "duration": 49,
    "start_time": "2023-11-23T20:26:38.147Z"
   },
   {
    "duration": 6,
    "start_time": "2023-11-23T20:26:38.198Z"
   },
   {
    "duration": 443,
    "start_time": "2023-11-23T20:26:38.206Z"
   },
   {
    "duration": 5,
    "start_time": "2023-11-23T20:26:38.651Z"
   },
   {
    "duration": 327,
    "start_time": "2023-11-23T20:26:38.658Z"
   },
   {
    "duration": 8,
    "start_time": "2023-11-23T20:26:38.987Z"
   },
   {
    "duration": 137,
    "start_time": "2023-11-23T20:26:38.997Z"
   },
   {
    "duration": 212,
    "start_time": "2023-11-23T20:26:39.136Z"
   },
   {
    "duration": 9,
    "start_time": "2023-11-23T20:26:39.350Z"
   },
   {
    "duration": 142,
    "start_time": "2023-11-23T20:26:39.361Z"
   },
   {
    "duration": 197,
    "start_time": "2023-11-23T20:26:39.504Z"
   },
   {
    "duration": 9,
    "start_time": "2023-11-23T20:26:39.703Z"
   },
   {
    "duration": 140,
    "start_time": "2023-11-23T20:26:39.717Z"
   },
   {
    "duration": 182,
    "start_time": "2023-11-23T20:26:39.859Z"
   },
   {
    "duration": 10,
    "start_time": "2023-11-23T20:26:40.042Z"
   },
   {
    "duration": 144,
    "start_time": "2023-11-23T20:26:40.053Z"
   },
   {
    "duration": 218,
    "start_time": "2023-11-23T20:26:40.198Z"
   },
   {
    "duration": 10,
    "start_time": "2023-11-23T20:26:40.418Z"
   },
   {
    "duration": 180,
    "start_time": "2023-11-23T20:26:40.429Z"
   },
   {
    "duration": 155,
    "start_time": "2023-11-23T20:26:40.611Z"
   },
   {
    "duration": 14,
    "start_time": "2023-11-23T20:26:40.768Z"
   },
   {
    "duration": 150,
    "start_time": "2023-11-23T20:26:40.784Z"
   },
   {
    "duration": 303,
    "start_time": "2023-11-23T20:26:40.936Z"
   },
   {
    "duration": 134,
    "start_time": "2023-11-23T20:26:41.241Z"
   },
   {
    "duration": 9,
    "start_time": "2023-11-23T20:26:41.377Z"
   },
   {
    "duration": 148,
    "start_time": "2023-11-23T20:26:41.388Z"
   },
   {
    "duration": 157,
    "start_time": "2023-11-23T20:26:41.538Z"
   },
   {
    "duration": 11,
    "start_time": "2023-11-23T20:26:41.697Z"
   },
   {
    "duration": 135,
    "start_time": "2023-11-23T20:26:41.709Z"
   },
   {
    "duration": 207,
    "start_time": "2023-11-23T20:26:41.847Z"
   },
   {
    "duration": 24,
    "start_time": "2023-11-23T20:26:42.056Z"
   },
   {
    "duration": 123,
    "start_time": "2023-11-23T20:26:42.082Z"
   },
   {
    "duration": 205,
    "start_time": "2023-11-23T20:26:42.206Z"
   },
   {
    "duration": 10,
    "start_time": "2023-11-23T20:26:42.413Z"
   },
   {
    "duration": 205,
    "start_time": "2023-11-23T20:26:42.425Z"
   },
   {
    "duration": 172,
    "start_time": "2023-11-23T20:26:42.632Z"
   },
   {
    "duration": 5,
    "start_time": "2023-11-23T20:26:42.806Z"
   },
   {
    "duration": 183,
    "start_time": "2023-11-23T20:26:42.812Z"
   },
   {
    "duration": 6,
    "start_time": "2023-11-23T20:26:42.997Z"
   },
   {
    "duration": 174,
    "start_time": "2023-11-23T20:26:43.005Z"
   },
   {
    "duration": 5,
    "start_time": "2023-11-23T20:26:43.181Z"
   },
   {
    "duration": 182,
    "start_time": "2023-11-23T20:26:43.188Z"
   },
   {
    "duration": 151,
    "start_time": "2023-11-23T20:26:43.371Z"
   },
   {
    "duration": 160,
    "start_time": "2023-11-23T20:26:43.523Z"
   },
   {
    "duration": 163,
    "start_time": "2023-11-23T20:26:43.685Z"
   },
   {
    "duration": 226,
    "start_time": "2023-11-23T20:26:43.850Z"
   },
   {
    "duration": 191,
    "start_time": "2023-11-23T20:26:44.078Z"
   },
   {
    "duration": 170,
    "start_time": "2023-11-23T20:26:44.271Z"
   },
   {
    "duration": 34,
    "start_time": "2023-11-23T20:26:44.443Z"
   },
   {
    "duration": 332,
    "start_time": "2023-11-23T20:26:44.479Z"
   },
   {
    "duration": 11,
    "start_time": "2023-11-23T20:28:28.028Z"
   },
   {
    "duration": 255,
    "start_time": "2023-11-23T20:33:08.471Z"
   },
   {
    "duration": 974,
    "start_time": "2023-11-24T09:11:11.365Z"
   },
   {
    "duration": 311,
    "start_time": "2023-11-24T09:11:12.341Z"
   },
   {
    "duration": 50,
    "start_time": "2023-11-24T09:11:21.063Z"
   },
   {
    "duration": 19,
    "start_time": "2023-11-24T09:12:40.559Z"
   },
   {
    "duration": 3718,
    "start_time": "2023-11-24T09:13:15.462Z"
   },
   {
    "duration": 3969,
    "start_time": "2023-11-24T09:13:36.232Z"
   },
   {
    "duration": 3977,
    "start_time": "2023-11-24T09:14:24.758Z"
   },
   {
    "duration": 9,
    "start_time": "2023-11-24T09:14:36.725Z"
   },
   {
    "duration": 7,
    "start_time": "2023-11-24T09:14:37.661Z"
   },
   {
    "duration": 6,
    "start_time": "2023-11-24T09:14:40.027Z"
   },
   {
    "duration": 4,
    "start_time": "2023-11-24T09:14:41.674Z"
   },
   {
    "duration": 12,
    "start_time": "2023-11-24T09:14:43.762Z"
   },
   {
    "duration": 15,
    "start_time": "2023-11-24T09:14:46.716Z"
   },
   {
    "duration": 42,
    "start_time": "2023-11-24T09:14:51.975Z"
   },
   {
    "duration": 12,
    "start_time": "2023-11-24T09:14:56.613Z"
   },
   {
    "duration": 10,
    "start_time": "2023-11-24T09:14:58.453Z"
   },
   {
    "duration": 10,
    "start_time": "2023-11-24T09:15:08.183Z"
   },
   {
    "duration": 8,
    "start_time": "2023-11-24T09:15:11.034Z"
   },
   {
    "duration": 21,
    "start_time": "2023-11-24T09:15:12.164Z"
   },
   {
    "duration": 6,
    "start_time": "2023-11-24T09:15:14.983Z"
   },
   {
    "duration": 380,
    "start_time": "2023-11-24T09:15:19.258Z"
   },
   {
    "duration": 6,
    "start_time": "2023-11-24T09:15:20.265Z"
   },
   {
    "duration": 301,
    "start_time": "2023-11-24T09:15:25.213Z"
   },
   {
    "duration": 8,
    "start_time": "2023-11-24T09:15:29.850Z"
   },
   {
    "duration": 113,
    "start_time": "2023-11-24T09:16:35.214Z"
   },
   {
    "duration": 186,
    "start_time": "2023-11-24T09:16:35.534Z"
   },
   {
    "duration": 9,
    "start_time": "2023-11-24T09:16:38.319Z"
   },
   {
    "duration": 112,
    "start_time": "2023-11-24T09:16:40.113Z"
   },
   {
    "duration": 163,
    "start_time": "2023-11-24T09:16:40.632Z"
   },
   {
    "duration": 9,
    "start_time": "2023-11-24T09:16:42.926Z"
   },
   {
    "duration": 391,
    "start_time": "2023-11-24T09:16:43.320Z"
   },
   {
    "duration": 156,
    "start_time": "2023-11-24T09:16:43.866Z"
   },
   {
    "duration": 8,
    "start_time": "2023-11-24T09:16:46.999Z"
   },
   {
    "duration": 109,
    "start_time": "2023-11-24T09:16:47.503Z"
   },
   {
    "duration": 182,
    "start_time": "2023-11-24T09:16:49.040Z"
   },
   {
    "duration": 169,
    "start_time": "2023-11-24T09:18:17.262Z"
   },
   {
    "duration": 169,
    "start_time": "2023-11-24T09:18:26.403Z"
   },
   {
    "duration": 88,
    "start_time": "2023-11-24T09:19:21.850Z"
   },
   {
    "duration": 207,
    "start_time": "2023-11-24T09:19:35.645Z"
   },
   {
    "duration": 188,
    "start_time": "2023-11-24T09:27:27.659Z"
   },
   {
    "duration": 8,
    "start_time": "2023-11-24T09:27:33.139Z"
   },
   {
    "duration": 109,
    "start_time": "2023-11-24T09:27:33.373Z"
   },
   {
    "duration": 125,
    "start_time": "2023-11-24T09:27:35.473Z"
   },
   {
    "duration": 9,
    "start_time": "2023-11-24T09:27:37.528Z"
   },
   {
    "duration": 118,
    "start_time": "2023-11-24T09:27:38.206Z"
   },
   {
    "duration": 132,
    "start_time": "2023-11-24T09:27:41.145Z"
   },
   {
    "duration": 107,
    "start_time": "2023-11-24T09:27:42.670Z"
   },
   {
    "duration": 9,
    "start_time": "2023-11-24T09:27:43.987Z"
   },
   {
    "duration": 102,
    "start_time": "2023-11-24T09:27:48.332Z"
   },
   {
    "duration": 125,
    "start_time": "2023-11-24T09:27:49.040Z"
   },
   {
    "duration": 9,
    "start_time": "2023-11-24T09:27:51.778Z"
   },
   {
    "duration": 107,
    "start_time": "2023-11-24T09:27:52.317Z"
   },
   {
    "duration": 152,
    "start_time": "2023-11-24T09:27:56.508Z"
   },
   {
    "duration": 9,
    "start_time": "2023-11-24T09:27:59.997Z"
   },
   {
    "duration": 244,
    "start_time": "2023-11-24T09:28:00.303Z"
   },
   {
    "duration": 160,
    "start_time": "2023-11-24T09:28:01.318Z"
   },
   {
    "duration": 15,
    "start_time": "2023-11-24T10:56:40.438Z"
   },
   {
    "duration": 13,
    "start_time": "2023-11-24T10:57:14.119Z"
   },
   {
    "duration": 12,
    "start_time": "2023-11-24T10:57:46.373Z"
   },
   {
    "duration": 12,
    "start_time": "2023-11-24T10:59:30.952Z"
   },
   {
    "duration": 11,
    "start_time": "2023-11-24T10:59:55.420Z"
   },
   {
    "duration": 12,
    "start_time": "2023-11-24T11:00:34.511Z"
   },
   {
    "duration": 170,
    "start_time": "2023-11-24T11:01:35.500Z"
   },
   {
    "duration": 135,
    "start_time": "2023-11-24T11:02:56.123Z"
   },
   {
    "duration": 139,
    "start_time": "2023-11-24T11:03:09.048Z"
   },
   {
    "duration": 5,
    "start_time": "2023-11-24T11:03:27.482Z"
   },
   {
    "duration": 130,
    "start_time": "2023-11-24T11:03:38.174Z"
   },
   {
    "duration": 4,
    "start_time": "2023-11-24T11:04:27.128Z"
   },
   {
    "duration": 150,
    "start_time": "2023-11-24T11:04:31.270Z"
   },
   {
    "duration": 5,
    "start_time": "2023-11-24T11:04:32.956Z"
   },
   {
    "duration": 132,
    "start_time": "2023-11-24T11:05:41.156Z"
   },
   {
    "duration": 5,
    "start_time": "2023-11-24T11:05:53.282Z"
   },
   {
    "duration": 5,
    "start_time": "2023-11-24T11:06:09.151Z"
   },
   {
    "duration": 132,
    "start_time": "2023-11-24T11:06:16.504Z"
   },
   {
    "duration": 6,
    "start_time": "2023-11-24T11:06:49.559Z"
   },
   {
    "duration": 146,
    "start_time": "2023-11-24T11:06:58.042Z"
   },
   {
    "duration": 152,
    "start_time": "2023-11-24T11:07:06.545Z"
   },
   {
    "duration": 145,
    "start_time": "2023-11-24T11:07:10.131Z"
   },
   {
    "duration": 148,
    "start_time": "2023-11-24T11:07:18.104Z"
   },
   {
    "duration": 150,
    "start_time": "2023-11-24T11:07:24.843Z"
   },
   {
    "duration": 5,
    "start_time": "2023-11-24T11:07:32.192Z"
   },
   {
    "duration": 135,
    "start_time": "2023-11-24T11:08:01.939Z"
   },
   {
    "duration": 6,
    "start_time": "2023-11-24T11:08:13.511Z"
   },
   {
    "duration": 136,
    "start_time": "2023-11-24T11:08:51.675Z"
   },
   {
    "duration": 6,
    "start_time": "2023-11-24T11:08:56.029Z"
   },
   {
    "duration": 135,
    "start_time": "2023-11-24T11:09:20.422Z"
   },
   {
    "duration": 143,
    "start_time": "2023-11-24T11:09:25.054Z"
   },
   {
    "duration": 5,
    "start_time": "2023-11-24T11:09:28.510Z"
   },
   {
    "duration": 141,
    "start_time": "2023-11-24T11:09:39.570Z"
   },
   {
    "duration": 5,
    "start_time": "2023-11-24T11:09:42.400Z"
   },
   {
    "duration": 4,
    "start_time": "2023-11-24T11:11:06.141Z"
   },
   {
    "duration": 143,
    "start_time": "2023-11-24T11:11:08.330Z"
   },
   {
    "duration": 5,
    "start_time": "2023-11-24T11:11:12.149Z"
   },
   {
    "duration": 129,
    "start_time": "2023-11-24T11:11:37.261Z"
   },
   {
    "duration": 113,
    "start_time": "2023-11-24T11:13:25.236Z"
   },
   {
    "duration": 130,
    "start_time": "2023-11-24T11:13:52.781Z"
   },
   {
    "duration": 126,
    "start_time": "2023-11-24T11:14:04.323Z"
   },
   {
    "duration": 155,
    "start_time": "2023-11-24T11:14:39.143Z"
   },
   {
    "duration": 151,
    "start_time": "2023-11-24T11:14:46.132Z"
   },
   {
    "duration": 144,
    "start_time": "2023-11-24T11:14:52.617Z"
   },
   {
    "duration": 335,
    "start_time": "2023-11-24T11:14:56.575Z"
   },
   {
    "duration": 17,
    "start_time": "2023-11-24T11:15:13.539Z"
   },
   {
    "duration": 126,
    "start_time": "2023-11-24T11:16:46.158Z"
   },
   {
    "duration": 12,
    "start_time": "2023-11-24T11:17:35.300Z"
   },
   {
    "duration": 22,
    "start_time": "2023-11-24T11:25:09.234Z"
   },
   {
    "duration": 273,
    "start_time": "2023-11-24T11:25:35.011Z"
   },
   {
    "duration": 282,
    "start_time": "2023-11-24T11:26:18.612Z"
   },
   {
    "duration": 278,
    "start_time": "2023-11-24T11:26:22.813Z"
   },
   {
    "duration": 15,
    "start_time": "2023-11-24T11:48:09.615Z"
   },
   {
    "duration": 158,
    "start_time": "2023-11-24T11:59:01.011Z"
   },
   {
    "duration": 87,
    "start_time": "2023-11-24T11:59:04.837Z"
   },
   {
    "duration": 12,
    "start_time": "2023-11-24T12:14:32.891Z"
   },
   {
    "duration": 9,
    "start_time": "2023-11-24T12:15:41.529Z"
   },
   {
    "duration": 10,
    "start_time": "2023-11-24T12:15:43.231Z"
   },
   {
    "duration": 9,
    "start_time": "2023-11-24T12:30:27.920Z"
   },
   {
    "duration": 178,
    "start_time": "2023-11-24T12:32:31.352Z"
   },
   {
    "duration": 151,
    "start_time": "2023-11-24T12:33:40.790Z"
   },
   {
    "duration": 161,
    "start_time": "2023-11-24T12:34:35.545Z"
   },
   {
    "duration": 97,
    "start_time": "2023-11-24T12:42:47.473Z"
   },
   {
    "duration": 120,
    "start_time": "2023-11-24T12:42:53.368Z"
   },
   {
    "duration": 129,
    "start_time": "2023-11-24T12:43:04.939Z"
   },
   {
    "duration": 10,
    "start_time": "2023-11-24T12:43:30.309Z"
   },
   {
    "duration": 10,
    "start_time": "2023-11-24T13:23:25.036Z"
   },
   {
    "duration": 8,
    "start_time": "2023-11-24T13:23:31.919Z"
   },
   {
    "duration": 8,
    "start_time": "2023-11-24T13:23:46.556Z"
   },
   {
    "duration": 5,
    "start_time": "2023-11-24T13:24:11.034Z"
   },
   {
    "duration": 152,
    "start_time": "2023-11-24T13:25:33.035Z"
   },
   {
    "duration": 153,
    "start_time": "2023-11-24T13:25:53.706Z"
   },
   {
    "duration": 155,
    "start_time": "2023-11-24T13:25:56.108Z"
   },
   {
    "duration": 137,
    "start_time": "2023-11-24T13:26:27.123Z"
   },
   {
    "duration": 163,
    "start_time": "2023-11-24T13:26:33.517Z"
   },
   {
    "duration": 131,
    "start_time": "2023-11-24T13:26:39.767Z"
   },
   {
    "duration": 130,
    "start_time": "2023-11-24T13:26:51.006Z"
   },
   {
    "duration": 125,
    "start_time": "2023-11-24T13:26:54.105Z"
   },
   {
    "duration": 128,
    "start_time": "2023-11-24T13:26:58.552Z"
   },
   {
    "duration": 131,
    "start_time": "2023-11-24T13:28:19.963Z"
   },
   {
    "duration": 134,
    "start_time": "2023-11-24T13:28:25.861Z"
   },
   {
    "duration": 10,
    "start_time": "2023-11-24T13:43:36.749Z"
   },
   {
    "duration": 9,
    "start_time": "2023-11-24T13:43:44.164Z"
   },
   {
    "duration": 5,
    "start_time": "2023-11-24T13:46:28.218Z"
   },
   {
    "duration": 141,
    "start_time": "2023-11-24T13:47:15.203Z"
   },
   {
    "duration": 118,
    "start_time": "2023-11-24T13:56:50.803Z"
   },
   {
    "duration": 134,
    "start_time": "2023-11-24T13:56:57.733Z"
   },
   {
    "duration": 146,
    "start_time": "2023-11-24T14:01:15.276Z"
   },
   {
    "duration": 128,
    "start_time": "2023-11-24T14:01:33.105Z"
   },
   {
    "duration": 137,
    "start_time": "2023-11-24T14:01:54.343Z"
   },
   {
    "duration": 361,
    "start_time": "2023-11-24T14:02:00.406Z"
   },
   {
    "duration": 8,
    "start_time": "2023-11-24T14:02:11.144Z"
   },
   {
    "duration": 9,
    "start_time": "2023-11-24T14:02:17.526Z"
   },
   {
    "duration": 5,
    "start_time": "2023-11-24T14:02:44.744Z"
   },
   {
    "duration": 218,
    "start_time": "2023-11-24T14:03:57.768Z"
   },
   {
    "duration": 145,
    "start_time": "2023-11-24T14:04:05.077Z"
   },
   {
    "duration": 126,
    "start_time": "2023-11-24T14:04:15.005Z"
   },
   {
    "duration": 12,
    "start_time": "2023-11-24T14:04:36.002Z"
   },
   {
    "duration": 121,
    "start_time": "2023-11-24T14:05:50.763Z"
   },
   {
    "duration": 14,
    "start_time": "2023-11-24T14:06:20.606Z"
   },
   {
    "duration": 126,
    "start_time": "2023-11-24T14:07:33.911Z"
   },
   {
    "duration": 128,
    "start_time": "2023-11-24T14:07:42.055Z"
   },
   {
    "duration": 147,
    "start_time": "2023-11-24T14:07:49.903Z"
   },
   {
    "duration": 12,
    "start_time": "2023-11-24T14:08:10.206Z"
   },
   {
    "duration": 156,
    "start_time": "2023-11-24T14:13:35.069Z"
   },
   {
    "duration": 145,
    "start_time": "2023-11-24T14:13:40.657Z"
   },
   {
    "duration": 154,
    "start_time": "2023-11-24T14:13:47.306Z"
   },
   {
    "duration": 14,
    "start_time": "2023-11-24T14:15:43.277Z"
   },
   {
    "duration": 123,
    "start_time": "2023-11-24T14:17:04.077Z"
   },
   {
    "duration": 25,
    "start_time": "2023-11-24T14:19:13.870Z"
   },
   {
    "duration": 182,
    "start_time": "2023-11-24T14:20:42.562Z"
   },
   {
    "duration": 282,
    "start_time": "2023-11-24T14:21:53.556Z"
   },
   {
    "duration": 10,
    "start_time": "2023-11-24T14:33:31.189Z"
   },
   {
    "duration": 8,
    "start_time": "2023-11-24T14:33:48.776Z"
   },
   {
    "duration": 7,
    "start_time": "2023-11-24T14:34:02.707Z"
   },
   {
    "duration": 8,
    "start_time": "2023-11-24T14:34:30.909Z"
   },
   {
    "duration": 1637,
    "start_time": "2023-11-24T14:34:37.234Z"
   },
   {
    "duration": 1564,
    "start_time": "2023-11-24T14:34:46.249Z"
   },
   {
    "duration": 9,
    "start_time": "2023-11-24T14:35:13.502Z"
   },
   {
    "duration": 630,
    "start_time": "2023-11-24T14:57:46.426Z"
   },
   {
    "duration": 97,
    "start_time": "2023-11-24T14:57:47.058Z"
   },
   {
    "duration": 35,
    "start_time": "2023-11-24T14:57:47.157Z"
   },
   {
    "duration": 14,
    "start_time": "2023-11-24T14:57:47.194Z"
   },
   {
    "duration": 3703,
    "start_time": "2023-11-24T14:57:47.209Z"
   },
   {
    "duration": 10,
    "start_time": "2023-11-24T14:57:50.913Z"
   },
   {
    "duration": 27,
    "start_time": "2023-11-24T14:57:50.925Z"
   },
   {
    "duration": 8,
    "start_time": "2023-11-24T14:57:50.954Z"
   },
   {
    "duration": 4,
    "start_time": "2023-11-24T14:57:50.963Z"
   },
   {
    "duration": 10,
    "start_time": "2023-11-24T14:57:50.969Z"
   },
   {
    "duration": 14,
    "start_time": "2023-11-24T14:57:50.981Z"
   },
   {
    "duration": 41,
    "start_time": "2023-11-24T14:57:50.996Z"
   },
   {
    "duration": 12,
    "start_time": "2023-11-24T14:57:51.064Z"
   },
   {
    "duration": 7,
    "start_time": "2023-11-24T14:57:51.078Z"
   },
   {
    "duration": 17,
    "start_time": "2023-11-24T14:57:51.086Z"
   },
   {
    "duration": 10,
    "start_time": "2023-11-24T14:57:51.105Z"
   },
   {
    "duration": 25,
    "start_time": "2023-11-24T14:57:51.117Z"
   },
   {
    "duration": 24,
    "start_time": "2023-11-24T14:57:51.144Z"
   },
   {
    "duration": 378,
    "start_time": "2023-11-24T14:57:51.170Z"
   },
   {
    "duration": 4,
    "start_time": "2023-11-24T14:57:51.550Z"
   },
   {
    "duration": 461,
    "start_time": "2023-11-24T14:57:51.555Z"
   },
   {
    "duration": 8,
    "start_time": "2023-11-24T14:57:52.018Z"
   },
   {
    "duration": 117,
    "start_time": "2023-11-24T14:57:52.027Z"
   },
   {
    "duration": 202,
    "start_time": "2023-11-24T14:57:52.145Z"
   },
   {
    "duration": 17,
    "start_time": "2023-11-24T14:57:52.349Z"
   },
   {
    "duration": 121,
    "start_time": "2023-11-24T14:57:52.367Z"
   },
   {
    "duration": 180,
    "start_time": "2023-11-24T14:57:52.490Z"
   },
   {
    "duration": 8,
    "start_time": "2023-11-24T14:57:52.674Z"
   },
   {
    "duration": 130,
    "start_time": "2023-11-24T14:57:52.684Z"
   },
   {
    "duration": 153,
    "start_time": "2023-11-24T14:57:52.816Z"
   },
   {
    "duration": 9,
    "start_time": "2023-11-24T14:57:52.970Z"
   },
   {
    "duration": 119,
    "start_time": "2023-11-24T14:57:52.980Z"
   },
   {
    "duration": 186,
    "start_time": "2023-11-24T14:57:53.100Z"
   },
   {
    "duration": 8,
    "start_time": "2023-11-24T14:57:53.288Z"
   },
   {
    "duration": 182,
    "start_time": "2023-11-24T14:57:53.298Z"
   },
   {
    "duration": 138,
    "start_time": "2023-11-24T14:57:53.482Z"
   },
   {
    "duration": 8,
    "start_time": "2023-11-24T14:57:53.622Z"
   },
   {
    "duration": 128,
    "start_time": "2023-11-24T14:57:53.632Z"
   },
   {
    "duration": 142,
    "start_time": "2023-11-24T14:57:53.765Z"
   },
   {
    "duration": 107,
    "start_time": "2023-11-24T14:57:53.909Z"
   },
   {
    "duration": 8,
    "start_time": "2023-11-24T14:57:54.018Z"
   },
   {
    "duration": 117,
    "start_time": "2023-11-24T14:57:54.027Z"
   },
   {
    "duration": 134,
    "start_time": "2023-11-24T14:57:54.145Z"
   },
   {
    "duration": 9,
    "start_time": "2023-11-24T14:57:54.281Z"
   },
   {
    "duration": 119,
    "start_time": "2023-11-24T14:57:54.291Z"
   },
   {
    "duration": 165,
    "start_time": "2023-11-24T14:57:54.412Z"
   },
   {
    "duration": 8,
    "start_time": "2023-11-24T14:57:54.578Z"
   },
   {
    "duration": 109,
    "start_time": "2023-11-24T14:57:54.588Z"
   },
   {
    "duration": 178,
    "start_time": "2023-11-24T14:57:54.699Z"
   },
   {
    "duration": 92,
    "start_time": "2023-11-24T14:57:54.878Z"
   },
   {
    "duration": 8,
    "start_time": "2023-11-24T14:57:54.972Z"
   },
   {
    "duration": 186,
    "start_time": "2023-11-24T14:57:54.981Z"
   },
   {
    "duration": 172,
    "start_time": "2023-11-24T14:57:55.169Z"
   },
   {
    "duration": 182,
    "start_time": "2023-11-24T14:57:55.343Z"
   },
   {
    "duration": 147,
    "start_time": "2023-11-24T14:57:55.527Z"
   },
   {
    "duration": 5,
    "start_time": "2023-11-24T14:57:55.676Z"
   },
   {
    "duration": 147,
    "start_time": "2023-11-24T14:57:55.682Z"
   },
   {
    "duration": 5,
    "start_time": "2023-11-24T14:57:55.831Z"
   },
   {
    "duration": 142,
    "start_time": "2023-11-24T14:57:55.837Z"
   },
   {
    "duration": 5,
    "start_time": "2023-11-24T14:57:55.980Z"
   },
   {
    "duration": 136,
    "start_time": "2023-11-24T14:57:55.986Z"
   },
   {
    "duration": 122,
    "start_time": "2023-11-24T14:57:56.123Z"
   },
   {
    "duration": 139,
    "start_time": "2023-11-24T14:57:56.247Z"
   },
   {
    "duration": 163,
    "start_time": "2023-11-24T14:57:56.387Z"
   },
   {
    "duration": 157,
    "start_time": "2023-11-24T14:57:56.551Z"
   },
   {
    "duration": 251,
    "start_time": "2023-11-24T14:57:56.709Z"
   },
   {
    "duration": 140,
    "start_time": "2023-11-24T14:57:56.962Z"
   },
   {
    "duration": 22,
    "start_time": "2023-11-24T14:57:57.104Z"
   },
   {
    "duration": 195,
    "start_time": "2023-11-24T14:57:57.127Z"
   },
   {
    "duration": 299,
    "start_time": "2023-11-24T14:57:57.324Z"
   },
   {
    "duration": 633,
    "start_time": "2023-11-24T16:17:36.099Z"
   },
   {
    "duration": 318,
    "start_time": "2023-11-24T16:17:36.734Z"
   },
   {
    "duration": 36,
    "start_time": "2023-11-24T16:17:37.054Z"
   },
   {
    "duration": 14,
    "start_time": "2023-11-24T16:17:37.092Z"
   },
   {
    "duration": 3771,
    "start_time": "2023-11-24T16:17:37.108Z"
   },
   {
    "duration": 10,
    "start_time": "2023-11-24T16:17:40.881Z"
   },
   {
    "duration": 6,
    "start_time": "2023-11-24T16:17:40.893Z"
   },
   {
    "duration": 6,
    "start_time": "2023-11-24T16:17:40.901Z"
   },
   {
    "duration": 3,
    "start_time": "2023-11-24T16:17:40.909Z"
   },
   {
    "duration": 10,
    "start_time": "2023-11-24T16:17:40.914Z"
   },
   {
    "duration": 53,
    "start_time": "2023-11-24T16:17:40.925Z"
   },
   {
    "duration": 42,
    "start_time": "2023-11-24T16:17:40.979Z"
   },
   {
    "duration": 11,
    "start_time": "2023-11-24T16:17:41.022Z"
   },
   {
    "duration": 34,
    "start_time": "2023-11-24T16:17:41.035Z"
   },
   {
    "duration": 9,
    "start_time": "2023-11-24T16:17:41.070Z"
   },
   {
    "duration": 7,
    "start_time": "2023-11-24T16:17:41.082Z"
   },
   {
    "duration": 30,
    "start_time": "2023-11-24T16:17:41.091Z"
   },
   {
    "duration": 6,
    "start_time": "2023-11-24T16:17:41.123Z"
   },
   {
    "duration": 398,
    "start_time": "2023-11-24T16:17:41.131Z"
   },
   {
    "duration": 6,
    "start_time": "2023-11-24T16:17:41.531Z"
   },
   {
    "duration": 494,
    "start_time": "2023-11-24T16:17:41.539Z"
   },
   {
    "duration": 9,
    "start_time": "2023-11-24T16:17:42.034Z"
   },
   {
    "duration": 123,
    "start_time": "2023-11-24T16:17:42.044Z"
   },
   {
    "duration": 190,
    "start_time": "2023-11-24T16:17:42.169Z"
   },
   {
    "duration": 13,
    "start_time": "2023-11-24T16:17:42.360Z"
   },
   {
    "duration": 123,
    "start_time": "2023-11-24T16:17:42.375Z"
   },
   {
    "duration": 181,
    "start_time": "2023-11-24T16:17:42.500Z"
   },
   {
    "duration": 9,
    "start_time": "2023-11-24T16:17:42.685Z"
   },
   {
    "duration": 130,
    "start_time": "2023-11-24T16:17:42.696Z"
   },
   {
    "duration": 160,
    "start_time": "2023-11-24T16:17:42.828Z"
   },
   {
    "duration": 9,
    "start_time": "2023-11-24T16:17:42.990Z"
   },
   {
    "duration": 124,
    "start_time": "2023-11-24T16:17:43.000Z"
   },
   {
    "duration": 187,
    "start_time": "2023-11-24T16:17:43.126Z"
   },
   {
    "duration": 8,
    "start_time": "2023-11-24T16:17:43.315Z"
   },
   {
    "duration": 187,
    "start_time": "2023-11-24T16:17:43.325Z"
   },
   {
    "duration": 139,
    "start_time": "2023-11-24T16:17:43.513Z"
   },
   {
    "duration": 16,
    "start_time": "2023-11-24T16:17:43.654Z"
   },
   {
    "duration": 130,
    "start_time": "2023-11-24T16:17:43.671Z"
   },
   {
    "duration": 147,
    "start_time": "2023-11-24T16:17:43.803Z"
   },
   {
    "duration": 123,
    "start_time": "2023-11-24T16:17:43.952Z"
   },
   {
    "duration": 9,
    "start_time": "2023-11-24T16:17:44.077Z"
   },
   {
    "duration": 123,
    "start_time": "2023-11-24T16:17:44.087Z"
   },
   {
    "duration": 145,
    "start_time": "2023-11-24T16:17:44.211Z"
   },
   {
    "duration": 15,
    "start_time": "2023-11-24T16:17:44.358Z"
   },
   {
    "duration": 126,
    "start_time": "2023-11-24T16:17:44.375Z"
   },
   {
    "duration": 179,
    "start_time": "2023-11-24T16:17:44.503Z"
   },
   {
    "duration": 8,
    "start_time": "2023-11-24T16:17:44.684Z"
   },
   {
    "duration": 116,
    "start_time": "2023-11-24T16:17:44.694Z"
   },
   {
    "duration": 177,
    "start_time": "2023-11-24T16:17:44.812Z"
   },
   {
    "duration": 91,
    "start_time": "2023-11-24T16:17:44.991Z"
   },
   {
    "duration": 24,
    "start_time": "2023-11-24T16:17:45.084Z"
   },
   {
    "duration": 187,
    "start_time": "2023-11-24T16:17:45.110Z"
   },
   {
    "duration": 160,
    "start_time": "2023-11-24T16:17:45.298Z"
   },
   {
    "duration": 185,
    "start_time": "2023-11-24T16:17:45.464Z"
   },
   {
    "duration": 154,
    "start_time": "2023-11-24T16:17:45.651Z"
   },
   {
    "duration": 5,
    "start_time": "2023-11-24T16:17:45.807Z"
   },
   {
    "duration": 165,
    "start_time": "2023-11-24T16:17:45.813Z"
   },
   {
    "duration": 5,
    "start_time": "2023-11-24T16:17:45.980Z"
   },
   {
    "duration": 168,
    "start_time": "2023-11-24T16:17:45.986Z"
   },
   {
    "duration": 10,
    "start_time": "2023-11-24T16:17:46.156Z"
   },
   {
    "duration": 139,
    "start_time": "2023-11-24T16:17:46.168Z"
   },
   {
    "duration": 126,
    "start_time": "2023-11-24T16:17:46.309Z"
   },
   {
    "duration": 144,
    "start_time": "2023-11-24T16:17:46.436Z"
   },
   {
    "duration": 170,
    "start_time": "2023-11-24T16:17:46.582Z"
   },
   {
    "duration": 177,
    "start_time": "2023-11-24T16:17:46.754Z"
   },
   {
    "duration": 262,
    "start_time": "2023-11-24T16:17:46.933Z"
   },
   {
    "duration": 141,
    "start_time": "2023-11-24T16:17:47.196Z"
   },
   {
    "duration": 31,
    "start_time": "2023-11-24T16:17:47.339Z"
   },
   {
    "duration": 188,
    "start_time": "2023-11-24T16:17:47.371Z"
   },
   {
    "duration": 295,
    "start_time": "2023-11-24T16:17:47.565Z"
   },
   {
    "duration": 82,
    "start_time": "2023-11-24T16:18:36.439Z"
   },
   {
    "duration": 633,
    "start_time": "2024-04-04T18:20:14.774Z"
   },
   {
    "duration": 238,
    "start_time": "2024-04-04T18:20:15.409Z"
   },
   {
    "duration": 37,
    "start_time": "2024-04-04T18:20:15.649Z"
   },
   {
    "duration": 14,
    "start_time": "2024-04-04T18:20:15.688Z"
   },
   {
    "duration": 3656,
    "start_time": "2024-04-04T18:20:15.704Z"
   },
   {
    "duration": 9,
    "start_time": "2024-04-04T18:20:19.361Z"
   },
   {
    "duration": 8,
    "start_time": "2024-04-04T18:20:19.372Z"
   },
   {
    "duration": 10,
    "start_time": "2024-04-04T18:20:19.381Z"
   },
   {
    "duration": 3,
    "start_time": "2024-04-04T18:20:19.392Z"
   },
   {
    "duration": 11,
    "start_time": "2024-04-04T18:20:19.396Z"
   },
   {
    "duration": 14,
    "start_time": "2024-04-04T18:20:19.408Z"
   },
   {
    "duration": 233,
    "start_time": "2024-04-04T18:20:19.423Z"
   },
   {
    "duration": 16,
    "start_time": "2024-04-04T18:20:19.657Z"
   },
   {
    "duration": 8,
    "start_time": "2024-04-04T18:20:19.675Z"
   },
   {
    "duration": 17,
    "start_time": "2024-04-04T18:20:19.684Z"
   },
   {
    "duration": 8,
    "start_time": "2024-04-04T18:20:22.986Z"
   },
   {
    "duration": 16,
    "start_time": "2024-04-04T18:20:28.907Z"
   }
  ],
  "kernelspec": {
   "display_name": "Python 3 (ipykernel)",
   "language": "python",
   "name": "python3"
  },
  "language_info": {
   "codemirror_mode": {
    "name": "ipython",
    "version": 3
   },
   "file_extension": ".py",
   "mimetype": "text/x-python",
   "name": "python",
   "nbconvert_exporter": "python",
   "pygments_lexer": "ipython3",
   "version": "3.9.5"
  },
  "toc": {
   "base_numbering": 1,
   "nav_menu": {},
   "number_sections": true,
   "sideBar": true,
   "skip_h1_title": true,
   "title_cell": "Table of Contents",
   "title_sidebar": "Contents",
   "toc_cell": false,
   "toc_position": {},
   "toc_section_display": true,
   "toc_window_display": false
  }
 },
 "nbformat": 4,
 "nbformat_minor": 2
}
